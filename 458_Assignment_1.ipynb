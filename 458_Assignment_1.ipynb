{
  "nbformat": 4,
  "nbformat_minor": 0,
  "metadata": {
    "kernelspec": {
      "display_name": "Python 3",
      "language": "python",
      "name": "python3"
    },
    "language_info": {
      "codemirror_mode": {
        "name": "ipython",
        "version": 3
      },
      "file_extension": ".py",
      "mimetype": "text/x-python",
      "name": "python",
      "nbconvert_exporter": "python",
      "pygments_lexer": "ipython3",
      "version": "3.6.10"
    },
    "colab": {
      "name": "458 - Assignment 1.ipynb",
      "provenance": [],
      "collapsed_sections": [
        "u6yIJr-HcpwJ"
      ],
      "include_colab_link": true
    }
  },
  "cells": [
    {
      "cell_type": "markdown",
      "metadata": {
        "id": "view-in-github",
        "colab_type": "text"
      },
      "source": [
        "<a href=\"https://colab.research.google.com/github/demelere/Image-Classification/blob/master/458_Assignment_1.ipynb\" target=\"_parent\"><img src=\"https://colab.research.google.com/assets/colab-badge.svg\" alt=\"Open In Colab\"/></a>"
      ]
    },
    {
      "cell_type": "markdown",
      "metadata": {
        "id": "1ws5picNXn5-",
        "colab_type": "text"
      },
      "source": [
        "# 1. Setup"
      ]
    },
    {
      "cell_type": "code",
      "metadata": {
        "id": "SDPymBSCcpbC",
        "colab_type": "code",
        "colab": {
          "base_uri": "https://localhost:8080/",
          "height": 71
        },
        "outputId": "036b0ba1-f7e3-42ba-aead-16a42864bd99"
      },
      "source": [
        "import numpy as np\n",
        "import pandas as pd\n",
        "import os\n",
        "import time\n",
        "\n",
        "import tensorflow as tf\n",
        "from tensorflow import keras\n",
        "from tensorflow.keras import models\n",
        "from tensorflow.keras import layers\n",
        "from tensorflow.keras.wrappers.scikit_learn import KerasClassifier\n",
        "from sklearn.metrics import confusion_matrix\n",
        "from sklearn.model_selection import KFold, GridSearchCV\n",
        "from sklearn.ensemble import RandomForestClassifier\n",
        "from sklearn.decomposition import PCA\n",
        "\n",
        "%matplotlib inline\n",
        "import matplotlib.pyplot as plt\n",
        "import seaborn as sns"
      ],
      "execution_count": 1,
      "outputs": [
        {
          "output_type": "stream",
          "text": [
            "/usr/local/lib/python3.6/dist-packages/statsmodels/tools/_testing.py:19: FutureWarning: pandas.util.testing is deprecated. Use the functions in the public API at pandas.testing instead.\n",
            "  import pandas.util.testing as tm\n"
          ],
          "name": "stderr"
        }
      ]
    },
    {
      "cell_type": "code",
      "metadata": {
        "id": "p9EJ0p_vcpbQ",
        "colab_type": "code",
        "colab": {
          "base_uri": "https://localhost:8080/",
          "height": 51
        },
        "outputId": "03090769-d440-464c-e502-e16087aac6f4"
      },
      "source": [
        "# Check versions\n",
        "print(keras.__version__)\n",
        "print(tf.__version__)"
      ],
      "execution_count": 2,
      "outputs": [
        {
          "output_type": "stream",
          "text": [
            "2.3.0-tf\n",
            "2.2.0\n"
          ],
          "name": "stdout"
        }
      ]
    },
    {
      "cell_type": "code",
      "metadata": {
        "id": "86SSjGm_cpbb",
        "colab_type": "code",
        "colab": {}
      },
      "source": [
        "tf.compat.v1.disable_eager_execution() "
      ],
      "execution_count": 3,
      "outputs": []
    },
    {
      "cell_type": "code",
      "metadata": {
        "id": "8V7SPOxUcpck",
        "colab_type": "code",
        "colab": {}
      },
      "source": [
        "keras.backend.clear_session()\n",
        "np.random.seed(42)\n",
        "tf.random.set_seed(42)"
      ],
      "execution_count": 4,
      "outputs": []
    },
    {
      "cell_type": "markdown",
      "metadata": {
        "id": "wF9BCzVGcpdl",
        "colab_type": "text"
      },
      "source": [
        "# Data import and transformation"
      ]
    },
    {
      "cell_type": "code",
      "metadata": {
        "id": "7LNgtH41cpdm",
        "colab_type": "code",
        "colab": {
          "base_uri": "https://localhost:8080/",
          "height": 51
        },
        "outputId": "ad958ae0-bbfd-4eeb-940a-de6d0c2ff436"
      },
      "source": [
        "# Import data from Keras\n",
        "from tensorflow.keras.datasets import mnist\n",
        "(train_images, train_labels), (test_images, test_labels) = mnist.load_data()"
      ],
      "execution_count": 5,
      "outputs": [
        {
          "output_type": "stream",
          "text": [
            "Downloading data from https://storage.googleapis.com/tensorflow/tf-keras-datasets/mnist.npz\n",
            "11493376/11490434 [==============================] - 0s 0us/step\n"
          ],
          "name": "stdout"
        }
      ]
    },
    {
      "cell_type": "code",
      "metadata": {
        "id": "i_bcOKPBcpds",
        "colab_type": "code",
        "colab": {
          "base_uri": "https://localhost:8080/",
          "height": 34
        },
        "outputId": "f0a96a78-091b-44ad-bb23-14402c235b06"
      },
      "source": [
        "# Check shapes\n",
        "train_images.shape, test_images.shape, test_labels.shape, test_labels.shape"
      ],
      "execution_count": 6,
      "outputs": [
        {
          "output_type": "execute_result",
          "data": {
            "text/plain": [
              "((60000, 28, 28), (10000, 28, 28), (10000,), (10000,))"
            ]
          },
          "metadata": {
            "tags": []
          },
          "execution_count": 6
        }
      ]
    },
    {
      "cell_type": "code",
      "metadata": {
        "id": "1Vanfceocpd1",
        "colab_type": "code",
        "colab": {}
      },
      "source": [
        "# Reshape into arrays\n",
        "train_images = train_images.reshape((60000, 28 * 28))\n",
        "train_images = train_images.astype('float32') / 255\n",
        "\n",
        "test_images = test_images.reshape((10000, 28 * 28))\n",
        "test_images = test_images.astype('float32') / 255"
      ],
      "execution_count": 7,
      "outputs": []
    },
    {
      "cell_type": "code",
      "metadata": {
        "id": "4sXxfbbJcpd_",
        "colab_type": "code",
        "colab": {}
      },
      "source": [
        "# Create training set\n",
        "val_images, train_images = train_images[:5000], train_images[5000:] \n",
        "val_labels, train_labels = train_labels[:5000], train_labels[5000:]"
      ],
      "execution_count": 8,
      "outputs": []
    },
    {
      "cell_type": "markdown",
      "metadata": {
        "id": "VSbR0X2tcpeF",
        "colab_type": "text"
      },
      "source": [
        "# 1. Experiment 1"
      ]
    },
    {
      "cell_type": "markdown",
      "metadata": {
        "id": "8jHmd0mlYUBd",
        "colab_type": "text"
      },
      "source": [
        "## 1a.  Build and Compile Model"
      ]
    },
    {
      "cell_type": "code",
      "metadata": {
        "id": "M0rCcNxmcpeH",
        "colab_type": "code",
        "colab": {
          "base_uri": "https://localhost:8080/",
          "height": 88
        },
        "outputId": "756e3fbe-1d66-4dd0-c824-13511de40654"
      },
      "source": [
        "# Define model using Sequential class\n",
        "# 2 Dense layers: hidden layer w/1 node, 2nd layer 10-way softmax layer\n",
        "# reLu activation\n",
        "model_1 = models.Sequential()\n",
        "model_1.add(layers.Dense(1, activation='relu', input_shape=(28 * 28,)))\n",
        "model_1.add(layers.Dense(10, activation='softmax')) "
      ],
      "execution_count": 9,
      "outputs": [
        {
          "output_type": "stream",
          "text": [
            "WARNING:tensorflow:From /usr/local/lib/python3.6/dist-packages/tensorflow/python/ops/resource_variable_ops.py:1666: calling BaseResourceVariable.__init__ (from tensorflow.python.ops.resource_variable_ops) with constraint is deprecated and will be removed in a future version.\n",
            "Instructions for updating:\n",
            "If using Keras pass *_constraint arguments to layers.\n"
          ],
          "name": "stdout"
        }
      ]
    },
    {
      "cell_type": "code",
      "metadata": {
        "id": "qj41aQbqcpea",
        "colab_type": "code",
        "colab": {
          "base_uri": "https://localhost:8080/",
          "height": 221
        },
        "outputId": "9ad39255-32d4-4fff-cc36-9ebe3fb55aec"
      },
      "source": [
        "# Model summary\n",
        "model_1.summary()"
      ],
      "execution_count": 12,
      "outputs": [
        {
          "output_type": "stream",
          "text": [
            "Model: \"sequential\"\n",
            "_________________________________________________________________\n",
            "Layer (type)                 Output Shape              Param #   \n",
            "=================================================================\n",
            "dense (Dense)                (None, 1)                 785       \n",
            "_________________________________________________________________\n",
            "dense_1 (Dense)              (None, 10)                20        \n",
            "=================================================================\n",
            "Total params: 805\n",
            "Trainable params: 805\n",
            "Non-trainable params: 0\n",
            "_________________________________________________________________\n"
          ],
          "name": "stdout"
        }
      ]
    },
    {
      "cell_type": "code",
      "metadata": {
        "id": "JhIYY0dvcpen",
        "colab_type": "code",
        "colab": {}
      },
      "source": [
        "# Compile model\n",
        "# add loss function, optimizer, and performance metric\n",
        "model_1.compile(loss='sparse_categorical_crossentropy', optimizer='rmsprop', metrics=['accuracy'])"
      ],
      "execution_count": 15,
      "outputs": []
    },
    {
      "cell_type": "markdown",
      "metadata": {
        "id": "hvwM6sTgcpfp",
        "colab_type": "text"
      },
      "source": [
        "## 1b. Train Model"
      ]
    },
    {
      "cell_type": "code",
      "metadata": {
        "id": "v47tDYHgcpfp",
        "colab_type": "code",
        "colab": {
          "base_uri": "https://localhost:8080/",
          "height": 1000
        },
        "outputId": "57d0ace5-22b3-4c32-9743-a53970efee5f"
      },
      "source": [
        "# Train the model by calling fit method\n",
        "start_time = time.time()\n",
        "history = model_1.fit(train_images, train_labels, validation_data=(val_images, val_labels), \n",
        "                      epochs=30)\n",
        "\n",
        "elapsed_time = time.time() - start_time\n",
        "print('--------------------------')\n",
        "print('Training time in seconds: ', round(elapsed_time,2))\n",
        "print('--------------------------')\n"
      ],
      "execution_count": 16,
      "outputs": [
        {
          "output_type": "stream",
          "text": [
            "Train on 55000 samples, validate on 5000 samples\n",
            "Epoch 1/30\n",
            "55000/55000 [==============================] - 2s 33us/sample - loss: 1.5341 - accuracy: 0.4049 - val_loss: 1.5307 - val_accuracy: 0.4158\n",
            "Epoch 2/30\n",
            "55000/55000 [==============================] - 2s 33us/sample - loss: 1.5343 - accuracy: 0.4073 - val_loss: 1.5314 - val_accuracy: 0.4194\n",
            "Epoch 3/30\n",
            "55000/55000 [==============================] - 2s 32us/sample - loss: 1.5338 - accuracy: 0.4083 - val_loss: 1.5336 - val_accuracy: 0.4210\n",
            "Epoch 4/30\n",
            "55000/55000 [==============================] - 2s 32us/sample - loss: 1.5343 - accuracy: 0.4077 - val_loss: 1.5321 - val_accuracy: 0.4184\n",
            "Epoch 5/30\n",
            "55000/55000 [==============================] - 2s 33us/sample - loss: 1.5339 - accuracy: 0.4045 - val_loss: 1.5356 - val_accuracy: 0.4182\n",
            "Epoch 6/30\n",
            "55000/55000 [==============================] - 2s 33us/sample - loss: 1.5339 - accuracy: 0.4047 - val_loss: 1.5328 - val_accuracy: 0.4166\n",
            "Epoch 7/30\n",
            "55000/55000 [==============================] - 2s 33us/sample - loss: 1.5339 - accuracy: 0.4073 - val_loss: 1.5377 - val_accuracy: 0.4158\n",
            "Epoch 8/30\n",
            "55000/55000 [==============================] - 2s 32us/sample - loss: 1.5347 - accuracy: 0.4069 - val_loss: 1.5362 - val_accuracy: 0.4120\n",
            "Epoch 9/30\n",
            "55000/55000 [==============================] - 2s 32us/sample - loss: 1.5348 - accuracy: 0.4073 - val_loss: 1.5349 - val_accuracy: 0.4132\n",
            "Epoch 10/30\n",
            "55000/55000 [==============================] - 2s 32us/sample - loss: 1.5344 - accuracy: 0.4057 - val_loss: 1.5371 - val_accuracy: 0.4164\n",
            "Epoch 11/30\n",
            "55000/55000 [==============================] - 2s 34us/sample - loss: 1.5347 - accuracy: 0.4083 - val_loss: 1.5355 - val_accuracy: 0.4144\n",
            "Epoch 12/30\n",
            "55000/55000 [==============================] - 2s 33us/sample - loss: 1.5350 - accuracy: 0.4069 - val_loss: 1.5489 - val_accuracy: 0.4194\n",
            "Epoch 13/30\n",
            "55000/55000 [==============================] - 2s 34us/sample - loss: 1.5350 - accuracy: 0.4077 - val_loss: 1.5353 - val_accuracy: 0.4194\n",
            "Epoch 14/30\n",
            "55000/55000 [==============================] - 2s 32us/sample - loss: 1.5353 - accuracy: 0.4068 - val_loss: 1.5362 - val_accuracy: 0.4258\n",
            "Epoch 15/30\n",
            "55000/55000 [==============================] - 2s 32us/sample - loss: 1.5354 - accuracy: 0.4082 - val_loss: 1.5339 - val_accuracy: 0.4134\n",
            "Epoch 16/30\n",
            "55000/55000 [==============================] - 2s 32us/sample - loss: 1.5362 - accuracy: 0.4070 - val_loss: 1.5406 - val_accuracy: 0.4060\n",
            "Epoch 17/30\n",
            "55000/55000 [==============================] - 2s 34us/sample - loss: 1.5360 - accuracy: 0.4060 - val_loss: 1.5397 - val_accuracy: 0.4072\n",
            "Epoch 18/30\n",
            "55000/55000 [==============================] - 2s 33us/sample - loss: 1.5366 - accuracy: 0.4064 - val_loss: 1.5404 - val_accuracy: 0.4186\n",
            "Epoch 19/30\n",
            "55000/55000 [==============================] - 2s 31us/sample - loss: 1.5362 - accuracy: 0.4091 - val_loss: 1.5425 - val_accuracy: 0.4156\n",
            "Epoch 20/30\n",
            "55000/55000 [==============================] - 2s 32us/sample - loss: 1.5363 - accuracy: 0.4081 - val_loss: 1.5430 - val_accuracy: 0.4196\n",
            "Epoch 21/30\n",
            "55000/55000 [==============================] - 2s 33us/sample - loss: 1.5372 - accuracy: 0.4095 - val_loss: 1.5437 - val_accuracy: 0.4140\n",
            "Epoch 22/30\n",
            "55000/55000 [==============================] - 2s 32us/sample - loss: 1.5364 - accuracy: 0.4088 - val_loss: 1.5406 - val_accuracy: 0.4156\n",
            "Epoch 23/30\n",
            "55000/55000 [==============================] - 2s 31us/sample - loss: 1.5366 - accuracy: 0.4084 - val_loss: 1.5425 - val_accuracy: 0.4098\n",
            "Epoch 24/30\n",
            "55000/55000 [==============================] - 2s 33us/sample - loss: 1.5369 - accuracy: 0.4075 - val_loss: 1.5402 - val_accuracy: 0.4156\n",
            "Epoch 25/30\n",
            "55000/55000 [==============================] - 2s 32us/sample - loss: 1.5372 - accuracy: 0.4079 - val_loss: 1.5397 - val_accuracy: 0.4228\n",
            "Epoch 26/30\n",
            "55000/55000 [==============================] - 2s 35us/sample - loss: 1.5375 - accuracy: 0.4088 - val_loss: 1.5416 - val_accuracy: 0.4190\n",
            "Epoch 27/30\n",
            "55000/55000 [==============================] - 2s 34us/sample - loss: 1.5372 - accuracy: 0.4081 - val_loss: 1.5455 - val_accuracy: 0.4196\n",
            "Epoch 28/30\n",
            "55000/55000 [==============================] - 2s 33us/sample - loss: 1.5377 - accuracy: 0.4094 - val_loss: 1.5419 - val_accuracy: 0.4272\n",
            "Epoch 29/30\n",
            "55000/55000 [==============================] - 2s 33us/sample - loss: 1.5377 - accuracy: 0.4092 - val_loss: 1.5415 - val_accuracy: 0.4158\n",
            "Epoch 30/30\n",
            "55000/55000 [==============================] - 2s 33us/sample - loss: 1.5378 - accuracy: 0.4101 - val_loss: 1.5413 - val_accuracy: 0.4138\n",
            "--------------------------\n",
            "Training time in seconds:  54.37\n",
            "--------------------------\n"
          ],
          "name": "stdout"
        }
      ]
    },
    {
      "cell_type": "markdown",
      "metadata": {
        "id": "1nnmPh0Icpft",
        "colab_type": "text"
      },
      "source": [
        "## 1c. Test model"
      ]
    },
    {
      "cell_type": "code",
      "metadata": {
        "id": "EoZ6IRuPcpft",
        "colab_type": "code",
        "colab": {}
      },
      "source": [
        "test_loss, test_acc = model_1.evaluate(test_images, test_labels)"
      ],
      "execution_count": 17,
      "outputs": []
    },
    {
      "cell_type": "code",
      "metadata": {
        "id": "Ku293P11cpf-",
        "colab_type": "code",
        "colab": {
          "base_uri": "https://localhost:8080/",
          "height": 34
        },
        "outputId": "91088682-04e8-4900-9e04-ecea114443a9"
      },
      "source": [
        "print(f'test accuracy: {test_acc}, test loss: {test_loss}')"
      ],
      "execution_count": 18,
      "outputs": [
        {
          "output_type": "stream",
          "text": [
            "test accuracy: 0.40790000557899475, test loss: 1.5781789979934693\n"
          ],
          "name": "stdout"
        }
      ]
    },
    {
      "cell_type": "code",
      "metadata": {
        "id": "7NSRS10pcpgO",
        "colab_type": "code",
        "colab": {
          "base_uri": "https://localhost:8080/",
          "height": 34
        },
        "outputId": "984c24a9-af5b-4741-e043-86a3b6f4aa7e"
      },
      "source": [
        "history_dict = history.history\n",
        "history_dict.keys()"
      ],
      "execution_count": 21,
      "outputs": [
        {
          "output_type": "execute_result",
          "data": {
            "text/plain": [
              "dict_keys(['loss', 'accuracy', 'val_loss', 'val_accuracy'])"
            ]
          },
          "metadata": {
            "tags": []
          },
          "execution_count": 21
        }
      ]
    },
    {
      "cell_type": "code",
      "metadata": {
        "id": "RfucC_Hpcpgu",
        "colab_type": "code",
        "colab": {
          "base_uri": "https://localhost:8080/",
          "height": 324
        },
        "outputId": "841c9ea6-e591-4803-ceb6-15528497ba4a"
      },
      "source": [
        "# Alternate code for accuracy and loss\n",
        "# Plot learning curves for model\n",
        "pd.DataFrame(history.history).plot(figsize=(8, 5))\n",
        "plt.grid(True)\n",
        "plt.gca().set_ylim(0, 2) # set the vertical range to [0-1]\n",
        "plt.show()"
      ],
      "execution_count": 22,
      "outputs": [
        {
          "output_type": "display_data",
          "data": {
            "image/png": "[encoded data removed]",
            "text/plain": [
              "<Figure size 576x360 with 1 Axes>"
            ]
          },
          "metadata": {
            "tags": [],
            "needs_background": "light"
          }
        }
      ]
    },
    {
      "cell_type": "markdown",
      "metadata": {
        "id": "O0-BU5cOcpg2",
        "colab_type": "text"
      },
      "source": [
        "## 1d. Confusion matrix"
      ]
    },
    {
      "cell_type": "code",
      "metadata": {
        "id": "u55Ok7mpcpg3",
        "colab_type": "code",
        "colab": {}
      },
      "source": [
        "# Assign predicted classes\n",
        "pred_classes = model_1.predict_classes(train_images)"
      ],
      "execution_count": 26,
      "outputs": []
    },
    {
      "cell_type": "code",
      "metadata": {
        "id": "4UZ2HGOncphP",
        "colab_type": "code",
        "colab": {
          "base_uri": "https://localhost:8080/",
          "height": 187
        },
        "outputId": "bdb7018d-cf5a-4a5b-ab48-f88acb458b25"
      },
      "source": [
        "# Create confusion matrix with values\n",
        "conf_mx = confusion_matrix(train_labels,pred_classes)\n",
        "conf_mx"
      ],
      "execution_count": 27,
      "outputs": [
        {
          "output_type": "execute_result",
          "data": {
            "text/plain": [
              "array([[ 377,  479,  560,   44,    3,    0, 3936,    0,   44,    1],\n",
              "       [  22, 5061,  124,  534,   41,   15,  123,    1,  258,    0],\n",
              "       [ 262,  917,  624,  139,   58,    9, 3367,    2,   88,    4],\n",
              "       [  35, 2039,  180, 1288,  434,  111,  393,   28, 1095,   35],\n",
              "       [   5,  113,   22,   99, 3986,  132,   34,   48,  331,  537],\n",
              "       [  28, 1198,  125,  958,  736,  202,  171,   47, 1484,   38],\n",
              "       [  84,  193,  159,   22,    1,    2, 4942,    0,   14,    0],\n",
              "       [   1,   74,   10,   67, 1373,   70,    4, 3614,  207,  295],\n",
              "       [  11, 1613,   84, 1315,  629,  175,   59,   10, 1481,   12],\n",
              "       [   5,   46,   12,   52, 2801,   59,    5, 1526,  142,  806]])"
            ]
          },
          "metadata": {
            "tags": []
          },
          "execution_count": 27
        }
      ]
    },
    {
      "cell_type": "code",
      "metadata": {
        "id": "th9nKxo3cphe",
        "colab_type": "code",
        "colab": {
          "base_uri": "https://localhost:8080/",
          "height": 295
        },
        "outputId": "9616383e-55ff-4505-d343-749cf697b85b"
      },
      "source": [
        "# Plot with values transposed to show actual versus predicted values\n",
        "# m1_cm = confusion_matrix(train_labels, pred_classes)\n",
        "m1_cm_plt=sns.heatmap(conf_mx, square=False, annot=True, fmt='d', cbar=False, cmap=\"Blues\")\n",
        "plt.xlabel('Predicted label')\n",
        "plt.ylabel('Actual label')\n",
        "plt.title(\"Test Confusion Matrix - Model 1\")\n",
        "plt.show();"
      ],
      "execution_count": 28,
      "outputs": [
        {
          "output_type": "display_data",
          "data": {
            "image/png": "[encoded data removed]",
            "text/plain": [
              "<Figure size 432x288 with 1 Axes>"
            ]
          },
          "metadata": {
            "tags": [],
            "needs_background": "light"
          }
        }
      ]
    },
    {
      "cell_type": "code",
      "metadata": {
        "id": "cDezKgKOcphu",
        "colab_type": "code",
        "colab": {}
      },
      "source": [
        "# Plot normalized confusion matrix\n",
        "row_sums = conf_mx.sum(axis=1, keepdims=True)\n",
        "norm_conf_mx = conf_mx / row_sums"
      ],
      "execution_count": 29,
      "outputs": []
    },
    {
      "cell_type": "code",
      "metadata": {
        "id": "eGPAbHFIcph4",
        "colab_type": "code",
        "colab": {
          "base_uri": "https://localhost:8080/",
          "height": 275
        },
        "outputId": "e845787e-7a4f-4a15-ac57-e3214ce49fe5"
      },
      "source": [
        "np.fill_diagonal(norm_conf_mx, 0)\n",
        "plt.matshow(norm_conf_mx, cmap=\"Blues\")\n",
        "plt.show()"
      ],
      "execution_count": 30,
      "outputs": [
        {
          "output_type": "display_data",
          "data": {
            "image/png": "[encoded data removed]",
            "text/plain": [
              "<Figure size 288x288 with 1 Axes>"
            ]
          },
          "metadata": {
            "tags": [],
            "needs_background": "light"
          }
        }
      ]
    },
    {
      "cell_type": "markdown",
      "metadata": {
        "id": "qSujkAIncpiB",
        "colab_type": "text"
      },
      "source": [
        "## 1e. Analyze Errors and Misclassifications"
      ]
    },
    {
      "cell_type": "code",
      "metadata": {
        "id": "cIb03nRScpiC",
        "colab_type": "code",
        "colab": {}
      },
      "source": [
        "# Define function for plotting example digits\n",
        "def plot_digits(instances, images_per_row=10, **options):\n",
        "    size = 28\n",
        "    images_per_row = min(len(instances), images_per_row)\n",
        "    images = [instance.reshape(size,size) for instance in instances]\n",
        "    n_rows = (len(instances) - 1) // images_per_row + 1\n",
        "    row_images = []\n",
        "    n_empty = n_rows * images_per_row - len(instances)\n",
        "    images.append(np.zeros((size, size * n_empty)))\n",
        "    for row in range(n_rows):\n",
        "        rimages = images[row * images_per_row : (row + 1) * images_per_row]\n",
        "        row_images.append(np.concatenate(rimages, axis=1))\n",
        "    image = np.concatenate(row_images, axis=0)\n",
        "    plt.imshow(image, cmap = 'binary', **options)\n",
        "    plt.axis(\"off\")"
      ],
      "execution_count": 31,
      "outputs": []
    },
    {
      "cell_type": "markdown",
      "metadata": {
        "id": "z3wC9bdwcpir",
        "colab_type": "text"
      },
      "source": [
        " ## 1f.  Analyze Activation Values"
      ]
    },
    {
      "cell_type": "code",
      "metadata": {
        "id": "UmrJAwL5cpis",
        "colab_type": "code",
        "colab": {
          "base_uri": "https://localhost:8080/",
          "height": 68
        },
        "outputId": "6ce656d9-4eeb-40da-e711-aa8fa43d4e12"
      },
      "source": [
        "# Activation values of the hidden nodes\n",
        "# Extract the outputs of the 2 layers\n",
        "layer_outputs = [layer.output for layer in model_1.layers]\n",
        "\n",
        "# Create a model that will return these outputs, given the model input\n",
        "activation_model_1 = models.Model(inputs=model_1.input, outputs=layer_outputs)\n",
        "\n",
        "# Print a description of the layers\n",
        "print(f\"There are {len(layer_outputs)} layers\")\n",
        "layer_outputs"
      ],
      "execution_count": 33,
      "outputs": [
        {
          "output_type": "stream",
          "text": [
            "There are 2 layers\n"
          ],
          "name": "stdout"
        },
        {
          "output_type": "execute_result",
          "data": {
            "text/plain": [
              "[<tf.Tensor 'dense/Relu:0' shape=(None, 1) dtype=float32>,\n",
              " <tf.Tensor 'dense_1/Softmax:0' shape=(None, 10) dtype=float32>]"
            ]
          },
          "metadata": {
            "tags": []
          },
          "execution_count": 33
        }
      ]
    },
    {
      "cell_type": "code",
      "metadata": {
        "id": "N7Sx8-7ccpjN",
        "colab_type": "code",
        "colab": {
          "base_uri": "https://localhost:8080/",
          "height": 34
        },
        "outputId": "bf357477-deb3-4d29-c1bf-7e78e9952e74"
      },
      "source": [
        "# Get the output of the hidden node for each of the 55000 training images\n",
        "activations = activation_model_1.predict(train_images)\n",
        "hidden_layer_activation = activations[0]\n",
        "hidden_layer_activation.shape   #  hidden node has one activation value per training image"
      ],
      "execution_count": 34,
      "outputs": [
        {
          "output_type": "execute_result",
          "data": {
            "text/plain": [
              "(55000, 1)"
            ]
          },
          "metadata": {
            "tags": []
          },
          "execution_count": 34
        }
      ]
    },
    {
      "cell_type": "code",
      "metadata": {
        "id": "ENlPb61Ccpjs",
        "colab_type": "code",
        "colab": {
          "base_uri": "https://localhost:8080/",
          "height": 34
        },
        "outputId": "68dc20e4-7bb4-40a5-d6c1-1f2d070da58b"
      },
      "source": [
        "print(f\"The maximum activation value of the hidden node is {hidden_layer_activation.max()}\")"
      ],
      "execution_count": 35,
      "outputs": [
        {
          "output_type": "stream",
          "text": [
            "The maximum activation value of the hidden node is 92.77973175048828\n"
          ],
          "name": "stdout"
        }
      ]
    },
    {
      "cell_type": "code",
      "metadata": {
        "id": "NjDuqbQPcpj3",
        "colab_type": "code",
        "colab": {
          "base_uri": "https://localhost:8080/",
          "height": 88
        },
        "outputId": "f66d4798-0a2e-4720-b4b4-b0c44174e670"
      },
      "source": [
        "# Output layer stats\n",
        "np.set_printoptions(suppress = True)  # display probabilities as decimals and NOT in scientific notation\n",
        "ouput_layer_activation = activations[1]\n",
        "print(f\"The output node has shape {ouput_layer_activation.shape}\")\n",
        "print(f\"The output for the first image are {ouput_layer_activation[0].round(4)}\")\n",
        "print(f\"The sum of the probabilities is (approximately) {ouput_layer_activation[0].sum()}\")"
      ],
      "execution_count": 36,
      "outputs": [
        {
          "output_type": "stream",
          "text": [
            "The output node has shape (55000, 10)\n",
            "The output for the first image are [0.     0.     0.     0.     0.0024 0.     0.     0.8116 0.     0.1861]\n",
            "The sum of the probabilities is (approximately) 0.9999999403953552\n"
          ],
          "name": "stdout"
        }
      ]
    },
    {
      "cell_type": "code",
      "metadata": {
        "id": "lH6lMxU_cpkt",
        "colab_type": "code",
        "colab": {
          "base_uri": "https://localhost:8080/",
          "height": 204
        },
        "outputId": "edaf4c21-4403-482d-e8b5-00d3b9c216db"
      },
      "source": [
        "# Create DataFrame of activation values and corresponding predicted class\n",
        "boxplot_df = pd.DataFrame({'act_value':hidden_layer_activation.reshape(55000),\n",
        "                           'pred_class':pred_classes})\n",
        "boxplot_df.head()"
      ],
      "execution_count": 37,
      "outputs": [
        {
          "output_type": "execute_result",
          "data": {
            "text/html": [
              "<div>\n",
              "<style scoped>\n",
              "    .dataframe tbody tr th:only-of-type {\n",
              "        vertical-align: middle;\n",
              "    }\n",
              "\n",
              "    .dataframe tbody tr th {\n",
              "        vertical-align: top;\n",
              "    }\n",
              "\n",
              "    .dataframe thead th {\n",
              "        text-align: right;\n",
              "    }\n",
              "</style>\n",
              "<table border=\"1\" class=\"dataframe\">\n",
              "  <thead>\n",
              "    <tr style=\"text-align: right;\">\n",
              "      <th></th>\n",
              "      <th>act_value</th>\n",
              "      <th>pred_class</th>\n",
              "    </tr>\n",
              "  </thead>\n",
              "  <tbody>\n",
              "    <tr>\n",
              "      <th>0</th>\n",
              "      <td>24.579069</td>\n",
              "      <td>7</td>\n",
              "    </tr>\n",
              "    <tr>\n",
              "      <th>1</th>\n",
              "      <td>2.897870</td>\n",
              "      <td>8</td>\n",
              "    </tr>\n",
              "    <tr>\n",
              "      <th>2</th>\n",
              "      <td>6.558838</td>\n",
              "      <td>9</td>\n",
              "    </tr>\n",
              "    <tr>\n",
              "      <th>3</th>\n",
              "      <td>0.000000</td>\n",
              "      <td>6</td>\n",
              "    </tr>\n",
              "    <tr>\n",
              "      <th>4</th>\n",
              "      <td>1.081513</td>\n",
              "      <td>1</td>\n",
              "    </tr>\n",
              "  </tbody>\n",
              "</table>\n",
              "</div>"
            ],
            "text/plain": [
              "   act_value  pred_class\n",
              "0  24.579069           7\n",
              "1   2.897870           8\n",
              "2   6.558838           9\n",
              "3   0.000000           6\n",
              "4   1.081513           1"
            ]
          },
          "metadata": {
            "tags": []
          },
          "execution_count": 37
        }
      ]
    },
    {
      "cell_type": "code",
      "metadata": {
        "id": "3gL26MIlcpk-",
        "colab_type": "code",
        "colab": {
          "base_uri": "https://localhost:8080/",
          "height": 204
        },
        "outputId": "241d0594-9898-4b75-ccec-c96299c7d58c"
      },
      "source": [
        "# Value counts for boxplot\n",
        "# Note missing class - 5\n",
        "boxplot_df['pred_class'].value_counts() "
      ],
      "execution_count": 38,
      "outputs": [
        {
          "output_type": "execute_result",
          "data": {
            "text/plain": [
              "6    13034\n",
              "1    11733\n",
              "4    10062\n",
              "7     5276\n",
              "8     5144\n",
              "3     4518\n",
              "2     1900\n",
              "9     1728\n",
              "0      830\n",
              "5      775\n",
              "Name: pred_class, dtype: int64"
            ]
          },
          "metadata": {
            "tags": []
          },
          "execution_count": 38
        }
      ]
    },
    {
      "cell_type": "code",
      "metadata": {
        "id": "bD9ygeMzcplM",
        "colab_type": "code",
        "colab": {
          "base_uri": "https://localhost:8080/",
          "height": 280
        },
        "outputId": "8418390a-5d9e-4c82-ca07-ee4171ebd43d"
      },
      "source": [
        "# Activation value boxplot\n",
        "bplot = sns.boxplot(y='act_value', x='pred_class', \n",
        "                 data=boxplot_df, \n",
        "                 width=0.5,\n",
        "                 palette=\"colorblind\")\n",
        "# bplot.savefig(\"act_values_model_1.png\")\n",
        "\n",
        "figure = bplot.get_figure()    \n",
        "# figure.savefig(\"figures/act_values_model_1.png\", dpi=400)\n",
        "# ax.set(ylim=(10, 40))"
      ],
      "execution_count": 39,
      "outputs": [
        {
          "output_type": "display_data",
          "data": {
            "image/png": "[encoded data removed]",
            "text/plain": [
              "<Figure size 432x288 with 1 Axes>"
            ]
          },
          "metadata": {
            "tags": [],
            "needs_background": "light"
          }
        }
      ]
    },
    {
      "cell_type": "markdown",
      "metadata": {
        "id": "EzbkMYhYcplU",
        "colab_type": "text"
      },
      "source": [
        "# 2. Experiment 2\n"
      ]
    },
    {
      "cell_type": "markdown",
      "metadata": {
        "id": "01AndK6NcplV",
        "colab_type": "text"
      },
      "source": [
        "## 2a. Build and Compile Model"
      ]
    },
    {
      "cell_type": "code",
      "metadata": {
        "id": "e_HhJIP7cplV",
        "colab_type": "code",
        "colab": {}
      },
      "source": [
        "# 2 Dense layers\n",
        "# Hidden layer, 2 nodes\n",
        "# Second layer, 10-way softmax\n",
        "\n",
        "# Define model\n",
        "model_2 = models.Sequential()\n",
        "model_2.add(layers.Dense(2, activation='relu', input_shape=(28 * 28,)))\n",
        "model_2.add(layers.Dense(10, activation='softmax'))   "
      ],
      "execution_count": 42,
      "outputs": []
    },
    {
      "cell_type": "code",
      "metadata": {
        "id": "n552Zkaicpll",
        "colab_type": "code",
        "colab": {
          "base_uri": "https://localhost:8080/",
          "height": 221
        },
        "outputId": "378adda3-43ff-4e64-e9e0-eda1a9be99ef"
      },
      "source": [
        "# Model summary\n",
        "model_2.summary()"
      ],
      "execution_count": 43,
      "outputs": [
        {
          "output_type": "stream",
          "text": [
            "Model: \"sequential_2\"\n",
            "_________________________________________________________________\n",
            "Layer (type)                 Output Shape              Param #   \n",
            "=================================================================\n",
            "dense_4 (Dense)              (None, 2)                 1570      \n",
            "_________________________________________________________________\n",
            "dense_5 (Dense)              (None, 10)                30        \n",
            "=================================================================\n",
            "Total params: 1,600\n",
            "Trainable params: 1,600\n",
            "Non-trainable params: 0\n",
            "_________________________________________________________________\n"
          ],
          "name": "stdout"
        }
      ]
    },
    {
      "cell_type": "code",
      "metadata": {
        "id": "jvo2NY9scplr",
        "colab_type": "code",
        "colab": {}
      },
      "source": [
        "# Pick loss function, optimizer, and accuracy as a performance metric\n",
        "# Compile the model\n",
        "model_2.compile(loss='sparse_categorical_crossentropy', optimizer='rmsprop', metrics=['accuracy'])"
      ],
      "execution_count": 44,
      "outputs": []
    },
    {
      "cell_type": "markdown",
      "metadata": {
        "id": "nsXTY3RQcpl0",
        "colab_type": "text"
      },
      "source": [
        "## 3b. Train Model"
      ]
    },
    {
      "cell_type": "code",
      "metadata": {
        "id": "s3J5-gNVcpl1",
        "colab_type": "code",
        "colab": {
          "base_uri": "https://localhost:8080/",
          "height": 1000
        },
        "outputId": "3d374c37-a454-4c96-a161-4c8bf338861a"
      },
      "source": [
        "# Train the model\n",
        "start_time = time.time()\n",
        "history = model_2.fit(train_images, train_labels, validation_data=(val_images, val_labels), \n",
        "                      epochs=30)\n",
        "elapsed_time = time.time() - start_time\n",
        "print('--------------------------')\n",
        "print('Training time in seconds: ', round(elapsed_time,2))\n",
        "print('--------------------------')"
      ],
      "execution_count": 45,
      "outputs": [
        {
          "output_type": "stream",
          "text": [
            "Train on 55000 samples, validate on 5000 samples\n",
            "Epoch 1/30\n",
            "55000/55000 [==============================] - 2s 38us/sample - loss: 1.6658 - accuracy: 0.3666 - val_loss: 1.3717 - val_accuracy: 0.4414\n",
            "Epoch 2/30\n",
            "55000/55000 [==============================] - 2s 36us/sample - loss: 1.3222 - accuracy: 0.5012 - val_loss: 1.2407 - val_accuracy: 0.5418\n",
            "Epoch 3/30\n",
            "55000/55000 [==============================] - 2s 36us/sample - loss: 1.2332 - accuracy: 0.5566 - val_loss: 1.1774 - val_accuracy: 0.5898\n",
            "Epoch 4/30\n",
            "55000/55000 [==============================] - 2s 37us/sample - loss: 1.1851 - accuracy: 0.5894 - val_loss: 1.1373 - val_accuracy: 0.6214\n",
            "Epoch 5/30\n",
            "55000/55000 [==============================] - 2s 37us/sample - loss: 1.1509 - accuracy: 0.6084 - val_loss: 1.1171 - val_accuracy: 0.6346\n",
            "Epoch 6/30\n",
            "55000/55000 [==============================] - 2s 35us/sample - loss: 1.1262 - accuracy: 0.6184 - val_loss: 1.0947 - val_accuracy: 0.6406\n",
            "Epoch 7/30\n",
            "55000/55000 [==============================] - 2s 35us/sample - loss: 1.1096 - accuracy: 0.6227 - val_loss: 1.0855 - val_accuracy: 0.6436\n",
            "Epoch 8/30\n",
            "55000/55000 [==============================] - 2s 36us/sample - loss: 1.0989 - accuracy: 0.6259 - val_loss: 1.0766 - val_accuracy: 0.6458\n",
            "Epoch 9/30\n",
            "55000/55000 [==============================] - 2s 35us/sample - loss: 1.0896 - accuracy: 0.6308 - val_loss: 1.0601 - val_accuracy: 0.6538\n",
            "Epoch 10/30\n",
            "55000/55000 [==============================] - 2s 35us/sample - loss: 1.0821 - accuracy: 0.6348 - val_loss: 1.0595 - val_accuracy: 0.6470\n",
            "Epoch 11/30\n",
            "55000/55000 [==============================] - 2s 36us/sample - loss: 1.0753 - accuracy: 0.6377 - val_loss: 1.0503 - val_accuracy: 0.6602\n",
            "Epoch 12/30\n",
            "55000/55000 [==============================] - 2s 37us/sample - loss: 1.0695 - accuracy: 0.6418 - val_loss: 1.0444 - val_accuracy: 0.6604\n",
            "Epoch 13/30\n",
            "55000/55000 [==============================] - 2s 36us/sample - loss: 1.0629 - accuracy: 0.6460 - val_loss: 1.0386 - val_accuracy: 0.6634\n",
            "Epoch 14/30\n",
            "55000/55000 [==============================] - 2s 36us/sample - loss: 1.0578 - accuracy: 0.6490 - val_loss: 1.0299 - val_accuracy: 0.6688\n",
            "Epoch 15/30\n",
            "55000/55000 [==============================] - 2s 36us/sample - loss: 1.0521 - accuracy: 0.6522 - val_loss: 1.0236 - val_accuracy: 0.6704\n",
            "Epoch 16/30\n",
            "55000/55000 [==============================] - 2s 36us/sample - loss: 1.0472 - accuracy: 0.6540 - val_loss: 1.0244 - val_accuracy: 0.6632\n",
            "Epoch 17/30\n",
            "55000/55000 [==============================] - 2s 36us/sample - loss: 1.0436 - accuracy: 0.6569 - val_loss: 1.0172 - val_accuracy: 0.6716\n",
            "Epoch 18/30\n",
            "55000/55000 [==============================] - 2s 36us/sample - loss: 1.0399 - accuracy: 0.6581 - val_loss: 1.0114 - val_accuracy: 0.6722\n",
            "Epoch 19/30\n",
            "55000/55000 [==============================] - 2s 35us/sample - loss: 1.0360 - accuracy: 0.6585 - val_loss: 1.0100 - val_accuracy: 0.6752\n",
            "Epoch 20/30\n",
            "55000/55000 [==============================] - 2s 37us/sample - loss: 1.0332 - accuracy: 0.6603 - val_loss: 1.0111 - val_accuracy: 0.6710\n",
            "Epoch 21/30\n",
            "55000/55000 [==============================] - 2s 36us/sample - loss: 1.0308 - accuracy: 0.6609 - val_loss: 1.0120 - val_accuracy: 0.6720\n",
            "Epoch 22/30\n",
            "55000/55000 [==============================] - 2s 35us/sample - loss: 1.0274 - accuracy: 0.6630 - val_loss: 1.0041 - val_accuracy: 0.6738\n",
            "Epoch 23/30\n",
            "55000/55000 [==============================] - 2s 36us/sample - loss: 1.0248 - accuracy: 0.6637 - val_loss: 1.0026 - val_accuracy: 0.6696\n",
            "Epoch 24/30\n",
            "55000/55000 [==============================] - 2s 36us/sample - loss: 1.0233 - accuracy: 0.6632 - val_loss: 0.9962 - val_accuracy: 0.6776\n",
            "Epoch 25/30\n",
            "55000/55000 [==============================] - 2s 35us/sample - loss: 1.0212 - accuracy: 0.6643 - val_loss: 0.9916 - val_accuracy: 0.6768\n",
            "Epoch 26/30\n",
            "55000/55000 [==============================] - 2s 36us/sample - loss: 1.0190 - accuracy: 0.6646 - val_loss: 0.9850 - val_accuracy: 0.6796\n",
            "Epoch 27/30\n",
            "55000/55000 [==============================] - 2s 36us/sample - loss: 1.0176 - accuracy: 0.6648 - val_loss: 0.9946 - val_accuracy: 0.6746\n",
            "Epoch 28/30\n",
            "55000/55000 [==============================] - 2s 36us/sample - loss: 1.0156 - accuracy: 0.6660 - val_loss: 1.0066 - val_accuracy: 0.6764\n",
            "Epoch 29/30\n",
            "55000/55000 [==============================] - 2s 36us/sample - loss: 1.0146 - accuracy: 0.6664 - val_loss: 0.9830 - val_accuracy: 0.6808\n",
            "Epoch 30/30\n",
            "55000/55000 [==============================] - 2s 35us/sample - loss: 1.0128 - accuracy: 0.6677 - val_loss: 0.9852 - val_accuracy: 0.6810\n",
            "--------------------------\n",
            "Training time in seconds:  59.71\n",
            "--------------------------\n"
          ],
          "name": "stdout"
        }
      ]
    },
    {
      "cell_type": "markdown",
      "metadata": {
        "id": "fBsadUr2cpl4",
        "colab_type": "text"
      },
      "source": [
        "## 2c. Test Model\n",
        "\n",
        "Evaluate the model on the test dataset."
      ]
    },
    {
      "cell_type": "code",
      "metadata": {
        "id": "D-5-XywFcpl6",
        "colab_type": "code",
        "colab": {}
      },
      "source": [
        "test_loss, test_acc = model_2.evaluate(test_images, test_labels)"
      ],
      "execution_count": 46,
      "outputs": []
    },
    {
      "cell_type": "code",
      "metadata": {
        "id": "H7GBJZO7cpmb",
        "colab_type": "code",
        "colab": {
          "base_uri": "https://localhost:8080/",
          "height": 34
        },
        "outputId": "e80b6e80-3e14-48c9-8238-6b4a4989c4d2"
      },
      "source": [
        "print(f'test accuracy: {test_acc}, test loss: {test_loss}')"
      ],
      "execution_count": 47,
      "outputs": [
        {
          "output_type": "stream",
          "text": [
            "test accuracy: 0.6744999885559082, test loss: 1.0114024152755738\n"
          ],
          "name": "stdout"
        }
      ]
    },
    {
      "cell_type": "code",
      "metadata": {
        "id": "xOhSFFoecpms",
        "colab_type": "code",
        "colab": {
          "base_uri": "https://localhost:8080/",
          "height": 34
        },
        "outputId": "4dcb8401-c064-49be-87cd-3e9fb085c167"
      },
      "source": [
        "history_dict = history.history\n",
        "history_dict.keys()"
      ],
      "execution_count": 48,
      "outputs": [
        {
          "output_type": "execute_result",
          "data": {
            "text/plain": [
              "dict_keys(['loss', 'accuracy', 'val_loss', 'val_accuracy'])"
            ]
          },
          "metadata": {
            "tags": []
          },
          "execution_count": 48
        }
      ]
    },
    {
      "cell_type": "code",
      "metadata": {
        "id": "KW6Xyi0Wcpm6",
        "colab_type": "code",
        "colab": {
          "base_uri": "https://localhost:8080/",
          "height": 320
        },
        "outputId": "2d9fb958-59c5-4f4d-d874-9d565a7c0aa6"
      },
      "source": [
        "# Alternate code for accuracy and loss\n",
        "# Plot learning curves for model\n",
        "pd.DataFrame(history.history).plot(figsize=(8, 5))\n",
        "plt.grid(True)\n",
        "plt.gca().set_ylim(0, 1.5) # set the vertical range to [0-1]\n",
        "plt.show()"
      ],
      "execution_count": 49,
      "outputs": [
        {
          "output_type": "display_data",
          "data": {
            "image/png": "[encoded data removed]",
            "text/plain": [
              "<Figure size 576x360 with 1 Axes>"
            ]
          },
          "metadata": {
            "tags": [],
            "needs_background": "light"
          }
        }
      ]
    },
    {
      "cell_type": "markdown",
      "metadata": {
        "id": "MxLMdx97cpnF",
        "colab_type": "text"
      },
      "source": [
        "## 2d. Confusion Matrix"
      ]
    },
    {
      "cell_type": "code",
      "metadata": {
        "id": "SCzdS7BJcpnG",
        "colab_type": "code",
        "colab": {}
      },
      "source": [
        "# Assign predicted classes\n",
        "pred_classes = model_2.predict_classes(train_images)"
      ],
      "execution_count": 50,
      "outputs": []
    },
    {
      "cell_type": "code",
      "metadata": {
        "id": "8ROjlvAZcpnQ",
        "colab_type": "code",
        "colab": {
          "base_uri": "https://localhost:8080/",
          "height": 187
        },
        "outputId": "4cd18370-d88f-4f00-c577-dc5d8b5b0f3c"
      },
      "source": [
        "# Create confusion matrix with values\n",
        "conf_mx = confusion_matrix(train_labels,pred_classes)\n",
        "conf_mx"
      ],
      "execution_count": 51,
      "outputs": [
        {
          "output_type": "execute_result",
          "data": {
            "text/plain": [
              "array([[4122,  154,  873,   12,   19,    8,  136,    6,  112,    2],\n",
              "       [  27, 5407,  120,  285,    3,  217,    1,   16,   98,    5],\n",
              "       [ 970,  604, 2590,   29,   88,   81,  516,   17,  567,    8],\n",
              "       [  22,  421,   88, 4178,    8,  436,    4,  258,  202,   21],\n",
              "       [   4,    2,   32,    3, 3807,   12,  153,   56,  214, 1024],\n",
              "       [  24,  212,  311,  755,   88, 1079,   60,  448, 1916,   94],\n",
              "       [  98,    2,  349,    0,  314,    1, 4447,    0,  206,    0],\n",
              "       [   3,   30,   34,  232,   54,   58,    3, 4288,  111,  902],\n",
              "       [  13,  316,  314,  275,  388,  668,  133,  347, 2783,  152],\n",
              "       [   4,    1,   23,   53,  321,   41,   37,  796,   96, 4082]])"
            ]
          },
          "metadata": {
            "tags": []
          },
          "execution_count": 51
        }
      ]
    },
    {
      "cell_type": "code",
      "metadata": {
        "id": "JsSdGWurcppQ",
        "colab_type": "code",
        "colab": {
          "base_uri": "https://localhost:8080/",
          "height": 295
        },
        "outputId": "1ca25ff1-b56a-4688-a7fe-74aca7218da8"
      },
      "source": [
        "# Plot with values transposed to show actual versus predicted values\n",
        "# m1_cm = confusion_matrix(train_labels, pred_classes)\n",
        "m2_cm_plt=sns.heatmap(conf_mx, square=False, annot=True, fmt='d', cbar=False, cmap=\"Blues\")\n",
        "plt.xlabel('Predicted label')\n",
        "plt.ylabel('Actual label')\n",
        "plt.title(\"Test Confusion Matrix - Model 2\")\n",
        "plt.show();"
      ],
      "execution_count": 52,
      "outputs": [
        {
          "output_type": "display_data",
          "data": {
            "image/png": "[encoded data removed]",
            "text/plain": [
              "<Figure size 432x288 with 1 Axes>"
            ]
          },
          "metadata": {
            "tags": [],
            "needs_background": "light"
          }
        }
      ]
    },
    {
      "cell_type": "code",
      "metadata": {
        "id": "aEA1b2AMcppW",
        "colab_type": "code",
        "colab": {}
      },
      "source": [
        "# Plot normalized confusion matrix\n",
        "row_sums = conf_mx.sum(axis=1, keepdims=True)\n",
        "norm_conf_mx = conf_mx / row_sums"
      ],
      "execution_count": 53,
      "outputs": []
    },
    {
      "cell_type": "code",
      "metadata": {
        "id": "IfiVyQ5dcppe",
        "colab_type": "code",
        "colab": {
          "base_uri": "https://localhost:8080/",
          "height": 275
        },
        "outputId": "33daf2b5-5c8d-42ce-8de8-6efd2f9f9912"
      },
      "source": [
        "np.fill_diagonal(norm_conf_mx, 0)\n",
        "plt.matshow(norm_conf_mx, cmap=\"Blues\")\n",
        "plt.show()"
      ],
      "execution_count": 54,
      "outputs": [
        {
          "output_type": "display_data",
          "data": {
            "image/png": "[encoded data removed]",
            "text/plain": [
              "<Figure size 288x288 with 1 Axes>"
            ]
          },
          "metadata": {
            "tags": [],
            "needs_background": "light"
          }
        }
      ]
    },
    {
      "cell_type": "markdown",
      "metadata": {
        "id": "BdgeCW9qcppv",
        "colab_type": "text"
      },
      "source": [
        "## 2e. Error Analysis"
      ]
    },
    {
      "cell_type": "code",
      "metadata": {
        "id": "XpXK62Kccppw",
        "colab_type": "code",
        "colab": {}
      },
      "source": [
        "# Define function for plotting example digits\n",
        "def plot_digits(instances, images_per_row=10, **options):\n",
        "    size = 28\n",
        "    images_per_row = min(len(instances), images_per_row)\n",
        "    images = [instance.reshape(size,size) for instance in instances]\n",
        "    n_rows = (len(instances) - 1) // images_per_row + 1\n",
        "    row_images = []\n",
        "    n_empty = n_rows * images_per_row - len(instances)\n",
        "    images.append(np.zeros((size, size * n_empty)))\n",
        "    for row in range(n_rows):\n",
        "        rimages = images[row * images_per_row : (row + 1) * images_per_row]\n",
        "        row_images.append(np.concatenate(rimages, axis=1))\n",
        "    image = np.concatenate(row_images, axis=0)\n",
        "    plt.imshow(image, cmap = 'binary', **options)\n",
        "    plt.axis(\"off\")"
      ],
      "execution_count": 55,
      "outputs": []
    },
    {
      "cell_type": "code",
      "metadata": {
        "id": "cjfMrhFucpp5",
        "colab_type": "code",
        "colab": {
          "base_uri": "https://localhost:8080/",
          "height": 466
        },
        "outputId": "af72e4a3-456d-4e50-8bf4-dff224584298"
      },
      "source": [
        "# Try some examples of mis-classes digits\n",
        "# Upper left: 5s classified correctly as 5s\n",
        "# Upper right: 5s classified as 8s\n",
        "# Lower left: 8s classified as 5s\n",
        "# Lower right: 8s classified correctly as 8s\n",
        "\n",
        "cl_a, cl_b = 5, 8\n",
        "X_aa = train_images[(train_labels == cl_a) & (pred_classes == cl_a)]\n",
        "X_ab = train_images[(train_labels == cl_a) & (pred_classes == cl_b)]\n",
        "X_ba = train_images[(train_labels == cl_b) & (pred_classes == cl_a)]\n",
        "X_bb = train_images[(train_labels == cl_b) & (pred_classes == cl_b)]\n",
        "\n",
        "plt.figure(figsize=(8,8))\n",
        "plt.subplot(221); plot_digits(X_aa[:25], images_per_row=5)\n",
        "plt.subplot(222); plot_digits(X_ab[:25], images_per_row=5)\n",
        "plt.subplot(223); plot_digits(X_ba[:25], images_per_row=5)\n",
        "plt.subplot(224); plot_digits(X_bb[:25], images_per_row=5)\n",
        "plt.show()"
      ],
      "execution_count": 56,
      "outputs": [
        {
          "output_type": "display_data",
          "data": {
            "image/png": "[encoded data removed]",
            "text/plain": [
              "<Figure size 576x576 with 4 Axes>"
            ]
          },
          "metadata": {
            "tags": [],
            "needs_background": "light"
          }
        }
      ]
    },
    {
      "cell_type": "markdown",
      "metadata": {
        "id": "f5M5yQqlcpqD",
        "colab_type": "text"
      },
      "source": [
        "## 2f. Activation Values\n"
      ]
    },
    {
      "cell_type": "code",
      "metadata": {
        "id": "yB41j02scpqD",
        "colab_type": "code",
        "colab": {
          "base_uri": "https://localhost:8080/",
          "height": 68
        },
        "outputId": "f3883b98-bd8b-4031-81f8-8153ad8b679f"
      },
      "source": [
        "# Extract the outputs of the 2 layers\n",
        "layer_outputs = [layer.output for layer in model_2.layers]\n",
        "\n",
        "# Create a model that will return these outputs, given the model input\n",
        "activation_model_2 = models.Model(inputs=model_2.input, outputs=layer_outputs)\n",
        "\n",
        "print(f\"There are {len(layer_outputs)} layers\")\n",
        "layer_outputs # description of the layers"
      ],
      "execution_count": 57,
      "outputs": [
        {
          "output_type": "stream",
          "text": [
            "There are 2 layers\n"
          ],
          "name": "stdout"
        },
        {
          "output_type": "execute_result",
          "data": {
            "text/plain": [
              "[<tf.Tensor 'dense_4/Relu:0' shape=(None, 2) dtype=float32>,\n",
              " <tf.Tensor 'dense_5/Softmax:0' shape=(None, 10) dtype=float32>]"
            ]
          },
          "metadata": {
            "tags": []
          },
          "execution_count": 57
        }
      ]
    },
    {
      "cell_type": "code",
      "metadata": {
        "id": "iL9oXfh2cpqH",
        "colab_type": "code",
        "colab": {
          "base_uri": "https://localhost:8080/",
          "height": 34
        },
        "outputId": "539b05a2-e798-44f5-9045-67bb6b9cc0c4"
      },
      "source": [
        "# Get the output of the hidden node for each of the 55000 training images\n",
        "activations = activation_model_2.predict(train_images)\n",
        "hidden_layer_activation = activations[0]\n",
        "hidden_layer_activation.shape   #  2 hidden node each has one activation value per training image"
      ],
      "execution_count": 58,
      "outputs": [
        {
          "output_type": "execute_result",
          "data": {
            "text/plain": [
              "(55000, 2)"
            ]
          },
          "metadata": {
            "tags": []
          },
          "execution_count": 58
        }
      ]
    },
    {
      "cell_type": "code",
      "metadata": {
        "id": "DPkSTqGncpqS",
        "colab_type": "code",
        "colab": {
          "base_uri": "https://localhost:8080/",
          "height": 51
        },
        "outputId": "25dc2021-e825-41c5-fb9c-cc0389793437"
      },
      "source": [
        "hidden_node1_activation = hidden_layer_activation[:,0] # get activation values of the first hidden node\n",
        "hidden_node2_activation = hidden_layer_activation[:,1] # get activation values of the second hidden node\n",
        "\n",
        "print(f\"The maximum activation value of the first hidden node is {hidden_node1_activation.max()}\")\n",
        "print(f\"The maximum activation value of the second hidden node is {hidden_node2_activation.max()}\")"
      ],
      "execution_count": 59,
      "outputs": [
        {
          "output_type": "stream",
          "text": [
            "The maximum activation value of the first hidden node is 24.955793380737305\n",
            "The maximum activation value of the second hidden node is 19.6727294921875\n"
          ],
          "name": "stdout"
        }
      ]
    },
    {
      "cell_type": "code",
      "metadata": {
        "id": "ekPLu45Xcpqq",
        "colab_type": "code",
        "colab": {
          "base_uri": "https://localhost:8080/",
          "height": 88
        },
        "outputId": "161874f5-8ab1-448e-9385-7e6970330b3b"
      },
      "source": [
        "# Output layer stats\n",
        "np.set_printoptions(suppress = True)  # display probabilities as decimals and NOT in scientific notation\n",
        "ouput_layer_activation = activations[1]\n",
        "print(f\"The output node has shape {ouput_layer_activation.shape}\")\n",
        "print(f\"The output for the first image are {ouput_layer_activation[0].round(4)}\")\n",
        "print(f\"The sum of the probabilities is (approximately) {ouput_layer_activation[0].sum()}\")"
      ],
      "execution_count": 60,
      "outputs": [
        {
          "output_type": "stream",
          "text": [
            "The output node has shape (55000, 10)\n",
            "The output for the first image are [0.     0.     0.     0.0004 0.1119 0.0089 0.     0.2731 0.0098 0.5959]\n",
            "The sum of the probabilities is (approximately) 0.9999999403953552\n"
          ],
          "name": "stdout"
        }
      ]
    },
    {
      "cell_type": "code",
      "metadata": {
        "id": "m1Xh0zH8cpqw",
        "colab_type": "code",
        "colab": {
          "base_uri": "https://localhost:8080/",
          "height": 204
        },
        "outputId": "394f4783-2565-4ce1-f3d8-e05b27e5dd1f"
      },
      "source": [
        "scatterPlot_df =  pd.DataFrame({'act_value_h1':hidden_node1_activation,\n",
        "                                'act_value_h2':hidden_node2_activation,\n",
        "                                'pred_class':pred_classes})\n",
        "scatterPlot_df.head()"
      ],
      "execution_count": 61,
      "outputs": [
        {
          "output_type": "execute_result",
          "data": {
            "text/html": [
              "<div>\n",
              "<style scoped>\n",
              "    .dataframe tbody tr th:only-of-type {\n",
              "        vertical-align: middle;\n",
              "    }\n",
              "\n",
              "    .dataframe tbody tr th {\n",
              "        vertical-align: top;\n",
              "    }\n",
              "\n",
              "    .dataframe thead th {\n",
              "        text-align: right;\n",
              "    }\n",
              "</style>\n",
              "<table border=\"1\" class=\"dataframe\">\n",
              "  <thead>\n",
              "    <tr style=\"text-align: right;\">\n",
              "      <th></th>\n",
              "      <th>act_value_h1</th>\n",
              "      <th>act_value_h2</th>\n",
              "      <th>pred_class</th>\n",
              "    </tr>\n",
              "  </thead>\n",
              "  <tbody>\n",
              "    <tr>\n",
              "      <th>0</th>\n",
              "      <td>5.411855</td>\n",
              "      <td>0.000000</td>\n",
              "      <td>9</td>\n",
              "    </tr>\n",
              "    <tr>\n",
              "      <th>1</th>\n",
              "      <td>0.000000</td>\n",
              "      <td>0.080263</td>\n",
              "      <td>3</td>\n",
              "    </tr>\n",
              "    <tr>\n",
              "      <th>2</th>\n",
              "      <td>6.210288</td>\n",
              "      <td>0.000000</td>\n",
              "      <td>9</td>\n",
              "    </tr>\n",
              "    <tr>\n",
              "      <th>3</th>\n",
              "      <td>9.224747</td>\n",
              "      <td>7.711204</td>\n",
              "      <td>6</td>\n",
              "    </tr>\n",
              "    <tr>\n",
              "      <th>4</th>\n",
              "      <td>0.000000</td>\n",
              "      <td>2.918810</td>\n",
              "      <td>1</td>\n",
              "    </tr>\n",
              "  </tbody>\n",
              "</table>\n",
              "</div>"
            ],
            "text/plain": [
              "   act_value_h1  act_value_h2  pred_class\n",
              "0      5.411855      0.000000           9\n",
              "1      0.000000      0.080263           3\n",
              "2      6.210288      0.000000           9\n",
              "3      9.224747      7.711204           6\n",
              "4      0.000000      2.918810           1"
            ]
          },
          "metadata": {
            "tags": []
          },
          "execution_count": 61
        }
      ]
    },
    {
      "cell_type": "code",
      "metadata": {
        "id": "4ug1MyEScpqz",
        "colab_type": "code",
        "colab": {
          "base_uri": "https://localhost:8080/",
          "height": 265
        },
        "outputId": "d1102b95-3593-46cc-b4e7-a4bf6d0144e3"
      },
      "source": [
        "# plt.legend(loc='upper left', prop={'size':6}, bbox_to_anchor=(1,1),ncol=1)\n",
        "plt.scatter(scatterPlot_df.act_value_h1, \n",
        "            scatterPlot_df.act_value_h2, \n",
        "            c=scatterPlot_df.pred_class,\n",
        "            label=scatterPlot_df.pred_class)\n",
        "\n",
        "plt.show()"
      ],
      "execution_count": 62,
      "outputs": [
        {
          "output_type": "display_data",
          "data": {
            "image/png": "[encoded data removed]",
            "text/plain": [
              "<Figure size 432x288 with 1 Axes>"
            ]
          },
          "metadata": {
            "tags": [],
            "needs_background": "light"
          }
        }
      ]
    },
    {
      "cell_type": "code",
      "metadata": {
        "id": "JRczmDDFcpq3",
        "colab_type": "code",
        "colab": {
          "base_uri": "https://localhost:8080/",
          "height": 265
        },
        "outputId": "3f909391-7b25-4157-f0ca-eb57f8cc9c4a"
      },
      "source": [
        "# Scatterplot grouped by predicted class\n",
        "groups = scatterPlot_df.groupby('pred_class')\n",
        "\n",
        "# Plot\n",
        "fig, ax = plt.subplots()\n",
        "ax.margins(0.05) # Optional, just adds 5% padding to the autoscaling\n",
        "for name, group in groups:\n",
        "    ax.plot(group.act_value_h1, group.act_value_h2, marker='o', linestyle='', ms=12, label=name)\n",
        "ax.legend()\n",
        "\n",
        "plt.show()"
      ],
      "execution_count": 63,
      "outputs": [
        {
          "output_type": "display_data",
          "data": {
            "image/png": "[encoded data removed]",
            "text/plain": [
              "<Figure size 432x288 with 1 Axes>"
            ]
          },
          "metadata": {
            "tags": [],
            "needs_background": "light"
          }
        }
      ]
    },
    {
      "cell_type": "markdown",
      "metadata": {
        "id": "SXhau-b7cpq7",
        "colab_type": "text"
      },
      "source": [
        "# 3. Experiment 3"
      ]
    },
    {
      "cell_type": "code",
      "metadata": {
        "id": "6yGrpfBlcpq7",
        "colab_type": "code",
        "colab": {}
      },
      "source": [
        "# 1 hidden layer\n",
        "# Use gridsearch to determine the # of nodes\n",
        "\n",
        "# Define a function to create a DNN with a given number of hidden layers and a fixed given number \n",
        "# of nodes per hidden layer\n",
        "def build_model(n_hidden=1, n_neurons=2, learning_rate=0.001, input_shape=(28 * 28,)):\n",
        "    model = models.Sequential()\n",
        "    model.add(layers.InputLayer(input_shape=input_shape))\n",
        "    for layer in range(n_hidden):\n",
        "        model.add(keras.layers.Dense(n_neurons, activation=\"relu\"))\n",
        "    model.add(layers.Dense(10, activation='softmax'))\n",
        "    optimizer = keras.optimizers.RMSprop(lr=learning_rate)\n",
        "    model.compile(loss='sparse_categorical_crossentropy', optimizer=optimizer,  metrics=['accuracy'])\n",
        "    return model"
      ],
      "execution_count": 64,
      "outputs": []
    },
    {
      "cell_type": "code",
      "metadata": {
        "id": "setjPSbUcprC",
        "colab_type": "code",
        "colab": {}
      },
      "source": [
        "# Define a second model that takes a tuple `(n1,n2...)`, where the number of coordinates is the \n",
        "# number of `hidden layers` with `n1` nodes in the first hidden layer, `n2` nodes in the second, etc.\n",
        "def build_model2(n_neurons=(2,3), learning_rate=0.001, input_shape=(28 * 28,)):\n",
        "    model = models.Sequential()\n",
        "    model.add(layers.InputLayer(input_shape=input_shape))\n",
        "    for layer in range(len(n_neurons)):\n",
        "        model.add(keras.layers.Dense(n_neurons[layer], activation=\"relu\"))\n",
        "    model.add(layers.Dense(10, activation='softmax'))\n",
        "    optimizer = keras.optimizers.RMSprop(lr=learning_rate)\n",
        "    model.compile(loss='sparse_categorical_crossentropy', optimizer=optimizer,  metrics=['accuracy'])\n",
        "    return model"
      ],
      "execution_count": 65,
      "outputs": []
    },
    {
      "cell_type": "code",
      "metadata": {
        "id": "K_NBBIrScprK",
        "colab_type": "code",
        "colab": {}
      },
      "source": [
        "# Create a `KerasClassifier` object, the class is an implementation of the scikit-learn classifier API for Keras. \n",
        "# It is actually a thin wrapper around the model that is built using our `build_model` function.\n",
        "keras_clf = KerasClassifier(build_model)"
      ],
      "execution_count": 66,
      "outputs": []
    },
    {
      "cell_type": "markdown",
      "metadata": {
        "id": "DZlyLwG9cprU",
        "colab_type": "text"
      },
      "source": [
        "## 3a. Hyperparameter Tuning: # Nodes\n",
        "\n",
        "```python\n",
        "param_grid = {'n_neurons': range(100,900,50)}\n",
        "param_grid\n",
        "```"
      ]
    },
    {
      "cell_type": "code",
      "metadata": {
        "id": "Zhpg03zXcprV",
        "colab_type": "code",
        "colab": {
          "base_uri": "https://localhost:8080/",
          "height": 34
        },
        "outputId": "123018ac-6be3-4b32-f829-c2d69709197a"
      },
      "source": [
        "param_grid = {'n_neurons': range(100,900,50)}\n",
        "param_grid"
      ],
      "execution_count": 67,
      "outputs": [
        {
          "output_type": "execute_result",
          "data": {
            "text/plain": [
              "{'n_neurons': range(100, 900, 50)}"
            ]
          },
          "metadata": {
            "tags": []
          },
          "execution_count": 67
        }
      ]
    },
    {
      "cell_type": "code",
      "metadata": {
        "id": "WkvBxcF0cprv",
        "colab_type": "code",
        "colab": {
          "base_uri": "https://localhost:8080/",
          "height": 1000
        },
        "outputId": "9a1f65aa-29c8-4fb2-c17f-7f365804c322"
      },
      "source": [
        "# Run grid search\n",
        "grid_cv = GridSearchCV(estimator=keras_clf, param_grid=param_grid,cv=3,verbose = 2)\n",
        "grid_cv.fit(train_images, train_labels, epochs=30,\n",
        "                  validation_data=(val_images, val_labels),\n",
        "                  callbacks=[keras.callbacks.EarlyStopping(patience=2)])"
      ],
      "execution_count": 68,
      "outputs": [
        {
          "output_type": "stream",
          "text": [
            "Fitting 3 folds for each of 16 candidates, totalling 48 fits\n",
            "[CV] n_neurons=100 ...................................................\n"
          ],
          "name": "stdout"
        },
        {
          "output_type": "stream",
          "text": [
            "[Parallel(n_jobs=1)]: Using backend SequentialBackend with 1 concurrent workers.\n"
          ],
          "name": "stderr"
        },
        {
          "output_type": "stream",
          "text": [
            "Train on 36666 samples, validate on 5000 samples\n",
            "Epoch 1/30\n",
            "36666/36666 [==============================] - 2s 64us/sample - loss: 0.3282 - accuracy: 0.9064 - val_loss: 0.1793 - val_accuracy: 0.9508\n",
            "Epoch 2/30\n",
            "36666/36666 [==============================] - 2s 64us/sample - loss: 0.1641 - accuracy: 0.9514 - val_loss: 0.1522 - val_accuracy: 0.9574\n",
            "Epoch 3/30\n",
            "36666/36666 [==============================] - 2s 65us/sample - loss: 0.1217 - accuracy: 0.9653 - val_loss: 0.1308 - val_accuracy: 0.9610\n",
            "Epoch 4/30\n",
            "36666/36666 [==============================] - 2s 66us/sample - loss: 0.0958 - accuracy: 0.9716 - val_loss: 0.1195 - val_accuracy: 0.9644\n",
            "Epoch 5/30\n",
            "36666/36666 [==============================] - 2s 63us/sample - loss: 0.0798 - accuracy: 0.9769 - val_loss: 0.1086 - val_accuracy: 0.9702\n",
            "Epoch 6/30\n",
            "36666/36666 [==============================] - 2s 63us/sample - loss: 0.0665 - accuracy: 0.9810 - val_loss: 0.1208 - val_accuracy: 0.9666\n",
            "Epoch 7/30\n",
            "36666/36666 [==============================] - 2s 64us/sample - loss: 0.0571 - accuracy: 0.9836 - val_loss: 0.1005 - val_accuracy: 0.9730\n",
            "Epoch 8/30\n",
            "36666/36666 [==============================] - 2s 63us/sample - loss: 0.0496 - accuracy: 0.9862 - val_loss: 0.1024 - val_accuracy: 0.9712\n",
            "Epoch 9/30\n",
            "36666/36666 [==============================] - 2s 63us/sample - loss: 0.0440 - accuracy: 0.9876 - val_loss: 0.1021 - val_accuracy: 0.9736\n",
            "[CV] .................................... n_neurons=100, total=  22.0s\n",
            "[CV] n_neurons=100 ...................................................\n"
          ],
          "name": "stdout"
        },
        {
          "output_type": "stream",
          "text": [
            "[Parallel(n_jobs=1)]: Done   1 out of   1 | elapsed:   22.0s remaining:    0.0s\n"
          ],
          "name": "stderr"
        },
        {
          "output_type": "stream",
          "text": [
            "Train on 36667 samples, validate on 5000 samples\n",
            "Epoch 1/30\n",
            "36667/36667 [==============================] - 2s 66us/sample - loss: 0.3192 - accuracy: 0.9104 - val_loss: 0.1720 - val_accuracy: 0.9506\n",
            "Epoch 2/30\n",
            "36667/36667 [==============================] - 2s 63us/sample - loss: 0.1566 - accuracy: 0.9553 - val_loss: 0.1327 - val_accuracy: 0.9622\n",
            "Epoch 3/30\n",
            "36667/36667 [==============================] - 2s 63us/sample - loss: 0.1148 - accuracy: 0.9669 - val_loss: 0.1339 - val_accuracy: 0.9600\n",
            "Epoch 4/30\n",
            "36667/36667 [==============================] - 2s 65us/sample - loss: 0.0901 - accuracy: 0.9737 - val_loss: 0.1078 - val_accuracy: 0.9684\n",
            "Epoch 5/30\n",
            "36667/36667 [==============================] - 2s 64us/sample - loss: 0.0738 - accuracy: 0.9785 - val_loss: 0.0977 - val_accuracy: 0.9722\n",
            "Epoch 6/30\n",
            "36667/36667 [==============================] - 2s 64us/sample - loss: 0.0619 - accuracy: 0.9819 - val_loss: 0.1051 - val_accuracy: 0.9698\n",
            "Epoch 7/30\n",
            "36667/36667 [==============================] - 2s 63us/sample - loss: 0.0539 - accuracy: 0.9847 - val_loss: 0.1058 - val_accuracy: 0.9702\n",
            "[CV] .................................... n_neurons=100, total=  17.3s\n",
            "[CV] n_neurons=100 ...................................................\n",
            "Train on 36667 samples, validate on 5000 samples\n",
            "Epoch 1/30\n",
            "36667/36667 [==============================] - 2s 66us/sample - loss: 0.3266 - accuracy: 0.9056 - val_loss: 0.1793 - val_accuracy: 0.9482\n",
            "Epoch 2/30\n",
            "36667/36667 [==============================] - 2s 65us/sample - loss: 0.1629 - accuracy: 0.9528 - val_loss: 0.1508 - val_accuracy: 0.9578\n",
            "Epoch 3/30\n",
            "36667/36667 [==============================] - 2s 62us/sample - loss: 0.1184 - accuracy: 0.9651 - val_loss: 0.1211 - val_accuracy: 0.9640\n",
            "Epoch 4/30\n",
            "36667/36667 [==============================] - 2s 63us/sample - loss: 0.0939 - accuracy: 0.9726 - val_loss: 0.1052 - val_accuracy: 0.9700\n",
            "Epoch 5/30\n",
            "36667/36667 [==============================] - 2s 65us/sample - loss: 0.0759 - accuracy: 0.9785 - val_loss: 0.0938 - val_accuracy: 0.9712\n",
            "Epoch 6/30\n",
            "36667/36667 [==============================] - 2s 65us/sample - loss: 0.0650 - accuracy: 0.9818 - val_loss: 0.1074 - val_accuracy: 0.9700\n",
            "Epoch 7/30\n",
            "36667/36667 [==============================] - 2s 63us/sample - loss: 0.0547 - accuracy: 0.9850 - val_loss: 0.1075 - val_accuracy: 0.9704\n",
            "[CV] .................................... n_neurons=100, total=  17.3s\n",
            "[CV] n_neurons=150 ...................................................\n",
            "Train on 36666 samples, validate on 5000 samples\n",
            "Epoch 1/30\n",
            "36666/36666 [==============================] - 3s 84us/sample - loss: 0.3085 - accuracy: 0.9107 - val_loss: 0.1705 - val_accuracy: 0.9530\n",
            "Epoch 2/30\n",
            "36666/36666 [==============================] - 3s 84us/sample - loss: 0.1455 - accuracy: 0.9563 - val_loss: 0.1212 - val_accuracy: 0.9642\n",
            "Epoch 3/30\n",
            "36666/36666 [==============================] - 3s 83us/sample - loss: 0.1026 - accuracy: 0.9693 - val_loss: 0.1094 - val_accuracy: 0.9698\n",
            "Epoch 4/30\n",
            "36666/36666 [==============================] - 3s 80us/sample - loss: 0.0775 - accuracy: 0.9767 - val_loss: 0.1113 - val_accuracy: 0.9702\n",
            "Epoch 5/30\n",
            "36666/36666 [==============================] - 3s 81us/sample - loss: 0.0637 - accuracy: 0.9811 - val_loss: 0.0955 - val_accuracy: 0.9740\n",
            "Epoch 6/30\n",
            "36666/36666 [==============================] - 3s 80us/sample - loss: 0.0516 - accuracy: 0.9848 - val_loss: 0.1146 - val_accuracy: 0.9694\n",
            "Epoch 7/30\n",
            "36666/36666 [==============================] - 3s 80us/sample - loss: 0.0435 - accuracy: 0.9875 - val_loss: 0.0995 - val_accuracy: 0.9728\n",
            "[CV] .................................... n_neurons=150, total=  21.9s\n",
            "[CV] n_neurons=150 ...................................................\n",
            "Train on 36667 samples, validate on 5000 samples\n",
            "Epoch 1/30\n",
            "36667/36667 [==============================] - 3s 84us/sample - loss: 0.3008 - accuracy: 0.9145 - val_loss: 0.1757 - val_accuracy: 0.9472\n",
            "Epoch 2/30\n",
            "36667/36667 [==============================] - 3s 81us/sample - loss: 0.1431 - accuracy: 0.9579 - val_loss: 0.1224 - val_accuracy: 0.9642\n",
            "Epoch 3/30\n",
            "36667/36667 [==============================] - 3s 79us/sample - loss: 0.1019 - accuracy: 0.9708 - val_loss: 0.1082 - val_accuracy: 0.9672\n",
            "Epoch 4/30\n",
            "36667/36667 [==============================] - 3s 84us/sample - loss: 0.0782 - accuracy: 0.9769 - val_loss: 0.0966 - val_accuracy: 0.9718\n",
            "Epoch 5/30\n",
            "36667/36667 [==============================] - 3s 81us/sample - loss: 0.0633 - accuracy: 0.9814 - val_loss: 0.0976 - val_accuracy: 0.9708\n",
            "Epoch 6/30\n",
            "36667/36667 [==============================] - 3s 77us/sample - loss: 0.0523 - accuracy: 0.9849 - val_loss: 0.0852 - val_accuracy: 0.9738\n",
            "Epoch 7/30\n",
            "36667/36667 [==============================] - 3s 82us/sample - loss: 0.0428 - accuracy: 0.9878 - val_loss: 0.0858 - val_accuracy: 0.9768\n",
            "Epoch 8/30\n",
            "36667/36667 [==============================] - 3s 79us/sample - loss: 0.0360 - accuracy: 0.9897 - val_loss: 0.0913 - val_accuracy: 0.9730\n",
            "[CV] .................................... n_neurons=150, total=  24.6s\n",
            "[CV] n_neurons=150 ...................................................\n",
            "Train on 36667 samples, validate on 5000 samples\n",
            "Epoch 1/30\n",
            "36667/36667 [==============================] - 3s 83us/sample - loss: 0.3092 - accuracy: 0.9117 - val_loss: 0.1676 - val_accuracy: 0.9534\n",
            "Epoch 2/30\n",
            "36667/36667 [==============================] - 3s 81us/sample - loss: 0.1455 - accuracy: 0.9574 - val_loss: 0.1221 - val_accuracy: 0.9648\n",
            "Epoch 3/30\n",
            "36667/36667 [==============================] - 3s 82us/sample - loss: 0.1012 - accuracy: 0.9699 - val_loss: 0.1095 - val_accuracy: 0.9690\n",
            "Epoch 4/30\n",
            "36667/36667 [==============================] - 3s 81us/sample - loss: 0.0790 - accuracy: 0.9768 - val_loss: 0.0976 - val_accuracy: 0.9722\n",
            "Epoch 5/30\n",
            "36667/36667 [==============================] - 3s 81us/sample - loss: 0.0629 - accuracy: 0.9823 - val_loss: 0.1048 - val_accuracy: 0.9696\n",
            "Epoch 6/30\n",
            "36667/36667 [==============================] - 3s 79us/sample - loss: 0.0523 - accuracy: 0.9854 - val_loss: 0.0912 - val_accuracy: 0.9774\n",
            "Epoch 7/30\n",
            "36667/36667 [==============================] - 3s 81us/sample - loss: 0.0440 - accuracy: 0.9880 - val_loss: 0.1028 - val_accuracy: 0.9740\n",
            "Epoch 8/30\n",
            "36667/36667 [==============================] - 3s 82us/sample - loss: 0.0372 - accuracy: 0.9901 - val_loss: 0.1096 - val_accuracy: 0.9730\n",
            "[CV] .................................... n_neurons=150, total=  24.8s\n",
            "[CV] n_neurons=200 ...................................................\n",
            "Train on 36666 samples, validate on 5000 samples\n",
            "Epoch 1/30\n",
            "36666/36666 [==============================] - 3s 90us/sample - loss: 0.2831 - accuracy: 0.9180 - val_loss: 0.1559 - val_accuracy: 0.9546\n",
            "Epoch 2/30\n",
            "36666/36666 [==============================] - 3s 86us/sample - loss: 0.1308 - accuracy: 0.9618 - val_loss: 0.1303 - val_accuracy: 0.9608\n",
            "Epoch 3/30\n",
            "36666/36666 [==============================] - 3s 86us/sample - loss: 0.0926 - accuracy: 0.9732 - val_loss: 0.1019 - val_accuracy: 0.9722\n",
            "Epoch 4/30\n",
            "36666/36666 [==============================] - 3s 88us/sample - loss: 0.0711 - accuracy: 0.9791 - val_loss: 0.1022 - val_accuracy: 0.9718\n",
            "Epoch 5/30\n",
            "36666/36666 [==============================] - 3s 88us/sample - loss: 0.0565 - accuracy: 0.9840 - val_loss: 0.0973 - val_accuracy: 0.9748\n",
            "Epoch 6/30\n",
            "36666/36666 [==============================] - 3s 89us/sample - loss: 0.0451 - accuracy: 0.9867 - val_loss: 0.0888 - val_accuracy: 0.9750\n",
            "Epoch 7/30\n",
            "36666/36666 [==============================] - 3s 90us/sample - loss: 0.0385 - accuracy: 0.9891 - val_loss: 0.1006 - val_accuracy: 0.9726\n",
            "Epoch 8/30\n",
            "36666/36666 [==============================] - 3s 87us/sample - loss: 0.0310 - accuracy: 0.9916 - val_loss: 0.1032 - val_accuracy: 0.9738\n",
            "[CV] .................................... n_neurons=200, total=  26.8s\n",
            "[CV] n_neurons=200 ...................................................\n",
            "Train on 36667 samples, validate on 5000 samples\n",
            "Epoch 1/30\n",
            "36667/36667 [==============================] - 3s 93us/sample - loss: 0.2865 - accuracy: 0.9178 - val_loss: 0.1740 - val_accuracy: 0.9512\n",
            "Epoch 2/30\n",
            "36667/36667 [==============================] - 3s 91us/sample - loss: 0.1345 - accuracy: 0.9607 - val_loss: 0.1169 - val_accuracy: 0.9692\n",
            "Epoch 3/30\n",
            "36667/36667 [==============================] - 3s 89us/sample - loss: 0.0929 - accuracy: 0.9732 - val_loss: 0.1027 - val_accuracy: 0.9716\n",
            "Epoch 4/30\n",
            "36667/36667 [==============================] - 3s 88us/sample - loss: 0.0705 - accuracy: 0.9787 - val_loss: 0.1013 - val_accuracy: 0.9716\n",
            "Epoch 5/30\n",
            "36667/36667 [==============================] - 3s 89us/sample - loss: 0.0558 - accuracy: 0.9833 - val_loss: 0.0913 - val_accuracy: 0.9738\n",
            "Epoch 6/30\n",
            "36667/36667 [==============================] - 4s 98us/sample - loss: 0.0460 - accuracy: 0.9866 - val_loss: 0.0955 - val_accuracy: 0.9752\n",
            "Epoch 7/30\n",
            "36667/36667 [==============================] - 4s 100us/sample - loss: 0.0378 - accuracy: 0.9891 - val_loss: 0.0950 - val_accuracy: 0.9750\n",
            "[CV] .................................... n_neurons=200, total=  25.0s\n",
            "[CV] n_neurons=200 ...................................................\n",
            "Train on 36667 samples, validate on 5000 samples\n",
            "Epoch 1/30\n",
            "36667/36667 [==============================] - 3s 94us/sample - loss: 0.2876 - accuracy: 0.9189 - val_loss: 0.1593 - val_accuracy: 0.9546\n",
            "Epoch 2/30\n",
            "36667/36667 [==============================] - 3s 89us/sample - loss: 0.1283 - accuracy: 0.9622 - val_loss: 0.1035 - val_accuracy: 0.9728\n",
            "Epoch 3/30\n",
            "36667/36667 [==============================] - 3s 91us/sample - loss: 0.0892 - accuracy: 0.9737 - val_loss: 0.0901 - val_accuracy: 0.9744\n",
            "Epoch 4/30\n",
            "36667/36667 [==============================] - 3s 89us/sample - loss: 0.0688 - accuracy: 0.9796 - val_loss: 0.0927 - val_accuracy: 0.9738\n",
            "Epoch 5/30\n",
            "36667/36667 [==============================] - 3s 90us/sample - loss: 0.0539 - accuracy: 0.9844 - val_loss: 0.0849 - val_accuracy: 0.9778\n",
            "Epoch 6/30\n",
            "36667/36667 [==============================] - 3s 91us/sample - loss: 0.0441 - accuracy: 0.9875 - val_loss: 0.0905 - val_accuracy: 0.9768\n",
            "Epoch 7/30\n",
            "36667/36667 [==============================] - 3s 91us/sample - loss: 0.0360 - accuracy: 0.9897 - val_loss: 0.0990 - val_accuracy: 0.9756\n",
            "[CV] .................................... n_neurons=200, total=  24.5s\n",
            "[CV] n_neurons=250 ...................................................\n",
            "Train on 36666 samples, validate on 5000 samples\n",
            "Epoch 1/30\n",
            "36666/36666 [==============================] - 4s 114us/sample - loss: 0.2715 - accuracy: 0.9203 - val_loss: 0.1544 - val_accuracy: 0.9556\n",
            "Epoch 2/30\n",
            "36666/36666 [==============================] - 4s 113us/sample - loss: 0.1245 - accuracy: 0.9630 - val_loss: 0.1057 - val_accuracy: 0.9690\n",
            "Epoch 3/30\n",
            "36666/36666 [==============================] - 4s 110us/sample - loss: 0.0863 - accuracy: 0.9748 - val_loss: 0.1016 - val_accuracy: 0.9700\n",
            "Epoch 4/30\n",
            "36666/36666 [==============================] - 4s 101us/sample - loss: 0.0657 - accuracy: 0.9807 - val_loss: 0.1049 - val_accuracy: 0.9706\n",
            "Epoch 5/30\n",
            "36666/36666 [==============================] - 4s 101us/sample - loss: 0.0515 - accuracy: 0.9844 - val_loss: 0.1061 - val_accuracy: 0.9720\n",
            "[CV] .................................... n_neurons=250, total=  20.9s\n",
            "[CV] n_neurons=250 ...................................................\n",
            "Train on 36667 samples, validate on 5000 samples\n",
            "Epoch 1/30\n",
            "36667/36667 [==============================] - 4s 106us/sample - loss: 0.2766 - accuracy: 0.9192 - val_loss: 0.1761 - val_accuracy: 0.9486\n",
            "Epoch 2/30\n",
            "36667/36667 [==============================] - 4s 105us/sample - loss: 0.1257 - accuracy: 0.9634 - val_loss: 0.1177 - val_accuracy: 0.9648\n",
            "Epoch 3/30\n",
            "36667/36667 [==============================] - 4s 102us/sample - loss: 0.0864 - accuracy: 0.9744 - val_loss: 0.1005 - val_accuracy: 0.9722\n",
            "Epoch 4/30\n",
            "36667/36667 [==============================] - 4s 103us/sample - loss: 0.0654 - accuracy: 0.9810 - val_loss: 0.0874 - val_accuracy: 0.9756\n",
            "Epoch 5/30\n",
            "36667/36667 [==============================] - 4s 104us/sample - loss: 0.0501 - accuracy: 0.9855 - val_loss: 0.0950 - val_accuracy: 0.9740\n",
            "Epoch 6/30\n",
            "36667/36667 [==============================] - 4s 104us/sample - loss: 0.0401 - accuracy: 0.9884 - val_loss: 0.1027 - val_accuracy: 0.9720\n",
            "[CV] .................................... n_neurons=250, total=  24.1s\n",
            "[CV] n_neurons=250 ...................................................\n",
            "Train on 36667 samples, validate on 5000 samples\n",
            "Epoch 1/30\n",
            "36667/36667 [==============================] - 4s 105us/sample - loss: 0.2730 - accuracy: 0.9199 - val_loss: 0.1414 - val_accuracy: 0.9596\n",
            "Epoch 2/30\n",
            "36667/36667 [==============================] - 4s 103us/sample - loss: 0.1194 - accuracy: 0.9651 - val_loss: 0.1025 - val_accuracy: 0.9688\n",
            "Epoch 3/30\n",
            "36667/36667 [==============================] - 4s 101us/sample - loss: 0.0826 - accuracy: 0.9756 - val_loss: 0.0928 - val_accuracy: 0.9726\n",
            "Epoch 4/30\n",
            "36667/36667 [==============================] - 4s 102us/sample - loss: 0.0636 - accuracy: 0.9816 - val_loss: 0.0840 - val_accuracy: 0.9748\n",
            "Epoch 5/30\n",
            "36667/36667 [==============================] - 4s 103us/sample - loss: 0.0482 - accuracy: 0.9864 - val_loss: 0.0808 - val_accuracy: 0.9762\n",
            "Epoch 6/30\n",
            "36667/36667 [==============================] - 4s 105us/sample - loss: 0.0377 - accuracy: 0.9885 - val_loss: 0.0870 - val_accuracy: 0.9756\n",
            "Epoch 7/30\n",
            "36667/36667 [==============================] - 4s 103us/sample - loss: 0.0308 - accuracy: 0.9914 - val_loss: 0.0931 - val_accuracy: 0.9762\n",
            "[CV] .................................... n_neurons=250, total=  27.7s\n",
            "[CV] n_neurons=300 ...................................................\n",
            "Train on 36666 samples, validate on 5000 samples\n",
            "Epoch 1/30\n",
            "36666/36666 [==============================] - 4s 118us/sample - loss: 0.2693 - accuracy: 0.9206 - val_loss: 0.1598 - val_accuracy: 0.9546\n",
            "Epoch 2/30\n",
            "36666/36666 [==============================] - 4s 113us/sample - loss: 0.1221 - accuracy: 0.9642 - val_loss: 0.1106 - val_accuracy: 0.9674\n",
            "Epoch 3/30\n",
            "36666/36666 [==============================] - 4s 113us/sample - loss: 0.0836 - accuracy: 0.9758 - val_loss: 0.0989 - val_accuracy: 0.9710\n",
            "Epoch 4/30\n",
            "36666/36666 [==============================] - 4s 115us/sample - loss: 0.0639 - accuracy: 0.9810 - val_loss: 0.0987 - val_accuracy: 0.9728\n",
            "Epoch 5/30\n",
            "36666/36666 [==============================] - 4s 112us/sample - loss: 0.0480 - accuracy: 0.9861 - val_loss: 0.1058 - val_accuracy: 0.9736\n",
            "Epoch 6/30\n",
            "36666/36666 [==============================] - 4s 114us/sample - loss: 0.0388 - accuracy: 0.9886 - val_loss: 0.1071 - val_accuracy: 0.9748\n",
            "[CV] .................................... n_neurons=300, total=  26.4s\n",
            "[CV] n_neurons=300 ...................................................\n",
            "Train on 36667 samples, validate on 5000 samples\n",
            "Epoch 1/30\n",
            "36667/36667 [==============================] - 4s 117us/sample - loss: 0.2674 - accuracy: 0.9226 - val_loss: 0.1464 - val_accuracy: 0.9598\n",
            "Epoch 2/30\n",
            "36667/36667 [==============================] - 4s 111us/sample - loss: 0.1213 - accuracy: 0.9644 - val_loss: 0.1094 - val_accuracy: 0.9698\n",
            "Epoch 3/30\n",
            "36667/36667 [==============================] - 4s 111us/sample - loss: 0.0832 - accuracy: 0.9747 - val_loss: 0.1064 - val_accuracy: 0.9684\n",
            "Epoch 4/30\n",
            "36667/36667 [==============================] - 4s 112us/sample - loss: 0.0622 - accuracy: 0.9815 - val_loss: 0.0912 - val_accuracy: 0.9758\n",
            "Epoch 5/30\n",
            "36667/36667 [==============================] - 4s 112us/sample - loss: 0.0491 - accuracy: 0.9855 - val_loss: 0.0904 - val_accuracy: 0.9770\n",
            "Epoch 6/30\n",
            "36667/36667 [==============================] - 4s 113us/sample - loss: 0.0379 - accuracy: 0.9885 - val_loss: 0.0875 - val_accuracy: 0.9778\n",
            "Epoch 7/30\n",
            "36667/36667 [==============================] - 4s 115us/sample - loss: 0.0296 - accuracy: 0.9915 - val_loss: 0.0986 - val_accuracy: 0.9764\n",
            "Epoch 8/30\n",
            "36667/36667 [==============================] - 4s 115us/sample - loss: 0.0232 - accuracy: 0.9936 - val_loss: 0.0989 - val_accuracy: 0.9772\n",
            "[CV] .................................... n_neurons=300, total=  34.5s\n",
            "[CV] n_neurons=300 ...................................................\n",
            "Train on 36667 samples, validate on 5000 samples\n",
            "Epoch 1/30\n",
            "36667/36667 [==============================] - 4s 116us/sample - loss: 0.2692 - accuracy: 0.9207 - val_loss: 0.1385 - val_accuracy: 0.9606\n",
            "Epoch 2/30\n",
            "36667/36667 [==============================] - 4s 114us/sample - loss: 0.1169 - accuracy: 0.9653 - val_loss: 0.0921 - val_accuracy: 0.9718\n",
            "Epoch 3/30\n",
            "36667/36667 [==============================] - 4s 112us/sample - loss: 0.0810 - accuracy: 0.9765 - val_loss: 0.0908 - val_accuracy: 0.9744\n",
            "Epoch 4/30\n",
            "36667/36667 [==============================] - 4s 114us/sample - loss: 0.0612 - accuracy: 0.9821 - val_loss: 0.0830 - val_accuracy: 0.9740\n",
            "Epoch 5/30\n",
            "36667/36667 [==============================] - 4s 110us/sample - loss: 0.0476 - accuracy: 0.9861 - val_loss: 0.0917 - val_accuracy: 0.9752\n",
            "Epoch 6/30\n",
            "36667/36667 [==============================] - 4s 109us/sample - loss: 0.0378 - accuracy: 0.9899 - val_loss: 0.0887 - val_accuracy: 0.9772\n",
            "[CV] .................................... n_neurons=300, total=  26.1s\n",
            "[CV] n_neurons=350 ...................................................\n",
            "Train on 36666 samples, validate on 5000 samples\n",
            "Epoch 1/30\n",
            "36666/36666 [==============================] - 5s 131us/sample - loss: 0.2598 - accuracy: 0.9245 - val_loss: 0.1418 - val_accuracy: 0.9588\n",
            "Epoch 2/30\n",
            "36666/36666 [==============================] - 5s 123us/sample - loss: 0.1148 - accuracy: 0.9658 - val_loss: 0.0946 - val_accuracy: 0.9726\n",
            "Epoch 3/30\n",
            "36666/36666 [==============================] - 5s 125us/sample - loss: 0.0779 - accuracy: 0.9766 - val_loss: 0.1131 - val_accuracy: 0.9692\n",
            "Epoch 4/30\n",
            "36666/36666 [==============================] - 5s 127us/sample - loss: 0.0589 - accuracy: 0.9829 - val_loss: 0.0954 - val_accuracy: 0.9744\n",
            "[CV] .................................... n_neurons=350, total=  19.9s\n",
            "[CV] n_neurons=350 ...................................................\n",
            "Train on 36667 samples, validate on 5000 samples\n",
            "Epoch 1/30\n",
            "36667/36667 [==============================] - 5s 132us/sample - loss: 0.2611 - accuracy: 0.9235 - val_loss: 0.1337 - val_accuracy: 0.9602\n",
            "Epoch 2/30\n",
            "36667/36667 [==============================] - 5s 128us/sample - loss: 0.1169 - accuracy: 0.9662 - val_loss: 0.1044 - val_accuracy: 0.9688\n",
            "Epoch 3/30\n",
            "36667/36667 [==============================] - 5s 125us/sample - loss: 0.0806 - accuracy: 0.9764 - val_loss: 0.0992 - val_accuracy: 0.9710\n",
            "Epoch 4/30\n",
            "36667/36667 [==============================] - 5s 125us/sample - loss: 0.0610 - accuracy: 0.9816 - val_loss: 0.0885 - val_accuracy: 0.9746\n",
            "Epoch 5/30\n",
            "36667/36667 [==============================] - 5s 125us/sample - loss: 0.0486 - accuracy: 0.9854 - val_loss: 0.0865 - val_accuracy: 0.9766\n",
            "Epoch 6/30\n",
            "36667/36667 [==============================] - 5s 128us/sample - loss: 0.0363 - accuracy: 0.9891 - val_loss: 0.0972 - val_accuracy: 0.9762\n",
            "Epoch 7/30\n",
            "36667/36667 [==============================] - 5s 125us/sample - loss: 0.0276 - accuracy: 0.9922 - val_loss: 0.1023 - val_accuracy: 0.9760\n",
            "[CV] .................................... n_neurons=350, total=  34.0s\n",
            "[CV] n_neurons=350 ...................................................\n",
            "Train on 36667 samples, validate on 5000 samples\n",
            "Epoch 1/30\n",
            "36667/36667 [==============================] - 5s 136us/sample - loss: 0.2626 - accuracy: 0.9223 - val_loss: 0.1325 - val_accuracy: 0.9632\n",
            "Epoch 2/30\n",
            "36667/36667 [==============================] - 5s 128us/sample - loss: 0.1112 - accuracy: 0.9664 - val_loss: 0.1017 - val_accuracy: 0.9704\n",
            "Epoch 3/30\n",
            "36667/36667 [==============================] - 5s 129us/sample - loss: 0.0775 - accuracy: 0.9771 - val_loss: 0.0888 - val_accuracy: 0.9772\n",
            "Epoch 4/30\n",
            "36667/36667 [==============================] - 5s 123us/sample - loss: 0.0582 - accuracy: 0.9835 - val_loss: 0.0833 - val_accuracy: 0.9790\n",
            "Epoch 5/30\n",
            "36667/36667 [==============================] - 5s 128us/sample - loss: 0.0458 - accuracy: 0.9865 - val_loss: 0.0903 - val_accuracy: 0.9770\n",
            "Epoch 6/30\n",
            "36667/36667 [==============================] - 5s 125us/sample - loss: 0.0359 - accuracy: 0.9897 - val_loss: 0.0893 - val_accuracy: 0.9784\n",
            "[CV] .................................... n_neurons=350, total=  29.7s\n",
            "[CV] n_neurons=400 ...................................................\n",
            "Train on 36666 samples, validate on 5000 samples\n",
            "Epoch 1/30\n",
            "36666/36666 [==============================] - 5s 141us/sample - loss: 0.2587 - accuracy: 0.9235 - val_loss: 0.1348 - val_accuracy: 0.9630\n",
            "Epoch 2/30\n",
            "36666/36666 [==============================] - 5s 137us/sample - loss: 0.1141 - accuracy: 0.9668 - val_loss: 0.1102 - val_accuracy: 0.9684\n",
            "Epoch 3/30\n",
            "36666/36666 [==============================] - 5s 134us/sample - loss: 0.0781 - accuracy: 0.9766 - val_loss: 0.0999 - val_accuracy: 0.9734\n",
            "Epoch 4/30\n",
            "36666/36666 [==============================] - 5s 135us/sample - loss: 0.0587 - accuracy: 0.9833 - val_loss: 0.0938 - val_accuracy: 0.9744\n",
            "Epoch 5/30\n",
            "36666/36666 [==============================] - 5s 136us/sample - loss: 0.0451 - accuracy: 0.9864 - val_loss: 0.0917 - val_accuracy: 0.9734\n",
            "Epoch 6/30\n",
            "36666/36666 [==============================] - 5s 138us/sample - loss: 0.0351 - accuracy: 0.9896 - val_loss: 0.1022 - val_accuracy: 0.9750\n",
            "Epoch 7/30\n",
            "36666/36666 [==============================] - 5s 147us/sample - loss: 0.0276 - accuracy: 0.9920 - val_loss: 0.0933 - val_accuracy: 0.9760\n",
            "[CV] .................................... n_neurons=400, total=  37.2s\n",
            "[CV] n_neurons=400 ...................................................\n",
            "Train on 36667 samples, validate on 5000 samples\n",
            "Epoch 1/30\n",
            "36667/36667 [==============================] - 5s 147us/sample - loss: 0.2554 - accuracy: 0.9254 - val_loss: 0.1378 - val_accuracy: 0.9578\n",
            "Epoch 2/30\n",
            "36667/36667 [==============================] - 5s 142us/sample - loss: 0.1128 - accuracy: 0.9668 - val_loss: 0.1063 - val_accuracy: 0.9680\n",
            "Epoch 3/30\n",
            "36667/36667 [==============================] - 5s 139us/sample - loss: 0.0774 - accuracy: 0.9768 - val_loss: 0.0951 - val_accuracy: 0.9736\n",
            "Epoch 4/30\n",
            "36667/36667 [==============================] - 5s 138us/sample - loss: 0.0577 - accuracy: 0.9819 - val_loss: 0.0890 - val_accuracy: 0.9746\n",
            "Epoch 5/30\n",
            "36667/36667 [==============================] - 5s 138us/sample - loss: 0.0431 - accuracy: 0.9870 - val_loss: 0.0972 - val_accuracy: 0.9742\n",
            "Epoch 6/30\n",
            "36667/36667 [==============================] - 5s 140us/sample - loss: 0.0333 - accuracy: 0.9901 - val_loss: 0.0905 - val_accuracy: 0.9758\n",
            "[CV] .................................... n_neurons=400, total=  32.8s\n",
            "[CV] n_neurons=400 ...................................................\n",
            "Train on 36667 samples, validate on 5000 samples\n",
            "Epoch 1/30\n",
            "36667/36667 [==============================] - 6s 158us/sample - loss: 0.2576 - accuracy: 0.9248 - val_loss: 0.1287 - val_accuracy: 0.9624\n",
            "Epoch 2/30\n",
            "36667/36667 [==============================] - 5s 144us/sample - loss: 0.1142 - accuracy: 0.9658 - val_loss: 0.1019 - val_accuracy: 0.9724\n",
            "Epoch 3/30\n",
            "36667/36667 [==============================] - 5s 136us/sample - loss: 0.0791 - accuracy: 0.9768 - val_loss: 0.1069 - val_accuracy: 0.9702\n",
            "Epoch 4/30\n",
            "36667/36667 [==============================] - 5s 138us/sample - loss: 0.0593 - accuracy: 0.9829 - val_loss: 0.0892 - val_accuracy: 0.9764\n",
            "Epoch 5/30\n",
            "36667/36667 [==============================] - 5s 138us/sample - loss: 0.0449 - accuracy: 0.9875 - val_loss: 0.0982 - val_accuracy: 0.9752\n",
            "Epoch 6/30\n",
            "36667/36667 [==============================] - 5s 139us/sample - loss: 0.0359 - accuracy: 0.9898 - val_loss: 0.1012 - val_accuracy: 0.9758\n",
            "[CV] .................................... n_neurons=400, total=  32.9s\n",
            "[CV] n_neurons=450 ...................................................\n",
            "Train on 36666 samples, validate on 5000 samples\n",
            "Epoch 1/30\n",
            "36666/36666 [==============================] - 6s 159us/sample - loss: 0.2541 - accuracy: 0.9254 - val_loss: 0.1309 - val_accuracy: 0.9594\n",
            "Epoch 2/30\n",
            "36666/36666 [==============================] - 6s 153us/sample - loss: 0.1089 - accuracy: 0.9668 - val_loss: 0.1257 - val_accuracy: 0.9640\n",
            "Epoch 3/30\n",
            "36666/36666 [==============================] - 6s 154us/sample - loss: 0.0764 - accuracy: 0.9775 - val_loss: 0.0963 - val_accuracy: 0.9730\n",
            "Epoch 4/30\n",
            "36666/36666 [==============================] - 6s 151us/sample - loss: 0.0556 - accuracy: 0.9831 - val_loss: 0.1158 - val_accuracy: 0.9698\n",
            "Epoch 5/30\n",
            "36666/36666 [==============================] - 6s 154us/sample - loss: 0.0427 - accuracy: 0.9878 - val_loss: 0.1038 - val_accuracy: 0.9732\n",
            "[CV] .................................... n_neurons=450, total=  30.1s\n",
            "[CV] n_neurons=450 ...................................................\n",
            "Train on 36667 samples, validate on 5000 samples\n",
            "Epoch 1/30\n",
            "36667/36667 [==============================] - 6s 163us/sample - loss: 0.2537 - accuracy: 0.9246 - val_loss: 0.1254 - val_accuracy: 0.9658\n",
            "Epoch 2/30\n",
            "36667/36667 [==============================] - 6s 158us/sample - loss: 0.1077 - accuracy: 0.9684 - val_loss: 0.0997 - val_accuracy: 0.9686\n",
            "Epoch 3/30\n",
            "36667/36667 [==============================] - 6s 153us/sample - loss: 0.0742 - accuracy: 0.9779 - val_loss: 0.0962 - val_accuracy: 0.9718\n",
            "Epoch 4/30\n",
            "36667/36667 [==============================] - 6s 151us/sample - loss: 0.0546 - accuracy: 0.9838 - val_loss: 0.1018 - val_accuracy: 0.9722\n",
            "Epoch 5/30\n",
            "36667/36667 [==============================] - 6s 157us/sample - loss: 0.0421 - accuracy: 0.9875 - val_loss: 0.0920 - val_accuracy: 0.9760\n",
            "Epoch 6/30\n",
            "36667/36667 [==============================] - 6s 153us/sample - loss: 0.0323 - accuracy: 0.9903 - val_loss: 0.1016 - val_accuracy: 0.9734\n",
            "Epoch 7/30\n",
            "36667/36667 [==============================] - 6s 154us/sample - loss: 0.0241 - accuracy: 0.9929 - val_loss: 0.0915 - val_accuracy: 0.9786\n",
            "Epoch 8/30\n",
            "36667/36667 [==============================] - 6s 159us/sample - loss: 0.0181 - accuracy: 0.9941 - val_loss: 0.1136 - val_accuracy: 0.9756\n",
            "Epoch 9/30\n",
            "36667/36667 [==============================] - 6s 158us/sample - loss: 0.0147 - accuracy: 0.9960 - val_loss: 0.1000 - val_accuracy: 0.9768\n",
            "[CV] .................................... n_neurons=450, total=  53.4s\n",
            "[CV] n_neurons=450 ...................................................\n",
            "Train on 36667 samples, validate on 5000 samples\n",
            "Epoch 1/30\n",
            "36667/36667 [==============================] - 6s 163us/sample - loss: 0.2582 - accuracy: 0.9237 - val_loss: 0.1194 - val_accuracy: 0.9652\n",
            "Epoch 2/30\n",
            "36667/36667 [==============================] - 6s 154us/sample - loss: 0.1083 - accuracy: 0.9674 - val_loss: 0.0916 - val_accuracy: 0.9724\n",
            "Epoch 3/30\n",
            "36667/36667 [==============================] - 6s 159us/sample - loss: 0.0728 - accuracy: 0.9787 - val_loss: 0.1000 - val_accuracy: 0.9720\n",
            "Epoch 4/30\n",
            "36667/36667 [==============================] - 6s 152us/sample - loss: 0.0536 - accuracy: 0.9842 - val_loss: 0.0919 - val_accuracy: 0.9756\n",
            "[CV] .................................... n_neurons=450, total=  24.8s\n",
            "[CV] n_neurons=500 ...................................................\n",
            "Train on 36666 samples, validate on 5000 samples\n",
            "Epoch 1/30\n",
            "36666/36666 [==============================] - 7s 179us/sample - loss: 0.2505 - accuracy: 0.9264 - val_loss: 0.1284 - val_accuracy: 0.9602\n",
            "Epoch 2/30\n",
            "36666/36666 [==============================] - 6s 163us/sample - loss: 0.1080 - accuracy: 0.9679 - val_loss: 0.1130 - val_accuracy: 0.9668\n",
            "Epoch 3/30\n",
            "36666/36666 [==============================] - 6s 163us/sample - loss: 0.0745 - accuracy: 0.9775 - val_loss: 0.0943 - val_accuracy: 0.9746\n",
            "Epoch 4/30\n",
            "36666/36666 [==============================] - 6s 168us/sample - loss: 0.0557 - accuracy: 0.9837 - val_loss: 0.1038 - val_accuracy: 0.9722\n",
            "Epoch 5/30\n",
            "36666/36666 [==============================] - 6s 171us/sample - loss: 0.0414 - accuracy: 0.9884 - val_loss: 0.0925 - val_accuracy: 0.9770\n",
            "Epoch 6/30\n",
            "36666/36666 [==============================] - 6s 174us/sample - loss: 0.0323 - accuracy: 0.9906 - val_loss: 0.1061 - val_accuracy: 0.9722\n",
            "Epoch 7/30\n",
            "36666/36666 [==============================] - 6s 169us/sample - loss: 0.0253 - accuracy: 0.9927 - val_loss: 0.1082 - val_accuracy: 0.9768\n",
            "[CV] .................................... n_neurons=500, total=  45.4s\n",
            "[CV] n_neurons=500 ...................................................\n",
            "Train on 36667 samples, validate on 5000 samples\n",
            "Epoch 1/30\n",
            "36667/36667 [==============================] - 7s 178us/sample - loss: 0.2496 - accuracy: 0.9266 - val_loss: 0.1350 - val_accuracy: 0.9610\n",
            "Epoch 2/30\n",
            "36667/36667 [==============================] - 6s 167us/sample - loss: 0.1044 - accuracy: 0.9687 - val_loss: 0.0982 - val_accuracy: 0.9732\n",
            "Epoch 3/30\n",
            "36667/36667 [==============================] - 6s 168us/sample - loss: 0.0716 - accuracy: 0.9788 - val_loss: 0.1008 - val_accuracy: 0.9726\n",
            "Epoch 4/30\n",
            "36667/36667 [==============================] - 6s 170us/sample - loss: 0.0530 - accuracy: 0.9845 - val_loss: 0.0903 - val_accuracy: 0.9756\n",
            "Epoch 5/30\n",
            "36667/36667 [==============================] - 6s 167us/sample - loss: 0.0386 - accuracy: 0.9883 - val_loss: 0.0939 - val_accuracy: 0.9768\n",
            "Epoch 6/30\n",
            "36667/36667 [==============================] - 6s 165us/sample - loss: 0.0301 - accuracy: 0.9916 - val_loss: 0.0944 - val_accuracy: 0.9776\n",
            "[CV] .................................... n_neurons=500, total=  39.2s\n",
            "[CV] n_neurons=500 ...................................................\n",
            "Train on 36667 samples, validate on 5000 samples\n",
            "Epoch 1/30\n",
            "36667/36667 [==============================] - 6s 173us/sample - loss: 0.2508 - accuracy: 0.9260 - val_loss: 0.1258 - val_accuracy: 0.9648\n",
            "Epoch 2/30\n",
            "36667/36667 [==============================] - 6s 170us/sample - loss: 0.1083 - accuracy: 0.9686 - val_loss: 0.0967 - val_accuracy: 0.9718\n",
            "Epoch 3/30\n",
            "36667/36667 [==============================] - 6s 162us/sample - loss: 0.0720 - accuracy: 0.9792 - val_loss: 0.0841 - val_accuracy: 0.9758\n",
            "Epoch 4/30\n",
            "36667/36667 [==============================] - 6s 164us/sample - loss: 0.0531 - accuracy: 0.9850 - val_loss: 0.0895 - val_accuracy: 0.9770\n",
            "Epoch 5/30\n",
            "36667/36667 [==============================] - 6s 165us/sample - loss: 0.0414 - accuracy: 0.9883 - val_loss: 0.0924 - val_accuracy: 0.9762\n",
            "[CV] .................................... n_neurons=500, total=  32.6s\n",
            "[CV] n_neurons=550 ...................................................\n",
            "Train on 36666 samples, validate on 5000 samples\n",
            "Epoch 1/30\n",
            "36666/36666 [==============================] - 7s 187us/sample - loss: 0.2460 - accuracy: 0.9266 - val_loss: 0.1178 - val_accuracy: 0.9664\n",
            "Epoch 2/30\n",
            "36666/36666 [==============================] - 7s 188us/sample - loss: 0.1070 - accuracy: 0.9683 - val_loss: 0.1360 - val_accuracy: 0.9568\n",
            "Epoch 3/30\n",
            "36666/36666 [==============================] - 7s 185us/sample - loss: 0.0722 - accuracy: 0.9780 - val_loss: 0.0934 - val_accuracy: 0.9750\n",
            "Epoch 4/30\n",
            "36666/36666 [==============================] - 6s 176us/sample - loss: 0.0540 - accuracy: 0.9841 - val_loss: 0.0959 - val_accuracy: 0.9762\n",
            "Epoch 5/30\n",
            "36666/36666 [==============================] - 6s 175us/sample - loss: 0.0412 - accuracy: 0.9879 - val_loss: 0.1054 - val_accuracy: 0.9750\n",
            "[CV] .................................... n_neurons=550, total=  35.4s\n",
            "[CV] n_neurons=550 ...................................................\n",
            "Train on 36667 samples, validate on 5000 samples\n",
            "Epoch 1/30\n",
            "36667/36667 [==============================] - 7s 184us/sample - loss: 0.2471 - accuracy: 0.9271 - val_loss: 0.1331 - val_accuracy: 0.9598\n",
            "Epoch 2/30\n",
            "36667/36667 [==============================] - 7s 179us/sample - loss: 0.1069 - accuracy: 0.9686 - val_loss: 0.1018 - val_accuracy: 0.9678\n",
            "Epoch 3/30\n",
            "36667/36667 [==============================] - 7s 196us/sample - loss: 0.0722 - accuracy: 0.9782 - val_loss: 0.0986 - val_accuracy: 0.9736\n",
            "Epoch 4/30\n",
            "36667/36667 [==============================] - 7s 192us/sample - loss: 0.0536 - accuracy: 0.9841 - val_loss: 0.0933 - val_accuracy: 0.9748\n",
            "Epoch 5/30\n",
            "36667/36667 [==============================] - 7s 182us/sample - loss: 0.0390 - accuracy: 0.9891 - val_loss: 0.1008 - val_accuracy: 0.9752\n",
            "Epoch 6/30\n",
            "36667/36667 [==============================] - 6s 177us/sample - loss: 0.0320 - accuracy: 0.9904 - val_loss: 0.1054 - val_accuracy: 0.9730\n",
            "[CV] .................................... n_neurons=550, total=  42.7s\n",
            "[CV] n_neurons=550 ...................................................\n",
            "Train on 36667 samples, validate on 5000 samples\n",
            "Epoch 1/30\n",
            "36667/36667 [==============================] - 7s 193us/sample - loss: 0.2436 - accuracy: 0.9275 - val_loss: 0.1346 - val_accuracy: 0.9626\n",
            "Epoch 2/30\n",
            "36667/36667 [==============================] - 7s 187us/sample - loss: 0.1034 - accuracy: 0.9693 - val_loss: 0.1025 - val_accuracy: 0.9718\n",
            "Epoch 3/30\n",
            "36667/36667 [==============================] - 7s 185us/sample - loss: 0.0717 - accuracy: 0.9793 - val_loss: 0.0889 - val_accuracy: 0.9752\n",
            "Epoch 4/30\n",
            "36667/36667 [==============================] - 7s 183us/sample - loss: 0.0537 - accuracy: 0.9848 - val_loss: 0.0855 - val_accuracy: 0.9772\n",
            "Epoch 5/30\n",
            "36667/36667 [==============================] - 7s 181us/sample - loss: 0.0409 - accuracy: 0.9881 - val_loss: 0.0978 - val_accuracy: 0.9730\n",
            "Epoch 6/30\n",
            "36667/36667 [==============================] - 7s 181us/sample - loss: 0.0314 - accuracy: 0.9914 - val_loss: 0.0930 - val_accuracy: 0.9778\n",
            "[CV] .................................... n_neurons=550, total=  42.8s\n",
            "[CV] n_neurons=600 ...................................................\n",
            "Train on 36666 samples, validate on 5000 samples\n",
            "Epoch 1/30\n",
            "36666/36666 [==============================] - 7s 203us/sample - loss: 0.2428 - accuracy: 0.9278 - val_loss: 0.1344 - val_accuracy: 0.9570\n",
            "Epoch 2/30\n",
            "36666/36666 [==============================] - 7s 192us/sample - loss: 0.1065 - accuracy: 0.9678 - val_loss: 0.1075 - val_accuracy: 0.9660\n",
            "Epoch 3/30\n",
            "36666/36666 [==============================] - 7s 195us/sample - loss: 0.0726 - accuracy: 0.9781 - val_loss: 0.0853 - val_accuracy: 0.9766\n",
            "Epoch 4/30\n",
            "36666/36666 [==============================] - 7s 199us/sample - loss: 0.0543 - accuracy: 0.9841 - val_loss: 0.0885 - val_accuracy: 0.9768\n",
            "Epoch 5/30\n",
            "36666/36666 [==============================] - 7s 199us/sample - loss: 0.0404 - accuracy: 0.9884 - val_loss: 0.0891 - val_accuracy: 0.9764\n",
            "[CV] .................................... n_neurons=600, total=  38.4s\n",
            "[CV] n_neurons=600 ...................................................\n",
            "Train on 36667 samples, validate on 5000 samples\n",
            "Epoch 1/30\n",
            "36667/36667 [==============================] - 7s 203us/sample - loss: 0.2437 - accuracy: 0.9280 - val_loss: 0.1279 - val_accuracy: 0.9640\n",
            "Epoch 2/30\n",
            "36667/36667 [==============================] - 8s 210us/sample - loss: 0.1031 - accuracy: 0.9693 - val_loss: 0.1186 - val_accuracy: 0.9638\n",
            "Epoch 3/30\n",
            "36667/36667 [==============================] - 7s 201us/sample - loss: 0.0706 - accuracy: 0.9788 - val_loss: 0.0917 - val_accuracy: 0.9748\n",
            "Epoch 4/30\n",
            "36667/36667 [==============================] - 7s 200us/sample - loss: 0.0519 - accuracy: 0.9846 - val_loss: 0.0911 - val_accuracy: 0.9746\n",
            "Epoch 5/30\n",
            "36667/36667 [==============================] - 7s 196us/sample - loss: 0.0378 - accuracy: 0.9888 - val_loss: 0.0903 - val_accuracy: 0.9772\n",
            "Epoch 6/30\n",
            "36667/36667 [==============================] - 7s 197us/sample - loss: 0.0279 - accuracy: 0.9917 - val_loss: 0.1116 - val_accuracy: 0.9732\n",
            "Epoch 7/30\n",
            "36667/36667 [==============================] - 7s 193us/sample - loss: 0.0233 - accuracy: 0.9935 - val_loss: 0.0990 - val_accuracy: 0.9796\n",
            "[CV] .................................... n_neurons=600, total=  53.6s\n",
            "[CV] n_neurons=600 ...................................................\n",
            "Train on 36667 samples, validate on 5000 samples\n",
            "Epoch 1/30\n",
            "36667/36667 [==============================] - 7s 203us/sample - loss: 0.2460 - accuracy: 0.9260 - val_loss: 0.1262 - val_accuracy: 0.9636\n",
            "Epoch 2/30\n",
            "36667/36667 [==============================] - 7s 191us/sample - loss: 0.1029 - accuracy: 0.9706 - val_loss: 0.0910 - val_accuracy: 0.9730\n",
            "Epoch 3/30\n",
            "36667/36667 [==============================] - 7s 191us/sample - loss: 0.0722 - accuracy: 0.9785 - val_loss: 0.0843 - val_accuracy: 0.9770\n",
            "Epoch 4/30\n",
            "36667/36667 [==============================] - 7s 190us/sample - loss: 0.0517 - accuracy: 0.9855 - val_loss: 0.0896 - val_accuracy: 0.9756\n",
            "Epoch 5/30\n",
            "36667/36667 [==============================] - 7s 194us/sample - loss: 0.0389 - accuracy: 0.9885 - val_loss: 0.0997 - val_accuracy: 0.9756\n",
            "[CV] .................................... n_neurons=600, total=  37.7s\n",
            "[CV] n_neurons=650 ...................................................\n",
            "Train on 36666 samples, validate on 5000 samples\n",
            "Epoch 1/30\n",
            "36666/36666 [==============================] - 8s 216us/sample - loss: 0.2404 - accuracy: 0.9287 - val_loss: 0.1274 - val_accuracy: 0.9634\n",
            "Epoch 2/30\n",
            "36666/36666 [==============================] - 8s 208us/sample - loss: 0.1046 - accuracy: 0.9678 - val_loss: 0.1124 - val_accuracy: 0.9686\n",
            "Epoch 3/30\n",
            "36666/36666 [==============================] - 8s 207us/sample - loss: 0.0717 - accuracy: 0.9786 - val_loss: 0.0923 - val_accuracy: 0.9750\n",
            "Epoch 4/30\n",
            "36666/36666 [==============================] - 8s 212us/sample - loss: 0.0514 - accuracy: 0.9845 - val_loss: 0.0907 - val_accuracy: 0.9776\n",
            "Epoch 5/30\n",
            "36666/36666 [==============================] - 8s 213us/sample - loss: 0.0395 - accuracy: 0.9886 - val_loss: 0.1132 - val_accuracy: 0.9724\n",
            "Epoch 6/30\n",
            "36666/36666 [==============================] - 8s 218us/sample - loss: 0.0300 - accuracy: 0.9914 - val_loss: 0.0984 - val_accuracy: 0.9762\n",
            "[CV] .................................... n_neurons=650, total=  49.0s\n",
            "[CV] n_neurons=650 ...................................................\n",
            "Train on 36667 samples, validate on 5000 samples\n",
            "Epoch 1/30\n",
            "36667/36667 [==============================] - 8s 230us/sample - loss: 0.2411 - accuracy: 0.9281 - val_loss: 0.1207 - val_accuracy: 0.9642\n",
            "Epoch 2/30\n",
            "36667/36667 [==============================] - 8s 223us/sample - loss: 0.1036 - accuracy: 0.9687 - val_loss: 0.1018 - val_accuracy: 0.9712\n",
            "Epoch 3/30\n",
            "36667/36667 [==============================] - 9s 234us/sample - loss: 0.0708 - accuracy: 0.9792 - val_loss: 0.0957 - val_accuracy: 0.9714\n",
            "Epoch 4/30\n",
            "36667/36667 [==============================] - 8s 216us/sample - loss: 0.0508 - accuracy: 0.9853 - val_loss: 0.0892 - val_accuracy: 0.9752\n",
            "Epoch 5/30\n",
            "36667/36667 [==============================] - 8s 215us/sample - loss: 0.0392 - accuracy: 0.9881 - val_loss: 0.0881 - val_accuracy: 0.9788\n",
            "Epoch 6/30\n",
            "36667/36667 [==============================] - 8s 209us/sample - loss: 0.0285 - accuracy: 0.9916 - val_loss: 0.0940 - val_accuracy: 0.9776\n",
            "Epoch 7/30\n",
            "36667/36667 [==============================] - 8s 206us/sample - loss: 0.0234 - accuracy: 0.9933 - val_loss: 0.0940 - val_accuracy: 0.9784\n",
            "[CV] .................................... n_neurons=650, total=  58.7s\n",
            "[CV] n_neurons=650 ...................................................\n",
            "Train on 36667 samples, validate on 5000 samples\n",
            "Epoch 1/30\n",
            "36667/36667 [==============================] - 9s 233us/sample - loss: 0.2448 - accuracy: 0.9259 - val_loss: 0.1142 - val_accuracy: 0.9656\n",
            "Epoch 2/30\n",
            "36667/36667 [==============================] - 9s 235us/sample - loss: 0.1048 - accuracy: 0.9691 - val_loss: 0.1098 - val_accuracy: 0.9692\n",
            "Epoch 3/30\n",
            "36667/36667 [==============================] - 8s 228us/sample - loss: 0.0709 - accuracy: 0.9787 - val_loss: 0.0938 - val_accuracy: 0.9756\n",
            "Epoch 4/30\n",
            "36667/36667 [==============================] - 8s 216us/sample - loss: 0.0509 - accuracy: 0.9849 - val_loss: 0.0849 - val_accuracy: 0.9784\n",
            "Epoch 5/30\n",
            "36667/36667 [==============================] - 8s 218us/sample - loss: 0.0395 - accuracy: 0.9890 - val_loss: 0.0942 - val_accuracy: 0.9792\n",
            "Epoch 6/30\n",
            "36667/36667 [==============================] - 8s 219us/sample - loss: 0.0297 - accuracy: 0.9912 - val_loss: 0.1136 - val_accuracy: 0.9754\n",
            "[CV] .................................... n_neurons=650, total=  52.0s\n",
            "[CV] n_neurons=700 ...................................................\n",
            "Train on 36666 samples, validate on 5000 samples\n",
            "Epoch 1/30\n",
            "36666/36666 [==============================] - 9s 238us/sample - loss: 0.2397 - accuracy: 0.9271 - val_loss: 0.1287 - val_accuracy: 0.9624\n",
            "Epoch 2/30\n",
            "36666/36666 [==============================] - 8s 225us/sample - loss: 0.1038 - accuracy: 0.9698 - val_loss: 0.1086 - val_accuracy: 0.9688\n",
            "Epoch 3/30\n",
            "36666/36666 [==============================] - 8s 221us/sample - loss: 0.0699 - accuracy: 0.9791 - val_loss: 0.1074 - val_accuracy: 0.9702\n",
            "Epoch 4/30\n",
            "36666/36666 [==============================] - 8s 216us/sample - loss: 0.0512 - accuracy: 0.9849 - val_loss: 0.1012 - val_accuracy: 0.9700\n",
            "Epoch 5/30\n",
            "36666/36666 [==============================] - 8s 218us/sample - loss: 0.0381 - accuracy: 0.9885 - val_loss: 0.0982 - val_accuracy: 0.9762\n",
            "Epoch 6/30\n",
            "36666/36666 [==============================] - 8s 219us/sample - loss: 0.0288 - accuracy: 0.9917 - val_loss: 0.0962 - val_accuracy: 0.9768\n",
            "Epoch 7/30\n",
            "36666/36666 [==============================] - 8s 217us/sample - loss: 0.0247 - accuracy: 0.9935 - val_loss: 0.1007 - val_accuracy: 0.9760\n",
            "Epoch 8/30\n",
            "36666/36666 [==============================] - 8s 220us/sample - loss: 0.0175 - accuracy: 0.9949 - val_loss: 0.1217 - val_accuracy: 0.9762\n",
            "[CV] .................................... n_neurons=700, total= 1.1min\n",
            "[CV] n_neurons=700 ...................................................\n",
            "Train on 36667 samples, validate on 5000 samples\n",
            "Epoch 1/30\n",
            "36667/36667 [==============================] - 9s 233us/sample - loss: 0.2365 - accuracy: 0.9299 - val_loss: 0.1264 - val_accuracy: 0.9636\n",
            "Epoch 2/30\n",
            "36667/36667 [==============================] - 9s 232us/sample - loss: 0.1029 - accuracy: 0.9696 - val_loss: 0.0970 - val_accuracy: 0.9736\n",
            "Epoch 3/30\n",
            "36667/36667 [==============================] - 8s 232us/sample - loss: 0.0692 - accuracy: 0.9803 - val_loss: 0.0870 - val_accuracy: 0.9780\n",
            "Epoch 4/30\n",
            "36667/36667 [==============================] - 8s 226us/sample - loss: 0.0498 - accuracy: 0.9843 - val_loss: 0.0858 - val_accuracy: 0.9782\n",
            "Epoch 5/30\n",
            "36667/36667 [==============================] - 8s 225us/sample - loss: 0.0392 - accuracy: 0.9884 - val_loss: 0.0991 - val_accuracy: 0.9762\n",
            "Epoch 6/30\n",
            "36667/36667 [==============================] - 8s 228us/sample - loss: 0.0292 - accuracy: 0.9912 - val_loss: 0.0966 - val_accuracy: 0.9802\n",
            "[CV] .................................... n_neurons=700, total=  53.1s\n",
            "[CV] n_neurons=700 ...................................................\n",
            "Train on 36667 samples, validate on 5000 samples\n",
            "Epoch 1/30\n",
            "36667/36667 [==============================] - 9s 242us/sample - loss: 0.2389 - accuracy: 0.9278 - val_loss: 0.1141 - val_accuracy: 0.9654\n",
            "Epoch 2/30\n",
            "36667/36667 [==============================] - 8s 227us/sample - loss: 0.0995 - accuracy: 0.9702 - val_loss: 0.0932 - val_accuracy: 0.9714\n",
            "Epoch 3/30\n",
            "36667/36667 [==============================] - 9s 233us/sample - loss: 0.0694 - accuracy: 0.9806 - val_loss: 0.0996 - val_accuracy: 0.9736\n",
            "Epoch 4/30\n",
            "36667/36667 [==============================] - 8s 229us/sample - loss: 0.0522 - accuracy: 0.9850 - val_loss: 0.0925 - val_accuracy: 0.9790\n",
            "Epoch 5/30\n",
            "36667/36667 [==============================] - 8s 231us/sample - loss: 0.0401 - accuracy: 0.9892 - val_loss: 0.0877 - val_accuracy: 0.9776\n",
            "Epoch 6/30\n",
            "36667/36667 [==============================] - 9s 237us/sample - loss: 0.0296 - accuracy: 0.9918 - val_loss: 0.0912 - val_accuracy: 0.9778\n",
            "Epoch 7/30\n",
            "36667/36667 [==============================] - 9s 241us/sample - loss: 0.0230 - accuracy: 0.9932 - val_loss: 0.0997 - val_accuracy: 0.9790\n",
            "[CV] .................................... n_neurons=700, total= 1.0min\n",
            "[CV] n_neurons=750 ...................................................\n",
            "Train on 36666 samples, validate on 5000 samples\n",
            "Epoch 1/30\n",
            "36666/36666 [==============================] - 10s 267us/sample - loss: 0.2385 - accuracy: 0.9298 - val_loss: 0.1337 - val_accuracy: 0.9588\n",
            "Epoch 2/30\n",
            "36666/36666 [==============================] - 9s 254us/sample - loss: 0.1028 - accuracy: 0.9703 - val_loss: 0.1278 - val_accuracy: 0.9648\n",
            "Epoch 3/30\n",
            "36666/36666 [==============================] - 9s 253us/sample - loss: 0.0724 - accuracy: 0.9794 - val_loss: 0.0950 - val_accuracy: 0.9746\n",
            "Epoch 4/30\n",
            "36666/36666 [==============================] - 10s 270us/sample - loss: 0.0530 - accuracy: 0.9842 - val_loss: 0.0884 - val_accuracy: 0.9782\n",
            "Epoch 5/30\n",
            "36666/36666 [==============================] - 9s 254us/sample - loss: 0.0385 - accuracy: 0.9890 - val_loss: 0.1127 - val_accuracy: 0.9740\n",
            "Epoch 6/30\n",
            "36666/36666 [==============================] - 9s 255us/sample - loss: 0.0304 - accuracy: 0.9909 - val_loss: 0.1118 - val_accuracy: 0.9776\n",
            "[CV] .................................... n_neurons=750, total=  59.7s\n",
            "[CV] n_neurons=750 ...................................................\n",
            "Train on 36667 samples, validate on 5000 samples\n",
            "Epoch 1/30\n",
            "36667/36667 [==============================] - 10s 269us/sample - loss: 0.2377 - accuracy: 0.9296 - val_loss: 0.1262 - val_accuracy: 0.9622\n",
            "Epoch 2/30\n",
            "36667/36667 [==============================] - 9s 253us/sample - loss: 0.1030 - accuracy: 0.9693 - val_loss: 0.0849 - val_accuracy: 0.9742\n",
            "Epoch 3/30\n",
            "36667/36667 [==============================] - 9s 258us/sample - loss: 0.0687 - accuracy: 0.9799 - val_loss: 0.0996 - val_accuracy: 0.9746\n",
            "Epoch 4/30\n",
            "36667/36667 [==============================] - 10s 277us/sample - loss: 0.0514 - accuracy: 0.9848 - val_loss: 0.0947 - val_accuracy: 0.9750\n",
            "[CV] .................................... n_neurons=750, total=  41.6s\n",
            "[CV] n_neurons=750 ...................................................\n",
            "Train on 36667 samples, validate on 5000 samples\n",
            "Epoch 1/30\n",
            "36667/36667 [==============================] - 11s 291us/sample - loss: 0.2354 - accuracy: 0.9303 - val_loss: 0.1244 - val_accuracy: 0.9628\n",
            "Epoch 2/30\n",
            "36667/36667 [==============================] - 9s 250us/sample - loss: 0.1003 - accuracy: 0.9698 - val_loss: 0.1009 - val_accuracy: 0.9724\n",
            "Epoch 3/30\n",
            "36667/36667 [==============================] - 9s 242us/sample - loss: 0.0705 - accuracy: 0.9794 - val_loss: 0.0971 - val_accuracy: 0.9710\n",
            "Epoch 4/30\n",
            "36667/36667 [==============================] - 9s 248us/sample - loss: 0.0493 - accuracy: 0.9859 - val_loss: 0.1102 - val_accuracy: 0.9708\n",
            "Epoch 5/30\n",
            "36667/36667 [==============================] - 9s 245us/sample - loss: 0.0390 - accuracy: 0.9881 - val_loss: 0.1008 - val_accuracy: 0.9788\n",
            "[CV] .................................... n_neurons=750, total=  49.6s\n",
            "[CV] n_neurons=800 ...................................................\n",
            "Train on 36666 samples, validate on 5000 samples\n",
            "Epoch 1/30\n",
            "36666/36666 [==============================] - 10s 273us/sample - loss: 0.2401 - accuracy: 0.9273 - val_loss: 0.1167 - val_accuracy: 0.9686\n",
            "Epoch 2/30\n",
            "36666/36666 [==============================] - 10s 265us/sample - loss: 0.1016 - accuracy: 0.9691 - val_loss: 0.1013 - val_accuracy: 0.9714\n",
            "Epoch 3/30\n",
            "36666/36666 [==============================] - 10s 265us/sample - loss: 0.0706 - accuracy: 0.9793 - val_loss: 0.0979 - val_accuracy: 0.9732\n",
            "Epoch 4/30\n",
            "36666/36666 [==============================] - 9s 257us/sample - loss: 0.0514 - accuracy: 0.9849 - val_loss: 0.0970 - val_accuracy: 0.9756\n",
            "Epoch 5/30\n",
            "36666/36666 [==============================] - 10s 265us/sample - loss: 0.0363 - accuracy: 0.9891 - val_loss: 0.1026 - val_accuracy: 0.9742\n",
            "Epoch 6/30\n",
            "36666/36666 [==============================] - 10s 263us/sample - loss: 0.0286 - accuracy: 0.9915 - val_loss: 0.0943 - val_accuracy: 0.9778\n",
            "Epoch 7/30\n",
            "36666/36666 [==============================] - 9s 256us/sample - loss: 0.0225 - accuracy: 0.9930 - val_loss: 0.1014 - val_accuracy: 0.9780\n",
            "Epoch 8/30\n",
            "36666/36666 [==============================] - 10s 260us/sample - loss: 0.0187 - accuracy: 0.9945 - val_loss: 0.1029 - val_accuracy: 0.9802\n",
            "[CV] .................................... n_neurons=800, total= 1.3min\n",
            "[CV] n_neurons=800 ...................................................\n",
            "Train on 36667 samples, validate on 5000 samples\n",
            "Epoch 1/30\n",
            "36667/36667 [==============================] - 10s 273us/sample - loss: 0.2351 - accuracy: 0.9298 - val_loss: 0.1330 - val_accuracy: 0.9608\n",
            "Epoch 2/30\n",
            "36667/36667 [==============================] - 9s 257us/sample - loss: 0.1007 - accuracy: 0.9702 - val_loss: 0.0940 - val_accuracy: 0.9744\n",
            "Epoch 3/30\n",
            "36667/36667 [==============================] - 9s 256us/sample - loss: 0.0678 - accuracy: 0.9792 - val_loss: 0.1002 - val_accuracy: 0.9718\n",
            "Epoch 4/30\n",
            "36667/36667 [==============================] - 10s 263us/sample - loss: 0.0500 - accuracy: 0.9858 - val_loss: 0.1206 - val_accuracy: 0.9656\n",
            "[CV] .................................... n_neurons=800, total=  41.2s\n",
            "[CV] n_neurons=800 ...................................................\n",
            "Train on 36667 samples, validate on 5000 samples\n",
            "Epoch 1/30\n",
            "36667/36667 [==============================] - 10s 268us/sample - loss: 0.2428 - accuracy: 0.9280 - val_loss: 0.1237 - val_accuracy: 0.9658\n",
            "Epoch 2/30\n",
            "36667/36667 [==============================] - 10s 261us/sample - loss: 0.1022 - accuracy: 0.9698 - val_loss: 0.1019 - val_accuracy: 0.9728\n",
            "Epoch 3/30\n",
            "36667/36667 [==============================] - 10s 260us/sample - loss: 0.0701 - accuracy: 0.9798 - val_loss: 0.0805 - val_accuracy: 0.9776\n",
            "Epoch 4/30\n",
            "36667/36667 [==============================] - 10s 261us/sample - loss: 0.0500 - accuracy: 0.9857 - val_loss: 0.0846 - val_accuracy: 0.9768\n",
            "Epoch 5/30\n",
            "36667/36667 [==============================] - 10s 261us/sample - loss: 0.0363 - accuracy: 0.9888 - val_loss: 0.1262 - val_accuracy: 0.9722\n",
            "[CV] .................................... n_neurons=800, total=  50.9s\n",
            "[CV] n_neurons=850 ...................................................\n",
            "Train on 36666 samples, validate on 5000 samples\n",
            "Epoch 1/30\n",
            "36666/36666 [==============================] - 11s 301us/sample - loss: 0.2312 - accuracy: 0.9308 - val_loss: 0.1265 - val_accuracy: 0.9630\n",
            "Epoch 2/30\n",
            "36666/36666 [==============================] - 11s 297us/sample - loss: 0.1017 - accuracy: 0.9704 - val_loss: 0.1012 - val_accuracy: 0.9704\n",
            "Epoch 3/30\n",
            "36666/36666 [==============================] - 10s 273us/sample - loss: 0.0696 - accuracy: 0.9800 - val_loss: 0.0884 - val_accuracy: 0.9760\n",
            "Epoch 4/30\n",
            "36666/36666 [==============================] - 10s 281us/sample - loss: 0.0507 - accuracy: 0.9851 - val_loss: 0.0929 - val_accuracy: 0.9764\n",
            "Epoch 5/30\n",
            "36666/36666 [==============================] - 10s 280us/sample - loss: 0.0382 - accuracy: 0.9888 - val_loss: 0.1011 - val_accuracy: 0.9756\n",
            "[CV] .................................... n_neurons=850, total=  55.5s\n",
            "[CV] n_neurons=850 ...................................................\n",
            "Train on 36667 samples, validate on 5000 samples\n",
            "Epoch 1/30\n",
            "36667/36667 [==============================] - 11s 292us/sample - loss: 0.2329 - accuracy: 0.9299 - val_loss: 0.1210 - val_accuracy: 0.9634\n",
            "Epoch 2/30\n",
            "36667/36667 [==============================] - 10s 279us/sample - loss: 0.0999 - accuracy: 0.9703 - val_loss: 0.0968 - val_accuracy: 0.9722\n",
            "Epoch 3/30\n",
            "36667/36667 [==============================] - 10s 274us/sample - loss: 0.0680 - accuracy: 0.9795 - val_loss: 0.0904 - val_accuracy: 0.9734\n",
            "Epoch 4/30\n",
            "36667/36667 [==============================] - 11s 295us/sample - loss: 0.0486 - accuracy: 0.9855 - val_loss: 0.0895 - val_accuracy: 0.9754\n",
            "Epoch 5/30\n",
            "36667/36667 [==============================] - 10s 274us/sample - loss: 0.0362 - accuracy: 0.9895 - val_loss: 0.1072 - val_accuracy: 0.9736\n",
            "Epoch 6/30\n",
            "36667/36667 [==============================] - 10s 272us/sample - loss: 0.0282 - accuracy: 0.9918 - val_loss: 0.0984 - val_accuracy: 0.9774\n",
            "[CV] .................................... n_neurons=850, total= 1.1min\n",
            "[CV] n_neurons=850 ...................................................\n",
            "Train on 36667 samples, validate on 5000 samples\n",
            "Epoch 1/30\n",
            "36667/36667 [==============================] - 11s 289us/sample - loss: 0.2380 - accuracy: 0.9294 - val_loss: 0.1160 - val_accuracy: 0.9668\n",
            "Epoch 2/30\n",
            "36667/36667 [==============================] - 10s 267us/sample - loss: 0.1026 - accuracy: 0.9708 - val_loss: 0.1090 - val_accuracy: 0.9670\n",
            "Epoch 3/30\n",
            "36667/36667 [==============================] - 10s 269us/sample - loss: 0.0677 - accuracy: 0.9801 - val_loss: 0.1098 - val_accuracy: 0.9734\n",
            "Epoch 4/30\n",
            "36667/36667 [==============================] - 10s 272us/sample - loss: 0.0498 - accuracy: 0.9857 - val_loss: 0.1032 - val_accuracy: 0.9756\n",
            "Epoch 5/30\n",
            "36667/36667 [==============================] - 10s 270us/sample - loss: 0.0369 - accuracy: 0.9893 - val_loss: 0.1177 - val_accuracy: 0.9744\n",
            "Epoch 6/30\n",
            "36667/36667 [==============================] - 10s 272us/sample - loss: 0.0283 - accuracy: 0.9918 - val_loss: 0.1252 - val_accuracy: 0.9762\n",
            "[CV] .................................... n_neurons=850, total= 1.1min\n",
            "Train on 55000 samples, validate on 5000 samples\n"
          ],
          "name": "stdout"
        },
        {
          "output_type": "stream",
          "text": [
            "[Parallel(n_jobs=1)]: Done  48 out of  48 | elapsed: 31.3min finished\n"
          ],
          "name": "stderr"
        },
        {
          "output_type": "stream",
          "text": [
            "Epoch 1/30\n",
            "55000/55000 [==============================] - 13s 228us/sample - loss: 0.2056 - accuracy: 0.9390 - val_loss: 0.1074 - val_accuracy: 0.9670\n",
            "Epoch 2/30\n",
            "55000/55000 [==============================] - 12s 218us/sample - loss: 0.0911 - accuracy: 0.9737 - val_loss: 0.0916 - val_accuracy: 0.9766\n",
            "Epoch 3/30\n",
            "55000/55000 [==============================] - 13s 229us/sample - loss: 0.0653 - accuracy: 0.9817 - val_loss: 0.1072 - val_accuracy: 0.9714\n",
            "Epoch 4/30\n",
            "55000/55000 [==============================] - 13s 229us/sample - loss: 0.0496 - accuracy: 0.9865 - val_loss: 0.0918 - val_accuracy: 0.9748\n"
          ],
          "name": "stdout"
        },
        {
          "output_type": "execute_result",
          "data": {
            "text/plain": [
              "GridSearchCV(cv=3, error_score=nan,\n",
              "             estimator=<tensorflow.python.keras.wrappers.scikit_learn.KerasClassifier object at 0x7f97d23b7278>,\n",
              "             iid='deprecated', n_jobs=None,\n",
              "             param_grid={'n_neurons': range(100, 900, 50)},\n",
              "             pre_dispatch='2*n_jobs', refit=True, return_train_score=False,\n",
              "             scoring=None, verbose=2)"
            ]
          },
          "metadata": {
            "tags": []
          },
          "execution_count": 68
        }
      ]
    },
    {
      "cell_type": "code",
      "metadata": {
        "id": "n2AremQEcprz",
        "colab_type": "code",
        "colab": {
          "base_uri": "https://localhost:8080/",
          "height": 34
        },
        "outputId": "2e8378a7-e90e-4f5c-92cc-89f046cc3db5"
      },
      "source": [
        "# Evaluate the number of neurons that produced the best estimator\n",
        "grid_cv.best_params_"
      ],
      "execution_count": 69,
      "outputs": [
        {
          "output_type": "execute_result",
          "data": {
            "text/plain": [
              "{'n_neurons': 700}"
            ]
          },
          "metadata": {
            "tags": []
          },
          "execution_count": 69
        }
      ]
    },
    {
      "cell_type": "code",
      "metadata": {
        "id": "KeWQcuqPcpr2",
        "colab_type": "code",
        "colab": {
          "base_uri": "https://localhost:8080/",
          "height": 1000
        },
        "outputId": "7967ff60-d552-4ef7-9461-52e706949026"
      },
      "source": [
        "# Results to compare the performance of the models\n",
        "results = grid_cv.cv_results_\n",
        "results"
      ],
      "execution_count": 70,
      "outputs": [
        {
          "output_type": "execute_result",
          "data": {
            "text/plain": [
              "{'mean_fit_time': array([18.45699437, 23.32269708, 24.91798735, 23.65983931, 28.39991379,\n",
              "        27.21238597, 33.45330119, 35.24528098, 38.13743695, 39.36723463,\n",
              "        42.23372785, 52.18744127, 59.99172322, 49.07264249, 56.16095734,\n",
              "        59.81586027]),\n",
              " 'mean_score_time': array([0.42550898, 0.47779671, 0.49913208, 0.58423694, 0.62343804,\n",
              "        0.66136789, 0.8657035 , 0.86041768, 0.91568677, 0.95129633,\n",
              "        1.01481485, 1.05562027, 1.14268438, 1.2235647 , 1.20471787,\n",
              "        1.30116359]),\n",
              " 'mean_test_score': array([0.96803631, 0.96994545, 0.97163639, 0.96952732, 0.97280004,\n",
              "        0.97301823, 0.97383634, 0.972     , 0.97410909, 0.97167275,\n",
              "        0.97309095, 0.97398184, 0.97487273, 0.97269092, 0.97110899,\n",
              "        0.97349089]),\n",
              " 'param_n_neurons': masked_array(data=[100, 150, 200, 250, 300, 350, 400, 450, 500, 550, 600,\n",
              "                    650, 700, 750, 800, 850],\n",
              "              mask=[False, False, False, False, False, False, False, False,\n",
              "                    False, False, False, False, False, False, False, False],\n",
              "        fill_value='?',\n",
              "             dtype=object),\n",
              " 'params': [{'n_neurons': 100},\n",
              "  {'n_neurons': 150},\n",
              "  {'n_neurons': 200},\n",
              "  {'n_neurons': 250},\n",
              "  {'n_neurons': 300},\n",
              "  {'n_neurons': 350},\n",
              "  {'n_neurons': 400},\n",
              "  {'n_neurons': 450},\n",
              "  {'n_neurons': 500},\n",
              "  {'n_neurons': 550},\n",
              "  {'n_neurons': 600},\n",
              "  {'n_neurons': 650},\n",
              "  {'n_neurons': 700},\n",
              "  {'n_neurons': 750},\n",
              "  {'n_neurons': 800},\n",
              "  {'n_neurons': 850}],\n",
              " 'rank_test_score': array([16, 14, 12, 15,  8,  7,  4, 10,  2, 11,  6,  3,  1,  9, 13,  5],\n",
              "       dtype=int32),\n",
              " 'split0_test_score': array([0.97081923, 0.97065562, 0.97054654, 0.96754664, 0.97016472,\n",
              "        0.97065562, 0.97529179, 0.97158283, 0.97485548, 0.97005564,\n",
              "        0.97234648, 0.97420096, 0.97392821, 0.973001  , 0.97589177,\n",
              "        0.97420096]),\n",
              " 'split1_test_score': array([0.96814489, 0.97125405, 0.97136313, 0.96972674, 0.97387224,\n",
              "        0.97398132, 0.97496319, 0.97392678, 0.97578138, 0.97158128,\n",
              "        0.9756723 , 0.97529048, 0.97747231, 0.97179949, 0.96792668,\n",
              "        0.97349042]),\n",
              " 'split2_test_score': array([0.96514481, 0.96792668, 0.97299951, 0.97130859, 0.97436315,\n",
              "        0.97441775, 0.97125405, 0.9704904 , 0.97169042, 0.97338134,\n",
              "        0.97125405, 0.97245407, 0.97321767, 0.97327226, 0.96950853,\n",
              "        0.9727813 ]),\n",
              " 'std_fit_time': array([ 2.19644363,  1.33311266,  1.02003762,  2.7634873 ,  3.91647381,\n",
              "         5.87176852,  2.02605667, 12.43960445,  5.26078626,  3.4534195 ,\n",
              "         7.32206466,  4.02357735,  6.01824425,  7.45644755, 16.43656846,\n",
              "         4.05136787]),\n",
              " 'std_score_time': array([0.01042454, 0.00694742, 0.01674687, 0.01355572, 0.00851185,\n",
              "        0.00806369, 0.05406068, 0.00464911, 0.01397494, 0.00150252,\n",
              "        0.00642136, 0.0133509 , 0.00373789, 0.04485342, 0.01592745,\n",
              "        0.02640263]),\n",
              " 'std_test_score': array([0.00231784, 0.00144824, 0.00101989, 0.00154227, 0.0018742 ,\n",
              "        0.00168009, 0.00183088, 0.00143358, 0.00175154, 0.00135925,\n",
              "        0.00187899, 0.00116828, 0.00186093, 0.00063999, 0.00344304,\n",
              "        0.00057958])}"
            ]
          },
          "metadata": {
            "tags": []
          },
          "execution_count": 70
        }
      ]
    },
    {
      "cell_type": "code",
      "metadata": {
        "id": "KP5ZisdScpr-",
        "colab_type": "code",
        "colab": {
          "base_uri": "https://localhost:8080/",
          "height": 323
        },
        "outputId": "a8a7761f-d712-4949-9a4d-e96c996b1553"
      },
      "source": [
        "results['params'], results['rank_test_score']"
      ],
      "execution_count": 71,
      "outputs": [
        {
          "output_type": "execute_result",
          "data": {
            "text/plain": [
              "([{'n_neurons': 100},\n",
              "  {'n_neurons': 150},\n",
              "  {'n_neurons': 200},\n",
              "  {'n_neurons': 250},\n",
              "  {'n_neurons': 300},\n",
              "  {'n_neurons': 350},\n",
              "  {'n_neurons': 400},\n",
              "  {'n_neurons': 450},\n",
              "  {'n_neurons': 500},\n",
              "  {'n_neurons': 550},\n",
              "  {'n_neurons': 600},\n",
              "  {'n_neurons': 650},\n",
              "  {'n_neurons': 700},\n",
              "  {'n_neurons': 750},\n",
              "  {'n_neurons': 800},\n",
              "  {'n_neurons': 850}],\n",
              " array([16, 14, 12, 15,  8,  7,  4, 10,  2, 11,  6,  3,  1,  9, 13,  5],\n",
              "       dtype=int32))"
            ]
          },
          "metadata": {
            "tags": []
          },
          "execution_count": 71
        }
      ]
    },
    {
      "cell_type": "code",
      "metadata": {
        "id": "JSeuUOKzcpsE",
        "colab_type": "code",
        "colab": {}
      },
      "source": [
        "# Assign the best model and plot\n",
        "best_model = grid_cv.best_estimator_.model"
      ],
      "execution_count": 72,
      "outputs": []
    },
    {
      "cell_type": "code",
      "metadata": {
        "id": "vzZaVv7TcpsL",
        "colab_type": "code",
        "colab": {
          "base_uri": "https://localhost:8080/",
          "height": 34
        },
        "outputId": "598683c9-2f78-4e4c-db6c-29c9cc86f220"
      },
      "source": [
        "# Evaluate best model with test data\n",
        "best_model.evaluate(test_images, test_labels)"
      ],
      "execution_count": 73,
      "outputs": [
        {
          "output_type": "execute_result",
          "data": {
            "text/plain": [
              "[0.0986354736282694, 0.9767]"
            ]
          },
          "metadata": {
            "tags": []
          },
          "execution_count": 73
        }
      ]
    },
    {
      "cell_type": "markdown",
      "metadata": {
        "id": "KJhVbkqqcpsd",
        "colab_type": "text"
      },
      "source": [
        "## 3b. Build and Compile Model "
      ]
    },
    {
      "cell_type": "code",
      "metadata": {
        "id": "rw2WTp_Rcpsf",
        "colab_type": "code",
        "colab": {}
      },
      "source": [
        "# 2 Dense layers\n",
        "# 1st hidden layer w/700 nodes and reLu activation\n",
        "# 2nd is 10-way \"softmax\" layer\n",
        "\n",
        "model_3 = models.Sequential()\n",
        "model_3.add(layers.Dense(700, activation='relu', input_shape=(28 * 28,)))\n",
        "model_3.add(layers.Dense(10, activation='softmax'))   "
      ],
      "execution_count": 75,
      "outputs": []
    },
    {
      "cell_type": "code",
      "metadata": {
        "id": "dnB190CRcpss",
        "colab_type": "code",
        "colab": {}
      },
      "source": [
        "# loss function, rmsprop optimizer, accuracy metrics\n",
        "# Compile the model\n",
        "model_3.compile(loss='sparse_categorical_crossentropy', optimizer='rmsprop', metrics=['accuracy'])"
      ],
      "execution_count": 76,
      "outputs": []
    },
    {
      "cell_type": "markdown",
      "metadata": {
        "id": "cfcsPlJqcpsx",
        "colab_type": "text"
      },
      "source": [
        "## 3c. Train Model"
      ]
    },
    {
      "cell_type": "code",
      "metadata": {
        "id": "1ZB-fpUYcpsx",
        "colab_type": "code",
        "colab": {
          "base_uri": "https://localhost:8080/",
          "height": 615
        },
        "outputId": "6a3cf935-3257-4619-eff5-c443e9955ed5"
      },
      "source": [
        "# Train the model\n",
        "start_time = time.time()\n",
        "history = model_3.fit(train_images, train_labels, epochs=30,\n",
        "                    validation_data=(val_images, val_labels),\n",
        "                    callbacks=[keras.callbacks.EarlyStopping(patience=10)])\n",
        "elapsed_time = time.time() - start_time\n",
        "print('--------------------------')\n",
        "print('Training time in seconds: ', round(elapsed_time,2))\n",
        "print('--------------------------')"
      ],
      "execution_count": 77,
      "outputs": [
        {
          "output_type": "stream",
          "text": [
            "Train on 55000 samples, validate on 5000 samples\n",
            "Epoch 1/30\n",
            "55000/55000 [==============================] - 14s 246us/sample - loss: 0.2052 - accuracy: 0.9393 - val_loss: 0.1017 - val_accuracy: 0.9686\n",
            "Epoch 2/30\n",
            "55000/55000 [==============================] - 13s 232us/sample - loss: 0.0916 - accuracy: 0.9737 - val_loss: 0.0922 - val_accuracy: 0.9746\n",
            "Epoch 3/30\n",
            "55000/55000 [==============================] - 13s 229us/sample - loss: 0.0657 - accuracy: 0.9817 - val_loss: 0.0934 - val_accuracy: 0.9722\n",
            "Epoch 4/30\n",
            "55000/55000 [==============================] - 13s 238us/sample - loss: 0.0497 - accuracy: 0.9858 - val_loss: 0.0925 - val_accuracy: 0.9782\n",
            "Epoch 5/30\n",
            "55000/55000 [==============================] - 13s 235us/sample - loss: 0.0405 - accuracy: 0.9893 - val_loss: 0.0853 - val_accuracy: 0.9796\n",
            "Epoch 6/30\n",
            "55000/55000 [==============================] - 13s 239us/sample - loss: 0.0319 - accuracy: 0.9916 - val_loss: 0.0878 - val_accuracy: 0.9806\n",
            "Epoch 7/30\n",
            "55000/55000 [==============================] - 14s 251us/sample - loss: 0.0265 - accuracy: 0.9927 - val_loss: 0.0873 - val_accuracy: 0.9808\n",
            "Epoch 8/30\n",
            "55000/55000 [==============================] - 12s 223us/sample - loss: 0.0208 - accuracy: 0.9945 - val_loss: 0.1041 - val_accuracy: 0.9806\n",
            "Epoch 9/30\n",
            "55000/55000 [==============================] - 12s 221us/sample - loss: 0.0167 - accuracy: 0.9954 - val_loss: 0.0999 - val_accuracy: 0.9824\n",
            "Epoch 10/30\n",
            "55000/55000 [==============================] - 12s 214us/sample - loss: 0.0130 - accuracy: 0.9961 - val_loss: 0.1029 - val_accuracy: 0.9810\n",
            "Epoch 11/30\n",
            "55000/55000 [==============================] - 12s 218us/sample - loss: 0.0116 - accuracy: 0.9968 - val_loss: 0.1184 - val_accuracy: 0.9810\n",
            "Epoch 12/30\n",
            "55000/55000 [==============================] - 12s 224us/sample - loss: 0.0089 - accuracy: 0.9976 - val_loss: 0.1150 - val_accuracy: 0.9814\n",
            "Epoch 13/30\n",
            "55000/55000 [==============================] - 12s 223us/sample - loss: 0.0086 - accuracy: 0.9976 - val_loss: 0.1278 - val_accuracy: 0.9778\n",
            "Epoch 14/30\n",
            "55000/55000 [==============================] - 13s 241us/sample - loss: 0.0066 - accuracy: 0.9983 - val_loss: 0.1278 - val_accuracy: 0.9810\n",
            "Epoch 15/30\n",
            "55000/55000 [==============================] - 12s 224us/sample - loss: 0.0060 - accuracy: 0.9983 - val_loss: 0.1363 - val_accuracy: 0.9804\n",
            "--------------------------\n",
            "Training time in seconds:  192.07\n",
            "--------------------------\n"
          ],
          "name": "stdout"
        }
      ]
    },
    {
      "cell_type": "markdown",
      "metadata": {
        "id": "FcYVHPuacps1",
        "colab_type": "text"
      },
      "source": [
        "## Test model\n",
        "\n",
        "Evaluate the model on the test dataset."
      ]
    },
    {
      "cell_type": "code",
      "metadata": {
        "id": "S04kiTogcps2",
        "colab_type": "code",
        "colab": {}
      },
      "source": [
        "test_loss, test_acc = model_3.evaluate(test_images, test_labels)"
      ],
      "execution_count": 78,
      "outputs": []
    },
    {
      "cell_type": "code",
      "metadata": {
        "id": "xxI7Q8Pgcps8",
        "colab_type": "code",
        "colab": {
          "base_uri": "https://localhost:8080/",
          "height": 34
        },
        "outputId": "be692a1c-e2cf-4990-ca86-bd6f44a3d230"
      },
      "source": [
        "print(f'test accuracy: {test_acc}, test loss: {test_loss}')"
      ],
      "execution_count": 79,
      "outputs": [
        {
          "output_type": "stream",
          "text": [
            "test accuracy: 0.9805999994277954, test loss: 0.1354975972494404\n"
          ],
          "name": "stdout"
        }
      ]
    },
    {
      "cell_type": "code",
      "metadata": {
        "id": "gSNaPDuYcps_",
        "colab_type": "code",
        "colab": {
          "base_uri": "https://localhost:8080/",
          "height": 34
        },
        "outputId": "b17721ef-060e-43ef-a0de-1dfc333f2ad4"
      },
      "source": [
        "history_dict = history.history\n",
        "history_dict.keys()"
      ],
      "execution_count": 80,
      "outputs": [
        {
          "output_type": "execute_result",
          "data": {
            "text/plain": [
              "dict_keys(['loss', 'accuracy', 'val_loss', 'val_accuracy'])"
            ]
          },
          "metadata": {
            "tags": []
          },
          "execution_count": 80
        }
      ]
    },
    {
      "cell_type": "code",
      "metadata": {
        "id": "G-jCzZ3jcptD",
        "colab_type": "code",
        "colab": {
          "base_uri": "https://localhost:8080/",
          "height": 324
        },
        "outputId": "77dbb39b-03e0-48a7-eb00-8b5340e9a3ea"
      },
      "source": [
        "# Alternate code for accuracy and loss\n",
        "# Plot learning curves for model\n",
        "pd.DataFrame(history.history).plot(figsize=(8, 5))\n",
        "plt.grid(True)\n",
        "plt.gca().set_ylim(0, 1) # set the vertical range to [0-1]\n",
        "plt.show()"
      ],
      "execution_count": 81,
      "outputs": [
        {
          "output_type": "display_data",
          "data": {
            "image/png": "[encoded data removed]",
            "text/plain": [
              "<Figure size 576x360 with 1 Axes>"
            ]
          },
          "metadata": {
            "tags": [],
            "needs_background": "light"
          }
        }
      ]
    },
    {
      "cell_type": "markdown",
      "metadata": {
        "id": "2j8hA7IPcptP",
        "colab_type": "text"
      },
      "source": [
        "## 3d. Hyperparameter Tuning"
      ]
    },
    {
      "cell_type": "code",
      "metadata": {
        "id": "qHlF_DPycptP",
        "colab_type": "code",
        "colab": {}
      },
      "source": [
        "# changing activation function to sigmoid\n",
        "\n",
        "model_3_a = models.Sequential()\n",
        "model_3_a.add(layers.Dense(700, activation='sigmoid', input_shape=(28 * 28,)))\n",
        "model_3_a.add(layers.Dense(10, activation='softmax'))   "
      ],
      "execution_count": 82,
      "outputs": []
    },
    {
      "cell_type": "code",
      "metadata": {
        "id": "X7DQcXtOcpta",
        "colab_type": "code",
        "colab": {}
      },
      "source": [
        "# Compile the model\n",
        "model_3_a.compile(loss='sparse_categorical_crossentropy', optimizer='Adam', metrics=['accuracy'])"
      ],
      "execution_count": 83,
      "outputs": []
    },
    {
      "cell_type": "code",
      "metadata": {
        "id": "_kWlnPlScptd",
        "colab_type": "code",
        "colab": {
          "base_uri": "https://localhost:8080/",
          "height": 649
        },
        "outputId": "b1fa0cd4-38bb-46b9-ea2b-cab742ab3443"
      },
      "source": [
        "# Train the model\n",
        "start_time = time.time()\n",
        "history = model_3_a.fit(train_images, train_labels, epochs=30,\n",
        "                    validation_data=(val_images, val_labels),\n",
        "                    callbacks=[keras.callbacks.EarlyStopping(patience=10)])\n",
        "elapsed_time = time.time() - start_time\n",
        "print('--------------------------')\n",
        "print('Training time in seconds: ', round(elapsed_time,2))\n",
        "print('--------------------------')"
      ],
      "execution_count": 85,
      "outputs": [
        {
          "output_type": "stream",
          "text": [
            "Train on 55000 samples, validate on 5000 samples\n",
            "Epoch 1/30\n",
            "55000/55000 [==============================] - 8s 148us/sample - loss: 8.1124e-04 - accuracy: 0.9998 - val_loss: 0.0814 - val_accuracy: 0.9836\n",
            "Epoch 2/30\n",
            "55000/55000 [==============================] - 8s 147us/sample - loss: 0.0019 - accuracy: 0.9994 - val_loss: 0.0794 - val_accuracy: 0.9846\n",
            "Epoch 3/30\n",
            "55000/55000 [==============================] - 8s 145us/sample - loss: 0.0012 - accuracy: 0.9997 - val_loss: 0.0909 - val_accuracy: 0.9820\n",
            "Epoch 4/30\n",
            "55000/55000 [==============================] - 8s 148us/sample - loss: 0.0019 - accuracy: 0.9994 - val_loss: 0.0853 - val_accuracy: 0.9826\n",
            "Epoch 5/30\n",
            "55000/55000 [==============================] - 8s 145us/sample - loss: 4.3569e-04 - accuracy: 1.0000 - val_loss: 0.0782 - val_accuracy: 0.9854\n",
            "Epoch 6/30\n",
            "55000/55000 [==============================] - 8s 150us/sample - loss: 2.6227e-04 - accuracy: 0.9999 - val_loss: 0.0778 - val_accuracy: 0.9860\n",
            "Epoch 7/30\n",
            "55000/55000 [==============================] - 8s 145us/sample - loss: 0.0020 - accuracy: 0.9993 - val_loss: 0.0958 - val_accuracy: 0.9828\n",
            "Epoch 8/30\n",
            "55000/55000 [==============================] - 8s 145us/sample - loss: 2.8083e-04 - accuracy: 1.0000 - val_loss: 0.0855 - val_accuracy: 0.9848\n",
            "Epoch 9/30\n",
            "55000/55000 [==============================] - 8s 144us/sample - loss: 5.5386e-04 - accuracy: 0.9999 - val_loss: 0.0832 - val_accuracy: 0.9856\n",
            "Epoch 10/30\n",
            "55000/55000 [==============================] - 8s 147us/sample - loss: 0.0015 - accuracy: 0.9996 - val_loss: 0.0960 - val_accuracy: 0.9830\n",
            "Epoch 11/30\n",
            "55000/55000 [==============================] - 8s 148us/sample - loss: 0.0010 - accuracy: 0.9997 - val_loss: 0.0917 - val_accuracy: 0.9834\n",
            "Epoch 12/30\n",
            "55000/55000 [==============================] - 8s 147us/sample - loss: 1.9714e-04 - accuracy: 1.0000 - val_loss: 0.0885 - val_accuracy: 0.9840\n",
            "Epoch 13/30\n",
            "55000/55000 [==============================] - 8s 145us/sample - loss: 4.3465e-05 - accuracy: 1.0000 - val_loss: 0.0864 - val_accuracy: 0.9850\n",
            "Epoch 14/30\n",
            "55000/55000 [==============================] - 8s 145us/sample - loss: 1.7639e-05 - accuracy: 1.0000 - val_loss: 0.0871 - val_accuracy: 0.9854\n",
            "Epoch 15/30\n",
            "55000/55000 [==============================] - 8s 147us/sample - loss: 0.0020 - accuracy: 0.9995 - val_loss: 0.1257 - val_accuracy: 0.9752\n",
            "Epoch 16/30\n",
            "55000/55000 [==============================] - 8s 145us/sample - loss: 0.0010 - accuracy: 0.9997 - val_loss: 0.0987 - val_accuracy: 0.9836\n",
            "--------------------------\n",
            "Training time in seconds:  128.87\n",
            "--------------------------\n"
          ],
          "name": "stdout"
        }
      ]
    },
    {
      "cell_type": "code",
      "metadata": {
        "id": "ji1S_H_jcptm",
        "colab_type": "code",
        "colab": {}
      },
      "source": [
        "test_loss, test_acc = model_3_a.evaluate(test_images, test_labels)"
      ],
      "execution_count": 86,
      "outputs": []
    },
    {
      "cell_type": "code",
      "metadata": {
        "id": "xTYYcRUMcptq",
        "colab_type": "code",
        "colab": {
          "base_uri": "https://localhost:8080/",
          "height": 34
        },
        "outputId": "ba7c74cd-4b71-4299-d878-4d5575d54c20"
      },
      "source": [
        "print(f'test accuracy: {test_acc}, test loss: {test_loss}')"
      ],
      "execution_count": 87,
      "outputs": [
        {
          "output_type": "stream",
          "text": [
            "test accuracy: 0.9821000099182129, test loss: 0.10111340650927571\n"
          ],
          "name": "stdout"
        }
      ]
    },
    {
      "cell_type": "code",
      "metadata": {
        "id": "isebU7ixcptw",
        "colab_type": "code",
        "colab": {
          "base_uri": "https://localhost:8080/",
          "height": 34
        },
        "outputId": "d44915af-b805-4042-be8d-dd790b913eec"
      },
      "source": [
        "history_dict = history.history\n",
        "history_dict.keys()"
      ],
      "execution_count": 88,
      "outputs": [
        {
          "output_type": "execute_result",
          "data": {
            "text/plain": [
              "dict_keys(['loss', 'accuracy', 'val_loss', 'val_accuracy'])"
            ]
          },
          "metadata": {
            "tags": []
          },
          "execution_count": 88
        }
      ]
    },
    {
      "cell_type": "code",
      "metadata": {
        "id": "f5F8CtXAcpt1",
        "colab_type": "code",
        "colab": {
          "base_uri": "https://localhost:8080/",
          "height": 324
        },
        "outputId": "8707e238-43ce-4e68-ebac-5e1403583702"
      },
      "source": [
        "# Alternate code for accuracy and loss\n",
        "# Plot learning curves for model\n",
        "pd.DataFrame(history.history).plot(figsize=(8, 5))\n",
        "plt.grid(True)\n",
        "plt.gca().set_ylim(0, 1) # set the vertical range to [0-1]\n",
        "plt.show()"
      ],
      "execution_count": 89,
      "outputs": [
        {
          "output_type": "display_data",
          "data": {
            "image/png": "[encoded data removed]",
            "text/plain": [
              "<Figure size 576x360 with 1 Axes>"
            ]
          },
          "metadata": {
            "tags": [],
            "needs_background": "light"
          }
        }
      ]
    },
    {
      "cell_type": "markdown",
      "metadata": {
        "id": "6u5vpQIKcpt4",
        "colab_type": "text"
      },
      "source": [
        "## 3e. Confusion Matrix"
      ]
    },
    {
      "cell_type": "code",
      "metadata": {
        "id": "on2_SYcjcpt5",
        "colab_type": "code",
        "colab": {}
      },
      "source": [
        "# Assign predicted classes\n",
        "pred_classes = model_3.predict_classes(train_images)"
      ],
      "execution_count": 90,
      "outputs": []
    },
    {
      "cell_type": "code",
      "metadata": {
        "id": "9bfYyUH6cpt7",
        "colab_type": "code",
        "colab": {
          "base_uri": "https://localhost:8080/",
          "height": 187
        },
        "outputId": "f67d78bb-063e-482c-bdff-91bf331fc8eb"
      },
      "source": [
        "# Create confusion matrix with values\n",
        "conf_mx = confusion_matrix(train_labels,pred_classes)\n",
        "conf_mx"
      ],
      "execution_count": 91,
      "outputs": [
        {
          "output_type": "execute_result",
          "data": {
            "text/plain": [
              "array([[5441,    0,    0,    0,    0,    0,    3,    0,    0,    0],\n",
              "       [   0, 6175,    0,    0,    1,    0,    0,    2,    1,    0],\n",
              "       [   0,    0, 5467,    0,    0,    0,    0,    3,    0,    0],\n",
              "       [   0,    0,    0, 5637,    0,    0,    1,    0,    0,    0],\n",
              "       [   0,    0,    0,    0, 5305,    0,    1,    1,    0,    0],\n",
              "       [   0,    0,    0,    0,    0, 4985,    2,    0,    0,    0],\n",
              "       [   0,    0,    0,    0,    0,    0, 5417,    0,    0,    0],\n",
              "       [   0,    0,    0,    0,    0,    0,    0, 5713,    0,    2],\n",
              "       [   0,    2,    0,    1,    0,    0,    0,    1, 5385,    0],\n",
              "       [   0,    0,    0,    2,    5,    0,    0,    2,    1, 5444]])"
            ]
          },
          "metadata": {
            "tags": []
          },
          "execution_count": 91
        }
      ]
    },
    {
      "cell_type": "code",
      "metadata": {
        "id": "62z_iyizcpuA",
        "colab_type": "code",
        "colab": {
          "base_uri": "https://localhost:8080/",
          "height": 295
        },
        "outputId": "f685e837-9772-40bc-a2a6-4464b24da782"
      },
      "source": [
        "# Plot with values transposed to show actual versus predicted values\n",
        "# m1_cm = confusion_matrix(train_labels, pred_classes)\n",
        "m3_cm_plt=sns.heatmap(conf_mx, square=False, annot=True, fmt='d', cbar=False, cmap=\"Blues\")\n",
        "plt.xlabel('Predicted label')\n",
        "plt.ylabel('Actual label')\n",
        "plt.title(\"Test Confusion Matrix - Model 3\")\n",
        "plt.show();"
      ],
      "execution_count": 92,
      "outputs": [
        {
          "output_type": "display_data",
          "data": {
            "image/png": "[encoded data removed]",
            "text/plain": [
              "<Figure size 432x288 with 1 Axes>"
            ]
          },
          "metadata": {
            "tags": [],
            "needs_background": "light"
          }
        }
      ]
    },
    {
      "cell_type": "code",
      "metadata": {
        "id": "64WwLESYcpuE",
        "colab_type": "code",
        "colab": {}
      },
      "source": [
        "# Plot normalized confusion matrix\n",
        "row_sums = conf_mx.sum(axis=1, keepdims=True)\n",
        "norm_conf_mx = conf_mx / row_sums"
      ],
      "execution_count": 93,
      "outputs": []
    },
    {
      "cell_type": "code",
      "metadata": {
        "id": "C86hrwfOcpuK",
        "colab_type": "code",
        "colab": {
          "base_uri": "https://localhost:8080/",
          "height": 275
        },
        "outputId": "33626f3b-c2cb-4d3b-8d47-6a38124e0ec6"
      },
      "source": [
        "np.fill_diagonal(norm_conf_mx, 0)\n",
        "plt.matshow(norm_conf_mx, cmap=\"Blues\")\n",
        "plt.show()"
      ],
      "execution_count": 94,
      "outputs": [
        {
          "output_type": "display_data",
          "data": {
            "image/png": "[encoded data removed]",
            "text/plain": [
              "<Figure size 288x288 with 1 Axes>"
            ]
          },
          "metadata": {
            "tags": [],
            "needs_background": "light"
          }
        }
      ]
    },
    {
      "cell_type": "code",
      "metadata": {
        "id": "2uTsCnGdcpuM",
        "colab_type": "code",
        "colab": {}
      },
      "source": [
        "# Assign predicted classes\n",
        "pred_classes = model_3_a.predict_classes(train_images)"
      ],
      "execution_count": 95,
      "outputs": []
    },
    {
      "cell_type": "code",
      "metadata": {
        "id": "unIldpsDcpuR",
        "colab_type": "code",
        "colab": {
          "base_uri": "https://localhost:8080/",
          "height": 187
        },
        "outputId": "8e1bd032-8901-4a05-df38-0d7759540f56"
      },
      "source": [
        "# Create confusion matrix with values\n",
        "conf_mx = confusion_matrix(train_labels,pred_classes)\n",
        "conf_mx"
      ],
      "execution_count": 96,
      "outputs": [
        {
          "output_type": "execute_result",
          "data": {
            "text/plain": [
              "array([[5444,    0,    0,    0,    0,    0,    0,    0,    0,    0],\n",
              "       [   0, 6179,    0,    0,    0,    0,    0,    0,    0,    0],\n",
              "       [   0,    0, 5470,    0,    0,    0,    0,    0,    0,    0],\n",
              "       [   0,    0,    0, 5638,    0,    0,    0,    0,    0,    0],\n",
              "       [   0,    0,    0,    0, 5307,    0,    0,    0,    0,    0],\n",
              "       [   0,    0,    0,    0,    0, 4987,    0,    0,    0,    0],\n",
              "       [   0,    0,    0,    0,    0,    0, 5417,    0,    0,    0],\n",
              "       [   0,    0,    0,    0,    0,    0,    0, 5715,    0,    0],\n",
              "       [   0,    0,    0,    0,    0,    0,    0,    0, 5389,    0],\n",
              "       [   0,    0,    0,    0,    0,    0,    0,    0,    0, 5454]])"
            ]
          },
          "metadata": {
            "tags": []
          },
          "execution_count": 96
        }
      ]
    },
    {
      "cell_type": "code",
      "metadata": {
        "id": "VDWDS-HXcpuY",
        "colab_type": "code",
        "colab": {
          "base_uri": "https://localhost:8080/",
          "height": 295
        },
        "outputId": "102cf3f7-68da-4111-826f-445ac97980b3"
      },
      "source": [
        "# Plot with values transposed to show actual versus predicted values\n",
        "# m1_cm = confusion_matrix(train_labels, pred_classes)\n",
        "m3_cm_plt=sns.heatmap(conf_mx, square=False, annot=True, fmt='d', cbar=False, cmap=\"Blues\")\n",
        "plt.xlabel('Predicted label')\n",
        "plt.ylabel('Actual label')\n",
        "plt.title(\"Test Confusion Matrix - Model 3a\")\n",
        "plt.show();"
      ],
      "execution_count": 97,
      "outputs": [
        {
          "output_type": "display_data",
          "data": {
            "image/png": "[encoded data removed]",
            "text/plain": [
              "<Figure size 432x288 with 1 Axes>"
            ]
          },
          "metadata": {
            "tags": [],
            "needs_background": "light"
          }
        }
      ]
    },
    {
      "cell_type": "code",
      "metadata": {
        "id": "2Ggy9ktxcpua",
        "colab_type": "code",
        "colab": {}
      },
      "source": [
        "# Plot normalized confusion matrix\n",
        "row_sums = conf_mx.sum(axis=1, keepdims=True)\n",
        "norm_conf_mx = conf_mx / row_sums"
      ],
      "execution_count": 98,
      "outputs": []
    },
    {
      "cell_type": "code",
      "metadata": {
        "id": "7ow6JoUVcpud",
        "colab_type": "code",
        "colab": {
          "base_uri": "https://localhost:8080/",
          "height": 275
        },
        "outputId": "bfa706a3-53ee-4620-9025-6648712f32c6"
      },
      "source": [
        "np.fill_diagonal(norm_conf_mx, 0)\n",
        "plt.matshow(norm_conf_mx, cmap=\"Blues\")\n",
        "plt.show()"
      ],
      "execution_count": 99,
      "outputs": [
        {
          "output_type": "display_data",
          "data": {
            "image/png": "[encoded data removed]",
            "text/plain": [
              "<Figure size 288x288 with 1 Axes>"
            ]
          },
          "metadata": {
            "tags": [],
            "needs_background": "light"
          }
        }
      ]
    },
    {
      "cell_type": "markdown",
      "metadata": {
        "id": "aLtZKTr1cpuf",
        "colab_type": "text"
      },
      "source": [
        "## 3d. Analyzing Errors"
      ]
    },
    {
      "cell_type": "code",
      "metadata": {
        "id": "Gb-Op7eUcpuf",
        "colab_type": "code",
        "colab": {}
      },
      "source": [
        "# Define function for plotting example digits\n",
        "def plot_digits(instances, images_per_row=10, **options):\n",
        "    size = 28\n",
        "    images_per_row = min(len(instances), images_per_row)\n",
        "    images = [instance.reshape(size,size) for instance in instances]\n",
        "    n_rows = (len(instances) - 1) // images_per_row + 1\n",
        "    row_images = []\n",
        "    n_empty = n_rows * images_per_row - len(instances)\n",
        "    images.append(np.zeros((size, size * n_empty)))\n",
        "    for row in range(n_rows):\n",
        "        rimages = images[row * images_per_row : (row + 1) * images_per_row]\n",
        "        row_images.append(np.concatenate(rimages, axis=1))\n",
        "    image = np.concatenate(row_images, axis=0)\n",
        "    plt.imshow(image, cmap = 'binary', **options)\n",
        "    plt.axis(\"off\")"
      ],
      "execution_count": 100,
      "outputs": []
    },
    {
      "cell_type": "code",
      "metadata": {
        "id": "PeGh227dcpul",
        "colab_type": "code",
        "colab": {
          "base_uri": "https://localhost:8080/",
          "height": 584
        },
        "outputId": "2ca4b179-cbd3-4cdb-9555-604596618393"
      },
      "source": [
        "cl_a, cl_b = 5, 8\n",
        "X_aa = train_images[(train_labels == cl_a) & (pred_classes == cl_a)]\n",
        "X_ab = train_images[(train_labels == cl_a) & (pred_classes == cl_b)]\n",
        "X_ba = train_images[(train_labels == cl_b) & (pred_classes == cl_a)]\n",
        "X_bb = train_images[(train_labels == cl_b) & (pred_classes == cl_b)]\n",
        "\n",
        "plt.figure(figsize=(8,8))\n",
        "plt.subplot(221); plot_digits(X_aa[:25], images_per_row=5)\n",
        "plt.subplot(222); plot_digits(X_ab[:25], images_per_row=5)\n",
        "plt.subplot(223); plot_digits(X_ba[:25], images_per_row=5)\n",
        "plt.subplot(224); plot_digits(X_bb[:25], images_per_row=5)\n",
        "plt.show()"
      ],
      "execution_count": 101,
      "outputs": [
        {
          "output_type": "error",
          "ename": "ZeroDivisionError",
          "evalue": "ignored",
          "traceback": [
            "\u001b[0;31m---------------------------------------------------------------------------\u001b[0m",
            "\u001b[0;31mZeroDivisionError\u001b[0m                         Traceback (most recent call last)",
            "\u001b[0;32m<ipython-input-101-69151b524e88>\u001b[0m in \u001b[0;36m<module>\u001b[0;34m()\u001b[0m\n\u001b[1;32m     13\u001b[0m \u001b[0mplt\u001b[0m\u001b[0;34m.\u001b[0m\u001b[0mfigure\u001b[0m\u001b[0;34m(\u001b[0m\u001b[0mfigsize\u001b[0m\u001b[0;34m=\u001b[0m\u001b[0;34m(\u001b[0m\u001b[0;36m8\u001b[0m\u001b[0;34m,\u001b[0m\u001b[0;36m8\u001b[0m\u001b[0;34m)\u001b[0m\u001b[0;34m)\u001b[0m\u001b[0;34m\u001b[0m\u001b[0;34m\u001b[0m\u001b[0m\n\u001b[1;32m     14\u001b[0m \u001b[0mplt\u001b[0m\u001b[0;34m.\u001b[0m\u001b[0msubplot\u001b[0m\u001b[0;34m(\u001b[0m\u001b[0;36m221\u001b[0m\u001b[0;34m)\u001b[0m\u001b[0;34m;\u001b[0m \u001b[0mplot_digits\u001b[0m\u001b[0;34m(\u001b[0m\u001b[0mX_aa\u001b[0m\u001b[0;34m[\u001b[0m\u001b[0;34m:\u001b[0m\u001b[0;36m25\u001b[0m\u001b[0;34m]\u001b[0m\u001b[0;34m,\u001b[0m \u001b[0mimages_per_row\u001b[0m\u001b[0;34m=\u001b[0m\u001b[0;36m5\u001b[0m\u001b[0;34m)\u001b[0m\u001b[0;34m\u001b[0m\u001b[0;34m\u001b[0m\u001b[0m\n\u001b[0;32m---> 15\u001b[0;31m \u001b[0mplt\u001b[0m\u001b[0;34m.\u001b[0m\u001b[0msubplot\u001b[0m\u001b[0;34m(\u001b[0m\u001b[0;36m222\u001b[0m\u001b[0;34m)\u001b[0m\u001b[0;34m;\u001b[0m \u001b[0mplot_digits\u001b[0m\u001b[0;34m(\u001b[0m\u001b[0mX_ab\u001b[0m\u001b[0;34m[\u001b[0m\u001b[0;34m:\u001b[0m\u001b[0;36m25\u001b[0m\u001b[0;34m]\u001b[0m\u001b[0;34m,\u001b[0m \u001b[0mimages_per_row\u001b[0m\u001b[0;34m=\u001b[0m\u001b[0;36m5\u001b[0m\u001b[0;34m)\u001b[0m\u001b[0;34m\u001b[0m\u001b[0;34m\u001b[0m\u001b[0m\n\u001b[0m\u001b[1;32m     16\u001b[0m \u001b[0mplt\u001b[0m\u001b[0;34m.\u001b[0m\u001b[0msubplot\u001b[0m\u001b[0;34m(\u001b[0m\u001b[0;36m223\u001b[0m\u001b[0;34m)\u001b[0m\u001b[0;34m;\u001b[0m \u001b[0mplot_digits\u001b[0m\u001b[0;34m(\u001b[0m\u001b[0mX_ba\u001b[0m\u001b[0;34m[\u001b[0m\u001b[0;34m:\u001b[0m\u001b[0;36m25\u001b[0m\u001b[0;34m]\u001b[0m\u001b[0;34m,\u001b[0m \u001b[0mimages_per_row\u001b[0m\u001b[0;34m=\u001b[0m\u001b[0;36m5\u001b[0m\u001b[0;34m)\u001b[0m\u001b[0;34m\u001b[0m\u001b[0;34m\u001b[0m\u001b[0m\n\u001b[1;32m     17\u001b[0m \u001b[0mplt\u001b[0m\u001b[0;34m.\u001b[0m\u001b[0msubplot\u001b[0m\u001b[0;34m(\u001b[0m\u001b[0;36m224\u001b[0m\u001b[0;34m)\u001b[0m\u001b[0;34m;\u001b[0m \u001b[0mplot_digits\u001b[0m\u001b[0;34m(\u001b[0m\u001b[0mX_bb\u001b[0m\u001b[0;34m[\u001b[0m\u001b[0;34m:\u001b[0m\u001b[0;36m25\u001b[0m\u001b[0;34m]\u001b[0m\u001b[0;34m,\u001b[0m \u001b[0mimages_per_row\u001b[0m\u001b[0;34m=\u001b[0m\u001b[0;36m5\u001b[0m\u001b[0;34m)\u001b[0m\u001b[0;34m\u001b[0m\u001b[0;34m\u001b[0m\u001b[0m\n",
            "\u001b[0;32m<ipython-input-100-3045d98dde2f>\u001b[0m in \u001b[0;36mplot_digits\u001b[0;34m(instances, images_per_row, **options)\u001b[0m\n\u001b[1;32m      4\u001b[0m     \u001b[0mimages_per_row\u001b[0m \u001b[0;34m=\u001b[0m \u001b[0mmin\u001b[0m\u001b[0;34m(\u001b[0m\u001b[0mlen\u001b[0m\u001b[0;34m(\u001b[0m\u001b[0minstances\u001b[0m\u001b[0;34m)\u001b[0m\u001b[0;34m,\u001b[0m \u001b[0mimages_per_row\u001b[0m\u001b[0;34m)\u001b[0m\u001b[0;34m\u001b[0m\u001b[0;34m\u001b[0m\u001b[0m\n\u001b[1;32m      5\u001b[0m     \u001b[0mimages\u001b[0m \u001b[0;34m=\u001b[0m \u001b[0;34m[\u001b[0m\u001b[0minstance\u001b[0m\u001b[0;34m.\u001b[0m\u001b[0mreshape\u001b[0m\u001b[0;34m(\u001b[0m\u001b[0msize\u001b[0m\u001b[0;34m,\u001b[0m\u001b[0msize\u001b[0m\u001b[0;34m)\u001b[0m \u001b[0;32mfor\u001b[0m \u001b[0minstance\u001b[0m \u001b[0;32min\u001b[0m \u001b[0minstances\u001b[0m\u001b[0;34m]\u001b[0m\u001b[0;34m\u001b[0m\u001b[0;34m\u001b[0m\u001b[0m\n\u001b[0;32m----> 6\u001b[0;31m     \u001b[0mn_rows\u001b[0m \u001b[0;34m=\u001b[0m \u001b[0;34m(\u001b[0m\u001b[0mlen\u001b[0m\u001b[0;34m(\u001b[0m\u001b[0minstances\u001b[0m\u001b[0;34m)\u001b[0m \u001b[0;34m-\u001b[0m \u001b[0;36m1\u001b[0m\u001b[0;34m)\u001b[0m \u001b[0;34m//\u001b[0m \u001b[0mimages_per_row\u001b[0m \u001b[0;34m+\u001b[0m \u001b[0;36m1\u001b[0m\u001b[0;34m\u001b[0m\u001b[0;34m\u001b[0m\u001b[0m\n\u001b[0m\u001b[1;32m      7\u001b[0m     \u001b[0mrow_images\u001b[0m \u001b[0;34m=\u001b[0m \u001b[0;34m[\u001b[0m\u001b[0;34m]\u001b[0m\u001b[0;34m\u001b[0m\u001b[0;34m\u001b[0m\u001b[0m\n\u001b[1;32m      8\u001b[0m     \u001b[0mn_empty\u001b[0m \u001b[0;34m=\u001b[0m \u001b[0mn_rows\u001b[0m \u001b[0;34m*\u001b[0m \u001b[0mimages_per_row\u001b[0m \u001b[0;34m-\u001b[0m \u001b[0mlen\u001b[0m\u001b[0;34m(\u001b[0m\u001b[0minstances\u001b[0m\u001b[0;34m)\u001b[0m\u001b[0;34m\u001b[0m\u001b[0;34m\u001b[0m\u001b[0m\n",
            "\u001b[0;31mZeroDivisionError\u001b[0m: integer division or modulo by zero"
          ]
        },
        {
          "output_type": "display_data",
          "data": {
            "image/png": "[encoded data removed]",
            "text/plain": [
              "<Figure size 576x576 with 2 Axes>"
            ]
          },
          "metadata": {
            "tags": [],
            "needs_background": "light"
          }
        }
      ]
    },
    {
      "cell_type": "markdown",
      "metadata": {
        "id": "9-Zy_WMScpun",
        "colab_type": "text"
      },
      "source": [
        "# 4. Experiment 4"
      ]
    },
    {
      "cell_type": "code",
      "metadata": {
        "id": "EKDzkYcJcpuo",
        "colab_type": "code",
        "colab": {}
      },
      "source": [
        "# Reduce the # of dimensions from 784 to 154 input nodes. \n",
        "\n",
        "# Reduce dimensions to those containing 95% of the variance in the training images\n",
        "pca = PCA(n_components=0.95)\n",
        "train_images_red = pca.fit_transform(train_images)\n",
        "val_images_red = pca.transform(val_images)\n",
        "test_images_red = pca.transform(test_images)"
      ],
      "execution_count": 102,
      "outputs": []
    },
    {
      "cell_type": "code",
      "metadata": {
        "id": "is28cRf4cpur",
        "colab_type": "code",
        "colab": {
          "base_uri": "https://localhost:8080/",
          "height": 34
        },
        "outputId": "21e118c8-0d5a-472b-d8f6-7b9350fd4623"
      },
      "source": [
        "# Evaluate shape of data with reduced dimensions\n",
        "test_images_red.shape, train_images_red.shape, val_images_red.shape"
      ],
      "execution_count": 103,
      "outputs": [
        {
          "output_type": "execute_result",
          "data": {
            "text/plain": [
              "((10000, 154), (55000, 154), (5000, 154))"
            ]
          },
          "metadata": {
            "tags": []
          },
          "execution_count": 103
        }
      ]
    },
    {
      "cell_type": "markdown",
      "metadata": {
        "id": "srI1GbF1cpuu",
        "colab_type": "text"
      },
      "source": [
        "## 4a. Build, Train, and Test Model before PCA"
      ]
    },
    {
      "cell_type": "code",
      "metadata": {
        "id": "O80Zg7qacpuu",
        "colab_type": "code",
        "colab": {}
      },
      "source": [
        "# # If loading previous model:\n",
        "# model = model_3()\n",
        "# model_4 = load_model_3('results/mnist_model_3.h5')\n",
        "\n",
        "model_4 = models.Sequential()\n",
        "model_4.add(layers.Dense(700, activation='sigmoid', input_shape=(28 * 28,)))\n",
        "model_4.add(layers.Dense(10, activation='softmax')) "
      ],
      "execution_count": 104,
      "outputs": []
    },
    {
      "cell_type": "code",
      "metadata": {
        "id": "FOTygtIocpuz",
        "colab_type": "code",
        "colab": {
          "base_uri": "https://localhost:8080/",
          "height": 221
        },
        "outputId": "0f446946-54c6-413d-b359-fde75b8feead"
      },
      "source": [
        "model_4.summary()"
      ],
      "execution_count": 105,
      "outputs": [
        {
          "output_type": "stream",
          "text": [
            "Model: \"sequential_54\"\n",
            "_________________________________________________________________\n",
            "Layer (type)                 Output Shape              Param #   \n",
            "=================================================================\n",
            "dense_108 (Dense)            (None, 700)               549500    \n",
            "_________________________________________________________________\n",
            "dense_109 (Dense)            (None, 10)                7010      \n",
            "=================================================================\n",
            "Total params: 556,510\n",
            "Trainable params: 556,510\n",
            "Non-trainable params: 0\n",
            "_________________________________________________________________\n"
          ],
          "name": "stdout"
        }
      ]
    },
    {
      "cell_type": "code",
      "metadata": {
        "id": "UepsPYQMcpu2",
        "colab_type": "code",
        "colab": {}
      },
      "source": [
        "# Compile the model\n",
        "model_4.compile(loss='sparse_categorical_crossentropy', optimizer='Adam', metrics=['accuracy'])"
      ],
      "execution_count": 106,
      "outputs": []
    },
    {
      "cell_type": "code",
      "metadata": {
        "id": "SRS0zeGVcpu7",
        "colab_type": "code",
        "colab": {
          "base_uri": "https://localhost:8080/",
          "height": 751
        },
        "outputId": "4468b83d-e2f0-461b-8921-16592991f1ee"
      },
      "source": [
        "# If loading previous model:\n",
        "# model = model_2()\n",
        "# model = load_model_3('results/keras_mnist_model_3.h5')\n",
        "\n",
        "# Train the model\n",
        "start_time = time.time()\n",
        "history = model_4.fit(train_images, train_labels, epochs=30,\n",
        "                    validation_data=(val_images, val_labels),\n",
        "                    callbacks=[keras.callbacks.EarlyStopping(patience=10)])\n",
        "elapsed_time = time.time() - start_time\n",
        "print('--------------------------')\n",
        "print('Training time in seconds: ', round(elapsed_time,2))\n",
        "print('--------------------------')"
      ],
      "execution_count": 107,
      "outputs": [
        {
          "output_type": "stream",
          "text": [
            "Train on 55000 samples, validate on 5000 samples\n",
            "Epoch 1/30\n",
            "55000/55000 [==============================] - 9s 160us/sample - loss: 0.3427 - accuracy: 0.9020 - val_loss: 0.2178 - val_accuracy: 0.9358\n",
            "Epoch 2/30\n",
            "55000/55000 [==============================] - 9s 159us/sample - loss: 0.1787 - accuracy: 0.9475 - val_loss: 0.1341 - val_accuracy: 0.9600\n",
            "Epoch 3/30\n",
            "55000/55000 [==============================] - 9s 166us/sample - loss: 0.1161 - accuracy: 0.9656 - val_loss: 0.1008 - val_accuracy: 0.9686\n",
            "Epoch 4/30\n",
            "55000/55000 [==============================] - 9s 162us/sample - loss: 0.0805 - accuracy: 0.9759 - val_loss: 0.0842 - val_accuracy: 0.9752\n",
            "Epoch 5/30\n",
            "55000/55000 [==============================] - 8s 152us/sample - loss: 0.0587 - accuracy: 0.9824 - val_loss: 0.0720 - val_accuracy: 0.9786\n",
            "Epoch 6/30\n",
            "55000/55000 [==============================] - 8s 152us/sample - loss: 0.0437 - accuracy: 0.9868 - val_loss: 0.0654 - val_accuracy: 0.9794\n",
            "Epoch 7/30\n",
            "55000/55000 [==============================] - 8s 153us/sample - loss: 0.0313 - accuracy: 0.9905 - val_loss: 0.0784 - val_accuracy: 0.9776\n",
            "Epoch 8/30\n",
            "55000/55000 [==============================] - 8s 153us/sample - loss: 0.0232 - accuracy: 0.9932 - val_loss: 0.0586 - val_accuracy: 0.9804\n",
            "Epoch 9/30\n",
            "55000/55000 [==============================] - 8s 151us/sample - loss: 0.0176 - accuracy: 0.9950 - val_loss: 0.0583 - val_accuracy: 0.9828\n",
            "Epoch 10/30\n",
            "55000/55000 [==============================] - 8s 149us/sample - loss: 0.0122 - accuracy: 0.9968 - val_loss: 0.0625 - val_accuracy: 0.9818\n",
            "Epoch 11/30\n",
            "55000/55000 [==============================] - 9s 161us/sample - loss: 0.0096 - accuracy: 0.9977 - val_loss: 0.0628 - val_accuracy: 0.9820\n",
            "Epoch 12/30\n",
            "55000/55000 [==============================] - 10s 173us/sample - loss: 0.0075 - accuracy: 0.9981 - val_loss: 0.0600 - val_accuracy: 0.9828\n",
            "Epoch 13/30\n",
            "55000/55000 [==============================] - 10s 173us/sample - loss: 0.0059 - accuracy: 0.9985 - val_loss: 0.0750 - val_accuracy: 0.9798\n",
            "Epoch 14/30\n",
            "55000/55000 [==============================] - 10s 175us/sample - loss: 0.0048 - accuracy: 0.9989 - val_loss: 0.0682 - val_accuracy: 0.9828\n",
            "Epoch 15/30\n",
            "55000/55000 [==============================] - 10s 175us/sample - loss: 0.0032 - accuracy: 0.9993 - val_loss: 0.0687 - val_accuracy: 0.9828\n",
            "Epoch 16/30\n",
            "55000/55000 [==============================] - 10s 174us/sample - loss: 0.0030 - accuracy: 0.9994 - val_loss: 0.0688 - val_accuracy: 0.9828\n",
            "Epoch 17/30\n",
            "55000/55000 [==============================] - 10s 174us/sample - loss: 0.0031 - accuracy: 0.9993 - val_loss: 0.0842 - val_accuracy: 0.9810\n",
            "Epoch 18/30\n",
            "55000/55000 [==============================] - 10s 174us/sample - loss: 0.0027 - accuracy: 0.9993 - val_loss: 0.0733 - val_accuracy: 0.9830\n",
            "Epoch 19/30\n",
            "55000/55000 [==============================] - 9s 172us/sample - loss: 0.0024 - accuracy: 0.9994 - val_loss: 0.0765 - val_accuracy: 0.9838\n",
            "--------------------------\n",
            "Training time in seconds:  172.72\n",
            "--------------------------\n"
          ],
          "name": "stdout"
        }
      ]
    },
    {
      "cell_type": "code",
      "metadata": {
        "id": "W_QDTGqxcpvA",
        "colab_type": "code",
        "colab": {}
      },
      "source": [
        "test_loss, test_acc = model_4.evaluate(test_images, test_labels)"
      ],
      "execution_count": 108,
      "outputs": []
    },
    {
      "cell_type": "code",
      "metadata": {
        "id": "zsCuoU7VcpvJ",
        "colab_type": "code",
        "colab": {
          "base_uri": "https://localhost:8080/",
          "height": 34
        },
        "outputId": "aaf4b1ba-bd5f-43fd-9ba4-e21a69e84a04"
      },
      "source": [
        "print(f'test accuracy: {test_acc}, test loss: {test_loss}')"
      ],
      "execution_count": 109,
      "outputs": [
        {
          "output_type": "stream",
          "text": [
            "test accuracy: 0.9807000160217285, test loss: 0.08285907910983979\n"
          ],
          "name": "stdout"
        }
      ]
    },
    {
      "cell_type": "markdown",
      "metadata": {
        "id": "gXvWdF95cpvU",
        "colab_type": "text"
      },
      "source": [
        "## 4b. Build, train, and test the model on the new data"
      ]
    },
    {
      "cell_type": "code",
      "metadata": {
        "id": "Fp5k3Y2TcpvY",
        "colab_type": "code",
        "colab": {}
      },
      "source": [
        "# check started code for input dimensions\n",
        "\n",
        "model_4_pca = models.Sequential()\n",
        "model_4_pca.add(layers.Dense(700, activation='sigmoid', input_shape=(154,)))\n",
        "model_4_pca.add(layers.Dense(10, activation='softmax')) "
      ],
      "execution_count": 110,
      "outputs": []
    },
    {
      "cell_type": "code",
      "metadata": {
        "id": "t9nn5Sflcpvd",
        "colab_type": "code",
        "colab": {}
      },
      "source": [
        "# For use with non-categorical labels\n",
        "model_4_pca.compile(optimizer='Adam',\n",
        "                loss='sparse_categorical_crossentropy',\n",
        "                metrics=['accuracy'])"
      ],
      "execution_count": 111,
      "outputs": []
    },
    {
      "cell_type": "code",
      "metadata": {
        "id": "fRXVGb_5cpvf",
        "colab_type": "code",
        "colab": {
          "base_uri": "https://localhost:8080/",
          "height": 1000
        },
        "outputId": "311d56fb-bc0a-4d5b-f18d-54862bdeb58a"
      },
      "source": [
        "# Train the model with the lower-dimensional data\n",
        "start_time = time.time()\n",
        "history = model_4_pca.fit(train_images_red, train_labels, epochs=30,\n",
        "                      validation_data=(val_images_red, val_labels),\n",
        "                      callbacks=[keras.callbacks.EarlyStopping(patience=10)])\n",
        "elapsed_time = time.time() - start_time\n",
        "print('--------------------------')\n",
        "print('Training time in seconds: ', round(elapsed_time,2))\n",
        "print('--------------------------')"
      ],
      "execution_count": 112,
      "outputs": [
        {
          "output_type": "stream",
          "text": [
            "Train on 55000 samples, validate on 5000 samples\n",
            "Epoch 1/30\n",
            "55000/55000 [==============================] - 5s 95us/sample - loss: 0.4363 - accuracy: 0.8831 - val_loss: 0.2778 - val_accuracy: 0.9210\n",
            "Epoch 2/30\n",
            "55000/55000 [==============================] - 5s 84us/sample - loss: 0.2917 - accuracy: 0.9160 - val_loss: 0.2584 - val_accuracy: 0.9260\n",
            "Epoch 3/30\n",
            "55000/55000 [==============================] - 5s 83us/sample - loss: 0.2640 - accuracy: 0.9236 - val_loss: 0.2372 - val_accuracy: 0.9346\n",
            "Epoch 4/30\n",
            "55000/55000 [==============================] - 5s 84us/sample - loss: 0.2294 - accuracy: 0.9339 - val_loss: 0.2008 - val_accuracy: 0.9432\n",
            "Epoch 5/30\n",
            "55000/55000 [==============================] - 5s 96us/sample - loss: 0.1890 - accuracy: 0.9450 - val_loss: 0.1675 - val_accuracy: 0.9518\n",
            "Epoch 6/30\n",
            "55000/55000 [==============================] - 5s 86us/sample - loss: 0.1536 - accuracy: 0.9552 - val_loss: 0.1450 - val_accuracy: 0.9580\n",
            "Epoch 7/30\n",
            "55000/55000 [==============================] - 5s 84us/sample - loss: 0.1234 - accuracy: 0.9643 - val_loss: 0.1231 - val_accuracy: 0.9664\n",
            "Epoch 8/30\n",
            "55000/55000 [==============================] - 5s 85us/sample - loss: 0.0985 - accuracy: 0.9711 - val_loss: 0.1055 - val_accuracy: 0.9676\n",
            "Epoch 9/30\n",
            "55000/55000 [==============================] - 5s 85us/sample - loss: 0.0800 - accuracy: 0.9775 - val_loss: 0.0932 - val_accuracy: 0.9736\n",
            "Epoch 10/30\n",
            "55000/55000 [==============================] - 5s 84us/sample - loss: 0.0652 - accuracy: 0.9812 - val_loss: 0.0870 - val_accuracy: 0.9746\n",
            "Epoch 11/30\n",
            "55000/55000 [==============================] - 5s 84us/sample - loss: 0.0522 - accuracy: 0.9851 - val_loss: 0.0798 - val_accuracy: 0.9758\n",
            "Epoch 12/30\n",
            "55000/55000 [==============================] - 5s 84us/sample - loss: 0.0422 - accuracy: 0.9880 - val_loss: 0.0708 - val_accuracy: 0.9794\n",
            "Epoch 13/30\n",
            "55000/55000 [==============================] - 5s 84us/sample - loss: 0.0327 - accuracy: 0.9915 - val_loss: 0.0722 - val_accuracy: 0.9784\n",
            "Epoch 14/30\n",
            "55000/55000 [==============================] - 5s 84us/sample - loss: 0.0258 - accuracy: 0.9934 - val_loss: 0.0685 - val_accuracy: 0.9780\n",
            "Epoch 15/30\n",
            "55000/55000 [==============================] - 5s 86us/sample - loss: 0.0201 - accuracy: 0.9952 - val_loss: 0.0654 - val_accuracy: 0.9802\n",
            "Epoch 16/30\n",
            "55000/55000 [==============================] - 5s 86us/sample - loss: 0.0151 - accuracy: 0.9972 - val_loss: 0.0687 - val_accuracy: 0.9810\n",
            "Epoch 17/30\n",
            "55000/55000 [==============================] - 5s 84us/sample - loss: 0.0115 - accuracy: 0.9977 - val_loss: 0.0653 - val_accuracy: 0.9790\n",
            "Epoch 18/30\n",
            "55000/55000 [==============================] - 5s 85us/sample - loss: 0.0087 - accuracy: 0.9984 - val_loss: 0.0732 - val_accuracy: 0.9794\n",
            "Epoch 19/30\n",
            "55000/55000 [==============================] - 5s 83us/sample - loss: 0.0068 - accuracy: 0.9989 - val_loss: 0.0704 - val_accuracy: 0.9800\n",
            "Epoch 20/30\n",
            "55000/55000 [==============================] - 5s 86us/sample - loss: 0.0053 - accuracy: 0.9993 - val_loss: 0.0715 - val_accuracy: 0.9808\n",
            "Epoch 21/30\n",
            "55000/55000 [==============================] - 5s 84us/sample - loss: 0.0045 - accuracy: 0.9993 - val_loss: 0.0772 - val_accuracy: 0.9794\n",
            "Epoch 22/30\n",
            "55000/55000 [==============================] - 5s 85us/sample - loss: 0.0028 - accuracy: 0.9997 - val_loss: 0.0701 - val_accuracy: 0.9820\n",
            "Epoch 23/30\n",
            "55000/55000 [==============================] - 5s 85us/sample - loss: 0.0030 - accuracy: 0.9994 - val_loss: 0.0861 - val_accuracy: 0.9782\n",
            "Epoch 24/30\n",
            "55000/55000 [==============================] - 5s 85us/sample - loss: 0.0025 - accuracy: 0.9996 - val_loss: 0.0704 - val_accuracy: 0.9822\n",
            "Epoch 25/30\n",
            "55000/55000 [==============================] - 5s 84us/sample - loss: 0.0019 - accuracy: 0.9997 - val_loss: 0.0795 - val_accuracy: 0.9808\n",
            "Epoch 26/30\n",
            "55000/55000 [==============================] - 5s 87us/sample - loss: 0.0013 - accuracy: 0.9999 - val_loss: 0.0779 - val_accuracy: 0.9812\n",
            "Epoch 27/30\n",
            "55000/55000 [==============================] - 5s 87us/sample - loss: 6.6153e-04 - accuracy: 0.9999 - val_loss: 0.0696 - val_accuracy: 0.9836\n",
            "--------------------------\n",
            "Training time in seconds:  128.89\n",
            "--------------------------\n"
          ],
          "name": "stdout"
        }
      ]
    },
    {
      "cell_type": "code",
      "metadata": {
        "id": "PeAHvSgfcpvk",
        "colab_type": "code",
        "colab": {
          "base_uri": "https://localhost:8080/",
          "height": 34
        },
        "outputId": "a6490f72-863a-419f-e795-840b4763f74b"
      },
      "source": [
        "hist_dict = history.history\n",
        "hist_dict.keys()"
      ],
      "execution_count": 113,
      "outputs": [
        {
          "output_type": "execute_result",
          "data": {
            "text/plain": [
              "dict_keys(['loss', 'accuracy', 'val_loss', 'val_accuracy'])"
            ]
          },
          "metadata": {
            "tags": []
          },
          "execution_count": 113
        }
      ]
    },
    {
      "cell_type": "code",
      "metadata": {
        "id": "DLvb9nizcpvn",
        "colab_type": "code",
        "colab": {
          "base_uri": "https://localhost:8080/",
          "height": 51
        },
        "outputId": "1fe74ac3-10b1-40c8-a810-044d8dc8caec"
      },
      "source": [
        "print(f'''acc: {hist_dict['accuracy'][-1]:.4}, val acc: {hist_dict['val_accuracy'][-1]:.4},\n",
        "loss: {hist_dict['loss'][-1]:.4}, val loss: {hist_dict['val_loss'][-1]:.4}''')"
      ],
      "execution_count": 114,
      "outputs": [
        {
          "output_type": "stream",
          "text": [
            "acc: 0.9999, val acc: 0.9836,\n",
            "loss: 0.0006615, val loss: 0.0696\n"
          ],
          "name": "stdout"
        }
      ]
    },
    {
      "cell_type": "code",
      "metadata": {
        "id": "X8hfE03qcpvq",
        "colab_type": "code",
        "colab": {}
      },
      "source": [
        "test_loss, test_acc = model_4_pca.evaluate(test_images_red, test_labels)"
      ],
      "execution_count": 115,
      "outputs": []
    },
    {
      "cell_type": "code",
      "metadata": {
        "id": "7w1_0Z2rcpvs",
        "colab_type": "code",
        "colab": {
          "base_uri": "https://localhost:8080/",
          "height": 34
        },
        "outputId": "8b00ad10-26a8-40f3-b40c-35a7f9bdf551"
      },
      "source": [
        "# Results\n",
        "print(f'test acc: {test_acc}, test loss: {test_loss}')  "
      ],
      "execution_count": 116,
      "outputs": [
        {
          "output_type": "stream",
          "text": [
            "test acc: 0.980400025844574, test loss: 0.08521589306199039\n"
          ],
          "name": "stdout"
        }
      ]
    },
    {
      "cell_type": "markdown",
      "metadata": {
        "id": "7Wz25VFvcpv7",
        "colab_type": "text"
      },
      "source": [
        "## 4c. Compare Models"
      ]
    },
    {
      "cell_type": "code",
      "metadata": {
        "id": "Vqeeih3Zcpv_",
        "colab_type": "code",
        "colab": {
          "base_uri": "https://localhost:8080/",
          "height": 324
        },
        "outputId": "c4f9eb94-ed07-491f-f9e6-6db15ff850f1"
      },
      "source": [
        "# Alternate code for accuracy and loss\n",
        "# Plot learning curves for model\n",
        "pd.DataFrame(history.history).plot(figsize=(8, 5))\n",
        "plt.grid(True)\n",
        "plt.gca().set_ylim(0, 1) # set the vertical range to [0-1]\n",
        "plt.show()"
      ],
      "execution_count": 117,
      "outputs": [
        {
          "output_type": "display_data",
          "data": {
            "image/png": "[encoded data removed]",
            "text/plain": [
              "<Figure size 576x360 with 1 Axes>"
            ]
          },
          "metadata": {
            "tags": [],
            "needs_background": "light"
          }
        }
      ]
    },
    {
      "cell_type": "markdown",
      "metadata": {
        "id": "u6yIJr-HcpwJ",
        "colab_type": "text"
      },
      "source": [
        "## 5. Experiment 5"
      ]
    },
    {
      "cell_type": "markdown",
      "metadata": {
        "id": "D6pV-v1vcpwK",
        "colab_type": "text"
      },
      "source": [
        "## 5a. Reduce Dimensionality"
      ]
    },
    {
      "cell_type": "code",
      "metadata": {
        "id": "dGKKNkyHcpwK",
        "colab_type": "code",
        "colab": {
          "base_uri": "https://localhost:8080/",
          "height": 153
        },
        "outputId": "b8015306-c518-4141-f75f-aca8c35b8b18"
      },
      "source": [
        "# Use RF w/100 trees to rank importance of 784 features, and pick the top 70\n",
        "\n",
        "# Define and train model\n",
        "rnd_clf = RandomForestClassifier(n_estimators=100, random_state=42)\n",
        "rnd_clf.fit(train_images,train_labels)"
      ],
      "execution_count": 118,
      "outputs": [
        {
          "output_type": "execute_result",
          "data": {
            "text/plain": [
              "RandomForestClassifier(bootstrap=True, ccp_alpha=0.0, class_weight=None,\n",
              "                       criterion='gini', max_depth=None, max_features='auto',\n",
              "                       max_leaf_nodes=None, max_samples=None,\n",
              "                       min_impurity_decrease=0.0, min_impurity_split=None,\n",
              "                       min_samples_leaf=1, min_samples_split=2,\n",
              "                       min_weight_fraction_leaf=0.0, n_estimators=100,\n",
              "                       n_jobs=None, oob_score=False, random_state=42, verbose=0,\n",
              "                       warm_start=False)"
            ]
          },
          "metadata": {
            "tags": []
          },
          "execution_count": 118
        }
      ]
    },
    {
      "cell_type": "code",
      "metadata": {
        "id": "GUYE5G3IcpwP",
        "colab_type": "code",
        "colab": {
          "base_uri": "https://localhost:8080/",
          "height": 258
        },
        "outputId": "907f6d2c-fc06-4b0e-bd19-72a2199e35f9"
      },
      "source": [
        "# https://github.com/ageron/handson-ml2/blob/master/07_ensemble_learning_and_random_forests.ipynb\n",
        "import matplotlib as mpl\n",
        "# import matplotlib.pyplot as plt\n",
        "\n",
        "def plot_digit(data):\n",
        "    image = data.reshape(28, 28)\n",
        "    plt.imshow(image, cmap = mpl.cm.hot,\n",
        "               interpolation=\"nearest\")\n",
        "    plt.axis(\"off\")\n",
        "\n",
        "plot_digit(rnd_clf.feature_importances_)\n",
        "\n",
        "cbar = plt.colorbar(ticks=[rnd_clf.feature_importances_.min(), rnd_clf.feature_importances_.max()])\n",
        "cbar.ax.set_yticklabels(['Not important', 'Very important'])\n",
        "\n",
        "plt.show()"
      ],
      "execution_count": 119,
      "outputs": [
        {
          "output_type": "display_data",
          "data": {
            "image/png": "[encoded data removed]",
            "text/plain": [
              "<Figure size 432x288 with 2 Axes>"
            ]
          },
          "metadata": {
            "tags": [],
            "needs_background": "light"
          }
        }
      ]
    },
    {
      "cell_type": "code",
      "metadata": {
        "id": "4ZEHiKH2cpwd",
        "colab_type": "code",
        "colab": {
          "base_uri": "https://localhost:8080/",
          "height": 34
        },
        "outputId": "84e22318-94f6-4abb-da14-b113e6ae3441"
      },
      "source": [
        "# Get the indices of the 70 most \"important\" features\n",
        "# https://stackoverflow.com/questions/6910641/how-do-i-get-indices-of-n-maximum-values-in-a-numpy-array\n",
        "n = 70\n",
        "imp_arr = rnd_clf.feature_importances_\n",
        "idx = (-imp_arr).argsort()[:n]          # get the indices of the 70 \"most important\" features/pixels\n",
        "len(idx)"
      ],
      "execution_count": 120,
      "outputs": [
        {
          "output_type": "execute_result",
          "data": {
            "text/plain": [
              "70"
            ]
          },
          "metadata": {
            "tags": []
          },
          "execution_count": 120
        }
      ]
    },
    {
      "cell_type": "code",
      "metadata": {
        "id": "L_Cf07w6cpwg",
        "colab_type": "code",
        "colab": {
          "base_uri": "https://localhost:8080/",
          "height": 34
        },
        "outputId": "a1e7e204-7a63-488d-8ce5-238b92e02f5e"
      },
      "source": [
        "# Create training, validation and test images using just the 70 pixel locations obtained above\n",
        "train_images_sm = train_images[:,idx]\n",
        "val_images_sm = val_images[:,idx]\n",
        "test_images_sm = test_images[:,idx]\n",
        "train_images_sm.shape, val_images.shape, test_images_sm.shape # the reduced images have dimension 70"
      ],
      "execution_count": 121,
      "outputs": [
        {
          "output_type": "execute_result",
          "data": {
            "text/plain": [
              "((55000, 70), (5000, 784), (10000, 70))"
            ]
          },
          "metadata": {
            "tags": []
          },
          "execution_count": 121
        }
      ]
    },
    {
      "cell_type": "code",
      "metadata": {
        "id": "Bkse1Xbocpwu",
        "colab_type": "code",
        "colab": {}
      },
      "source": [
        "# to convert an index n, 0<= n < 784\n",
        "def pair(n,size):\n",
        "    x = n//size \n",
        "    y = n%size\n",
        "    return x,y"
      ],
      "execution_count": 122,
      "outputs": []
    },
    {
      "cell_type": "code",
      "metadata": {
        "id": "jjVJiR4KcpxD",
        "colab_type": "code",
        "colab": {
          "base_uri": "https://localhost:8080/",
          "height": 282
        },
        "outputId": "3719a75d-d990-4d4a-e595-0926e1cc91bd"
      },
      "source": [
        "# Visualize features\n",
        "plt.imshow(train_images[1].reshape(28,28),cmap='binary')\n",
        "x, y = np.array([pair(k,28) for k in idx]).T\n",
        "plt.scatter(x,y,color='red',s=20)"
      ],
      "execution_count": 123,
      "outputs": [
        {
          "output_type": "execute_result",
          "data": {
            "text/plain": [
              "<matplotlib.collections.PathCollection at 0x7f97d047a9b0>"
            ]
          },
          "metadata": {
            "tags": []
          },
          "execution_count": 123
        },
        {
          "output_type": "display_data",
          "data": {
            "image/png": "[encoded data removed]",
            "text/plain": [
              "<Figure size 432x288 with 1 Axes>"
            ]
          },
          "metadata": {
            "tags": [],
            "needs_background": "light"
          }
        }
      ]
    },
    {
      "cell_type": "markdown",
      "metadata": {
        "id": "GtnZeOb2cpxM",
        "colab_type": "text"
      },
      "source": [
        "## 5b. Build, Train, Test Model Before RF"
      ]
    },
    {
      "cell_type": "code",
      "metadata": {
        "id": "14pMt26mcpxM",
        "colab_type": "code",
        "colab": {}
      },
      "source": [
        "# If loading previous model:\n",
        "# model = model_5()\n",
        "# model_5 = load_model_5('results/mnist_model_4.h5')\n",
        "\n",
        "model_5 = models.Sequential()\n",
        "model_5.add(layers.Dense(700, activation='sigmoid', input_shape=(28 * 28,)))\n",
        "model_5.add(layers.Dense(10, activation='softmax')) "
      ],
      "execution_count": 124,
      "outputs": []
    },
    {
      "cell_type": "code",
      "metadata": {
        "id": "HTfvZwEucpyL",
        "colab_type": "code",
        "colab": {
          "base_uri": "https://localhost:8080/",
          "height": 221
        },
        "outputId": "e2899f60-313a-44dd-b09c-75db0d8fa1a9"
      },
      "source": [
        "model_5.summary()"
      ],
      "execution_count": 125,
      "outputs": [
        {
          "output_type": "stream",
          "text": [
            "Model: \"sequential_56\"\n",
            "_________________________________________________________________\n",
            "Layer (type)                 Output Shape              Param #   \n",
            "=================================================================\n",
            "dense_112 (Dense)            (None, 700)               549500    \n",
            "_________________________________________________________________\n",
            "dense_113 (Dense)            (None, 10)                7010      \n",
            "=================================================================\n",
            "Total params: 556,510\n",
            "Trainable params: 556,510\n",
            "Non-trainable params: 0\n",
            "_________________________________________________________________\n"
          ],
          "name": "stdout"
        }
      ]
    },
    {
      "cell_type": "code",
      "metadata": {
        "id": "RlS5C_x-cpyP",
        "colab_type": "code",
        "colab": {}
      },
      "source": [
        "# For use with non-categorical labels\n",
        "model_5.compile(optimizer='Adam',\n",
        "                loss='sparse_categorical_crossentropy',\n",
        "                metrics=['accuracy'])"
      ],
      "execution_count": 126,
      "outputs": []
    },
    {
      "cell_type": "code",
      "metadata": {
        "id": "5H_nBugNcpy3",
        "colab_type": "code",
        "colab": {
          "base_uri": "https://localhost:8080/",
          "height": 683
        },
        "outputId": "60e0cee7-b39c-4818-d7b3-a2988160b54b"
      },
      "source": [
        "# If loading previous model:\n",
        "# model = model_2()\n",
        "# model = load_model_3('results/keras_mnist_model_3.h5')\n",
        "\n",
        "# Train the model\n",
        "start_time = time.time()\n",
        "history = model_5.fit(train_images, train_labels, epochs=30,\n",
        "                    validation_data=(val_images, val_labels),\n",
        "                    callbacks=[keras.callbacks.EarlyStopping(patience=10)])\n",
        "elapsed_time = time.time() - start_time\n",
        "print('--------------------------')\n",
        "print('Training time in seconds: ', round(elapsed_time,2))\n",
        "print('--------------------------')"
      ],
      "execution_count": 127,
      "outputs": [
        {
          "output_type": "stream",
          "text": [
            "Train on 55000 samples, validate on 5000 samples\n",
            "Epoch 1/30\n",
            "55000/55000 [==============================] - 11s 209us/sample - loss: 0.3454 - accuracy: 0.9008 - val_loss: 0.2023 - val_accuracy: 0.9410\n",
            "Epoch 2/30\n",
            "55000/55000 [==============================] - 10s 189us/sample - loss: 0.1778 - accuracy: 0.9474 - val_loss: 0.1336 - val_accuracy: 0.9610\n",
            "Epoch 3/30\n",
            "55000/55000 [==============================] - 10s 188us/sample - loss: 0.1156 - accuracy: 0.9657 - val_loss: 0.0978 - val_accuracy: 0.9700\n",
            "Epoch 4/30\n",
            "55000/55000 [==============================] - 10s 187us/sample - loss: 0.0808 - accuracy: 0.9749 - val_loss: 0.0841 - val_accuracy: 0.9744\n",
            "Epoch 5/30\n",
            "55000/55000 [==============================] - 10s 185us/sample - loss: 0.0578 - accuracy: 0.9821 - val_loss: 0.0707 - val_accuracy: 0.9788\n",
            "Epoch 6/30\n",
            "55000/55000 [==============================] - 10s 184us/sample - loss: 0.0436 - accuracy: 0.9865 - val_loss: 0.0688 - val_accuracy: 0.9792\n",
            "Epoch 7/30\n",
            "55000/55000 [==============================] - 10s 187us/sample - loss: 0.0310 - accuracy: 0.9907 - val_loss: 0.0602 - val_accuracy: 0.9824\n",
            "Epoch 8/30\n",
            "55000/55000 [==============================] - 9s 165us/sample - loss: 0.0237 - accuracy: 0.9932 - val_loss: 0.0632 - val_accuracy: 0.9812\n",
            "Epoch 9/30\n",
            "55000/55000 [==============================] - 9s 168us/sample - loss: 0.0166 - accuracy: 0.9957 - val_loss: 0.0670 - val_accuracy: 0.9800\n",
            "Epoch 10/30\n",
            "55000/55000 [==============================] - 9s 164us/sample - loss: 0.0125 - accuracy: 0.9968 - val_loss: 0.0662 - val_accuracy: 0.9810\n",
            "Epoch 11/30\n",
            "55000/55000 [==============================] - 9s 163us/sample - loss: 0.0095 - accuracy: 0.9974 - val_loss: 0.0628 - val_accuracy: 0.9822\n",
            "Epoch 12/30\n",
            "55000/55000 [==============================] - 9s 160us/sample - loss: 0.0072 - accuracy: 0.9984 - val_loss: 0.0619 - val_accuracy: 0.9820\n",
            "Epoch 13/30\n",
            "55000/55000 [==============================] - 9s 157us/sample - loss: 0.0062 - accuracy: 0.9986 - val_loss: 0.0628 - val_accuracy: 0.9830\n",
            "Epoch 14/30\n",
            "55000/55000 [==============================] - 9s 163us/sample - loss: 0.0046 - accuracy: 0.9990 - val_loss: 0.0648 - val_accuracy: 0.9830\n",
            "Epoch 15/30\n",
            "55000/55000 [==============================] - 9s 159us/sample - loss: 0.0042 - accuracy: 0.9988 - val_loss: 0.0693 - val_accuracy: 0.9830\n",
            "Epoch 16/30\n",
            "55000/55000 [==============================] - 9s 159us/sample - loss: 0.0035 - accuracy: 0.9991 - val_loss: 0.0735 - val_accuracy: 0.9832\n",
            "Epoch 17/30\n",
            "55000/55000 [==============================] - 9s 167us/sample - loss: 0.0026 - accuracy: 0.9993 - val_loss: 0.0787 - val_accuracy: 0.9812\n",
            "--------------------------\n",
            "Training time in seconds:  164.49\n",
            "--------------------------\n"
          ],
          "name": "stdout"
        }
      ]
    },
    {
      "cell_type": "code",
      "metadata": {
        "id": "0LxOsIKYcpzA",
        "colab_type": "code",
        "colab": {
          "base_uri": "https://localhost:8080/",
          "height": 34
        },
        "outputId": "88bf0baf-d4b7-45dc-95a1-b79a4e1f4370"
      },
      "source": [
        "hist_dict = history.history\n",
        "hist_dict.keys()"
      ],
      "execution_count": 128,
      "outputs": [
        {
          "output_type": "execute_result",
          "data": {
            "text/plain": [
              "dict_keys(['loss', 'accuracy', 'val_loss', 'val_accuracy'])"
            ]
          },
          "metadata": {
            "tags": []
          },
          "execution_count": 128
        }
      ]
    },
    {
      "cell_type": "code",
      "metadata": {
        "id": "Chowl98Gcpzo",
        "colab_type": "code",
        "colab": {
          "base_uri": "https://localhost:8080/",
          "height": 51
        },
        "outputId": "4c129c67-4800-45b7-8296-fcce14d92ee3"
      },
      "source": [
        "print(f'''acc: {hist_dict['accuracy'][-1]:.4}, val acc: {hist_dict['val_accuracy'][-1]:.4},\n",
        "loss: {hist_dict['loss'][-1]:.4}, val loss: {hist_dict['val_loss'][-1]:.4}''')"
      ],
      "execution_count": 129,
      "outputs": [
        {
          "output_type": "stream",
          "text": [
            "acc: 0.9993, val acc: 0.9812,\n",
            "loss: 0.002639, val loss: 0.07869\n"
          ],
          "name": "stdout"
        }
      ]
    },
    {
      "cell_type": "code",
      "metadata": {
        "id": "nZwM2v6vcpzt",
        "colab_type": "code",
        "colab": {}
      },
      "source": [
        "test_loss, test_acc = model_5.evaluate(test_images, test_labels)"
      ],
      "execution_count": 130,
      "outputs": []
    },
    {
      "cell_type": "code",
      "metadata": {
        "id": "AmIdRVbocpzw",
        "colab_type": "code",
        "colab": {
          "base_uri": "https://localhost:8080/",
          "height": 34
        },
        "outputId": "374b1590-6a4a-44f0-a6be-a250056641c4"
      },
      "source": [
        "print(f'test accuracy: {test_acc}, test loss: {test_loss}')"
      ],
      "execution_count": 131,
      "outputs": [
        {
          "output_type": "stream",
          "text": [
            "test accuracy: 0.9818999767303467, test loss: 0.0833888368780179\n"
          ],
          "name": "stdout"
        }
      ]
    },
    {
      "cell_type": "markdown",
      "metadata": {
        "id": "3KiBUqMKcpz0",
        "colab_type": "text"
      },
      "source": [
        "## 5c. Build, Train, and Test the Model on New Data"
      ]
    },
    {
      "cell_type": "code",
      "metadata": {
        "id": "D_CGKDHscpz0",
        "colab_type": "code",
        "colab": {}
      },
      "source": [
        "model_5_rf = models.Sequential()\n",
        "model_5_rf.add(layers.Dense(700, activation='relu', input_shape=(70,)))\n",
        "model_5_rf.add(layers.Dense(10, activation='softmax'))  "
      ],
      "execution_count": 132,
      "outputs": []
    },
    {
      "cell_type": "code",
      "metadata": {
        "id": "oye35jQJcpz2",
        "colab_type": "code",
        "colab": {}
      },
      "source": [
        "# Compile the model\n",
        "model_5_rf.compile(optimizer='Adam',\n",
        "                loss='sparse_categorical_crossentropy',\n",
        "                metrics=['accuracy'])"
      ],
      "execution_count": 133,
      "outputs": []
    },
    {
      "cell_type": "code",
      "metadata": {
        "id": "t11PZirMcpz5",
        "colab_type": "code",
        "colab": {
          "base_uri": "https://localhost:8080/",
          "height": 785
        },
        "outputId": "5e23b4a1-0470-44f1-853f-b06c83e7d0ff"
      },
      "source": [
        "# Train the model\n",
        "start_time = time.time()\n",
        "history = model_5_rf.fit(train_images_sm, train_labels, epochs=30,\n",
        "                    validation_data=(val_images_sm, val_labels),\n",
        "                    callbacks=[keras.callbacks.EarlyStopping(patience=10)])\n",
        "elapsed_time = time.time() - start_time\n",
        "print('--------------------------')\n",
        "print('Training time in seconds: ', round(elapsed_time,2))\n",
        "print('--------------------------')"
      ],
      "execution_count": 134,
      "outputs": [
        {
          "output_type": "stream",
          "text": [
            "Train on 55000 samples, validate on 5000 samples\n",
            "Epoch 1/30\n",
            "55000/55000 [==============================] - 4s 79us/sample - loss: 0.4620 - accuracy: 0.8610 - val_loss: 0.2940 - val_accuracy: 0.9110\n",
            "Epoch 2/30\n",
            "55000/55000 [==============================] - 4s 68us/sample - loss: 0.2667 - accuracy: 0.9186 - val_loss: 0.2357 - val_accuracy: 0.9266\n",
            "Epoch 3/30\n",
            "55000/55000 [==============================] - 4s 70us/sample - loss: 0.2158 - accuracy: 0.9323 - val_loss: 0.2108 - val_accuracy: 0.9356\n",
            "Epoch 4/30\n",
            "55000/55000 [==============================] - 4s 67us/sample - loss: 0.1865 - accuracy: 0.9419 - val_loss: 0.1877 - val_accuracy: 0.9446\n",
            "Epoch 5/30\n",
            "55000/55000 [==============================] - 4s 69us/sample - loss: 0.1644 - accuracy: 0.9483 - val_loss: 0.1836 - val_accuracy: 0.9436\n",
            "Epoch 6/30\n",
            "55000/55000 [==============================] - 4s 69us/sample - loss: 0.1500 - accuracy: 0.9523 - val_loss: 0.1809 - val_accuracy: 0.9458\n",
            "Epoch 7/30\n",
            "55000/55000 [==============================] - 4s 69us/sample - loss: 0.1354 - accuracy: 0.9570 - val_loss: 0.1728 - val_accuracy: 0.9496\n",
            "Epoch 8/30\n",
            "55000/55000 [==============================] - 4s 70us/sample - loss: 0.1237 - accuracy: 0.9605 - val_loss: 0.1654 - val_accuracy: 0.9488\n",
            "Epoch 9/30\n",
            "55000/55000 [==============================] - 4s 68us/sample - loss: 0.1141 - accuracy: 0.9635 - val_loss: 0.1780 - val_accuracy: 0.9504\n",
            "Epoch 10/30\n",
            "55000/55000 [==============================] - 4s 68us/sample - loss: 0.1048 - accuracy: 0.9668 - val_loss: 0.1615 - val_accuracy: 0.9530\n",
            "Epoch 11/30\n",
            "55000/55000 [==============================] - 4s 67us/sample - loss: 0.0981 - accuracy: 0.9679 - val_loss: 0.1689 - val_accuracy: 0.9526\n",
            "Epoch 12/30\n",
            "55000/55000 [==============================] - 4s 69us/sample - loss: 0.0891 - accuracy: 0.9715 - val_loss: 0.1663 - val_accuracy: 0.9538\n",
            "Epoch 13/30\n",
            "55000/55000 [==============================] - 4s 68us/sample - loss: 0.0813 - accuracy: 0.9736 - val_loss: 0.1634 - val_accuracy: 0.9552\n",
            "Epoch 14/30\n",
            "55000/55000 [==============================] - 4s 67us/sample - loss: 0.0749 - accuracy: 0.9758 - val_loss: 0.1833 - val_accuracy: 0.9486\n",
            "Epoch 15/30\n",
            "55000/55000 [==============================] - 4s 68us/sample - loss: 0.0709 - accuracy: 0.9770 - val_loss: 0.1832 - val_accuracy: 0.9526\n",
            "Epoch 16/30\n",
            "55000/55000 [==============================] - 4s 69us/sample - loss: 0.0645 - accuracy: 0.9790 - val_loss: 0.1762 - val_accuracy: 0.9554\n",
            "Epoch 17/30\n",
            "55000/55000 [==============================] - 4s 69us/sample - loss: 0.0616 - accuracy: 0.9788 - val_loss: 0.1774 - val_accuracy: 0.9528\n",
            "Epoch 18/30\n",
            "55000/55000 [==============================] - 4s 69us/sample - loss: 0.0564 - accuracy: 0.9811 - val_loss: 0.1809 - val_accuracy: 0.9534\n",
            "Epoch 19/30\n",
            "55000/55000 [==============================] - 4s 69us/sample - loss: 0.0512 - accuracy: 0.9833 - val_loss: 0.1866 - val_accuracy: 0.9484\n",
            "Epoch 20/30\n",
            "55000/55000 [==============================] - 4s 68us/sample - loss: 0.0474 - accuracy: 0.9849 - val_loss: 0.1953 - val_accuracy: 0.9528\n",
            "--------------------------\n",
            "Training time in seconds:  77.85\n",
            "--------------------------\n"
          ],
          "name": "stdout"
        }
      ]
    },
    {
      "cell_type": "code",
      "metadata": {
        "id": "O0kKtrA4cpz_",
        "colab_type": "code",
        "colab": {
          "base_uri": "https://localhost:8080/",
          "height": 34
        },
        "outputId": "48d68bbc-bc1e-48a0-9f0d-477cb79d8d5b"
      },
      "source": [
        "hist_dict = history.history\n",
        "hist_dict.keys()"
      ],
      "execution_count": 135,
      "outputs": [
        {
          "output_type": "execute_result",
          "data": {
            "text/plain": [
              "dict_keys(['loss', 'accuracy', 'val_loss', 'val_accuracy'])"
            ]
          },
          "metadata": {
            "tags": []
          },
          "execution_count": 135
        }
      ]
    },
    {
      "cell_type": "code",
      "metadata": {
        "id": "melpYSAQcp0T",
        "colab_type": "code",
        "colab": {
          "base_uri": "https://localhost:8080/",
          "height": 51
        },
        "outputId": "85f9e431-a3e0-4e1f-d46b-b1fd1a45931e"
      },
      "source": [
        "print(f'''acc: {hist_dict['accuracy'][-1]:.4}, val acc: {hist_dict['val_accuracy'][-1]:.4},\n",
        "loss: {hist_dict['loss'][-1]:.4}, val loss: {hist_dict['val_loss'][-1]:.4}''')"
      ],
      "execution_count": 136,
      "outputs": [
        {
          "output_type": "stream",
          "text": [
            "acc: 0.9849, val acc: 0.9528,\n",
            "loss: 0.0474, val loss: 0.1953\n"
          ],
          "name": "stdout"
        }
      ]
    },
    {
      "cell_type": "code",
      "metadata": {
        "id": "xKV3MZH3cp0n",
        "colab_type": "code",
        "colab": {}
      },
      "source": [
        "test_loss, test_acc = model_5_rf.evaluate(test_images_sm, test_labels)"
      ],
      "execution_count": 137,
      "outputs": []
    },
    {
      "cell_type": "code",
      "metadata": {
        "id": "PmIhR-mXcp05",
        "colab_type": "code",
        "colab": {
          "base_uri": "https://localhost:8080/",
          "height": 34
        },
        "outputId": "ccf68067-0dc2-4fb9-b476-93ab7203050a"
      },
      "source": [
        "print(f'test accuracy: {test_acc}, test loss: {test_loss}')"
      ],
      "execution_count": 138,
      "outputs": [
        {
          "output_type": "stream",
          "text": [
            "test accuracy: 0.9459999799728394, test loss: 0.1997801076138625\n"
          ],
          "name": "stdout"
        }
      ]
    },
    {
      "cell_type": "markdown",
      "metadata": {
        "id": "UuvW94iWcp09",
        "colab_type": "text"
      },
      "source": [
        "## 5e. Compare Model 3-5"
      ]
    },
    {
      "cell_type": "code",
      "metadata": {
        "id": "HYWsEOStcp0-",
        "colab_type": "code",
        "colab": {
          "base_uri": "https://localhost:8080/",
          "height": 324
        },
        "outputId": "a7b5eef7-67ee-4d92-af67-bbf79d45276f"
      },
      "source": [
        "# Alternate code for accuracy and loss\n",
        "# Plot learning curves for model\n",
        "pd.DataFrame(history.history).plot(figsize=(8, 5))\n",
        "plt.grid(True)\n",
        "plt.gca().set_ylim(0, 1) # set the vertical range to [0-1]\n",
        "plt.show()"
      ],
      "execution_count": 139,
      "outputs": [
        {
          "output_type": "display_data",
          "data": {
            "image/png": "[encoded data removed]",
            "text/plain": [
              "<Figure size 576x360 with 1 Axes>"
            ]
          },
          "metadata": {
            "tags": [],
            "needs_background": "light"
          }
        }
      ]
    }
  ]
}