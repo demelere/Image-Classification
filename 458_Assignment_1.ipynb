{
  "nbformat": 4,
  "nbformat_minor": 0,
  "metadata": {
    "kernelspec": {
      "display_name": "Python 3",
      "language": "python",
      "name": "python3"
    },
    "language_info": {
      "codemirror_mode": {
        "name": "ipython",
        "version": 3
      },
      "file_extension": ".py",
      "mimetype": "text/x-python",
      "name": "python",
      "nbconvert_exporter": "python",
      "pygments_lexer": "ipython3",
      "version": "3.6.10"
    },
    "colab": {
      "name": "458 - Assignment 1.ipynb",
      "provenance": [],
      "collapsed_sections": [
        "7Wz25VFvcpv7",
        "u6yIJr-HcpwJ"
      ],
      "include_colab_link": true
    }
  },
  "cells": [
    {
      "cell_type": "markdown",
      "metadata": {
        "id": "view-in-github",
        "colab_type": "text"
      },
      "source": [
        "<a href=\"https://colab.research.google.com/github/demelere/Image-Classification/blob/master/458_Assignment_1.ipynb\" target=\"_parent\"><img src=\"https://colab.research.google.com/assets/colab-badge.svg\" alt=\"Open In Colab\"/></a>"
      ]
    },
    {
      "cell_type": "code",
      "metadata": {
        "id": "SDPymBSCcpbC",
        "colab_type": "code",
        "colab": {
          "base_uri": "https://localhost:8080/",
          "height": 71
        },
        "outputId": "036b0ba1-f7e3-42ba-aead-16a42864bd99"
      },
      "source": [
        "import numpy as np\n",
        "import pandas as pd\n",
        "import os\n",
        "import time\n",
        "\n",
        "import tensorflow as tf\n",
        "from tensorflow import keras\n",
        "from tensorflow.keras import models\n",
        "from tensorflow.keras import layers\n",
        "from tensorflow.keras.wrappers.scikit_learn import KerasClassifier\n",
        "from sklearn.metrics import confusion_matrix\n",
        "from sklearn.model_selection import KFold, GridSearchCV\n",
        "from sklearn.ensemble import RandomForestClassifier\n",
        "from sklearn.decomposition import PCA\n",
        "\n",
        "%matplotlib inline\n",
        "import matplotlib.pyplot as plt\n",
        "import seaborn as sns"
      ],
      "execution_count": 1,
      "outputs": [
        {
          "output_type": "stream",
          "text": [
            "/usr/local/lib/python3.6/dist-packages/statsmodels/tools/_testing.py:19: FutureWarning: pandas.util.testing is deprecated. Use the functions in the public API at pandas.testing instead.\n",
            "  import pandas.util.testing as tm\n"
          ],
          "name": "stderr"
        }
      ]
    },
    {
      "cell_type": "code",
      "metadata": {
        "id": "p9EJ0p_vcpbQ",
        "colab_type": "code",
        "colab": {
          "base_uri": "https://localhost:8080/",
          "height": 51
        },
        "outputId": "03090769-d440-464c-e502-e16087aac6f4"
      },
      "source": [
        "# Check versions\n",
        "print(keras.__version__)\n",
        "print(tf.__version__)"
      ],
      "execution_count": 2,
      "outputs": [
        {
          "output_type": "stream",
          "text": [
            "2.3.0-tf\n",
            "2.2.0\n"
          ],
          "name": "stdout"
        }
      ]
    },
    {
      "cell_type": "code",
      "metadata": {
        "id": "86SSjGm_cpbb",
        "colab_type": "code",
        "colab": {}
      },
      "source": [
        "tf.compat.v1.disable_eager_execution() "
      ],
      "execution_count": 3,
      "outputs": []
    },
    {
      "cell_type": "code",
      "metadata": {
        "id": "8V7SPOxUcpck",
        "colab_type": "code",
        "colab": {}
      },
      "source": [
        "# For consistent results\n",
        "keras.backend.clear_session()\n",
        "np.random.seed(42)\n",
        "tf.random.set_seed(42)"
      ],
      "execution_count": 4,
      "outputs": []
    },
    {
      "cell_type": "markdown",
      "metadata": {
        "id": "wF9BCzVGcpdl",
        "colab_type": "text"
      },
      "source": [
        "# Data import and pre-processing"
      ]
    },
    {
      "cell_type": "code",
      "metadata": {
        "id": "7LNgtH41cpdm",
        "colab_type": "code",
        "colab": {
          "base_uri": "https://localhost:8080/",
          "height": 51
        },
        "outputId": "ad958ae0-bbfd-4eeb-940a-de6d0c2ff436"
      },
      "source": [
        "# Import data from Keras\n",
        "from tensorflow.keras.datasets import mnist\n",
        "(train_images, train_labels), (test_images, test_labels) = mnist.load_data()"
      ],
      "execution_count": 5,
      "outputs": [
        {
          "output_type": "stream",
          "text": [
            "Downloading data from https://storage.googleapis.com/tensorflow/tf-keras-datasets/mnist.npz\n",
            "11493376/11490434 [==============================] - 0s 0us/step\n"
          ],
          "name": "stdout"
        }
      ]
    },
    {
      "cell_type": "code",
      "metadata": {
        "id": "i_bcOKPBcpds",
        "colab_type": "code",
        "colab": {
          "base_uri": "https://localhost:8080/",
          "height": 34
        },
        "outputId": "f0a96a78-091b-44ad-bb23-14402c235b06"
      },
      "source": [
        "# Check shapes\n",
        "train_images.shape, test_images.shape, test_labels.shape, test_labels.shape"
      ],
      "execution_count": 6,
      "outputs": [
        {
          "output_type": "execute_result",
          "data": {
            "text/plain": [
              "((60000, 28, 28), (10000, 28, 28), (10000,), (10000,))"
            ]
          },
          "metadata": {
            "tags": []
          },
          "execution_count": 6
        }
      ]
    },
    {
      "cell_type": "markdown",
      "metadata": {
        "id": "CGjf216hcpdz",
        "colab_type": "text"
      },
      "source": [
        "Preprocess data by reshaping it into the shape that the network expects and scaling it so that all values are in the \\[0, 1] interval.\n",
        "- Training images are stored in an array of shape (60000, 28, 28) of type uint8 with values in the [0, 255] interval. \n",
        "- Transform images it into a float32 array of shape (60000, 28 * 28) with values between 0 and 1."
      ]
    },
    {
      "cell_type": "code",
      "metadata": {
        "id": "1Vanfceocpd1",
        "colab_type": "code",
        "colab": {}
      },
      "source": [
        "train_images = train_images.reshape((60000, 28 * 28))\n",
        "train_images = train_images.astype('float32') / 255\n",
        "\n",
        "test_images = test_images.reshape((10000, 28 * 28))\n",
        "test_images = test_images.astype('float32') / 255"
      ],
      "execution_count": 7,
      "outputs": []
    },
    {
      "cell_type": "code",
      "metadata": {
        "id": "4sXxfbbJcpd_",
        "colab_type": "code",
        "colab": {}
      },
      "source": [
        "# Set apart 5,000 samples from training data for validation\n",
        "val_images, train_images = train_images[:5000], train_images[5000:] \n",
        "val_labels, train_labels = train_labels[:5000], train_labels[5000:]"
      ],
      "execution_count": 8,
      "outputs": []
    },
    {
      "cell_type": "markdown",
      "metadata": {
        "id": "VSbR0X2tcpeF",
        "colab_type": "text"
      },
      "source": [
        "# EXPERIMENT  1:\n",
        "\n",
        "This network will consist of 784 input nodes, a hidden layer with `1 node` and 10 output nodes (corresponding to the 10 digits). We use `mnist.load_data()` to get the 70,000 images divided into a set of 60,000 training images and 10,000 test images. 5,000 of the 60,000 training images are held back for validation. After training the model, we group the 60,000 `activation values` of the hidden node for the (original) set of training images by the 10 predicted classes and visualize these sets of values using a `boxplot`. The overlap between the range of values in the \"boxes\" is expected to be minimal."
      ]
    },
    {
      "cell_type": "markdown",
      "metadata": {
        "id": "9ZKZKvOlcpeG",
        "colab_type": "text"
      },
      "source": [
        "## Build network\n",
        "\n",
        "This network consists of a sequence of two `Dense` layers, which are densely-connected (also called \"fully-connected\") neural layers. \n",
        "\n",
        "* The first `Dense` layer, the hidden layer, consists of just `one node`.\n",
        "* The second (and last) layer is a 10-way \"softmax\" layer, which means it will return an array of 10 probability scores (summing to 1). Each  score will be the probability that the current digit image belongs to one of our 10 digit classes."
      ]
    },
    {
      "cell_type": "code",
      "metadata": {
        "id": "M0rCcNxmcpeH",
        "colab_type": "code",
        "colab": {
          "base_uri": "https://localhost:8080/",
          "height": 88
        },
        "outputId": "756e3fbe-1d66-4dd0-c824-13511de40654"
      },
      "source": [
        "# Define model using Sequential class\n",
        "# reLu activation\n",
        "model_1 = models.Sequential()\n",
        "model_1.add(layers.Dense(1, activation='relu', input_shape=(28 * 28,)))\n",
        "model_1.add(layers.Dense(10, activation='softmax')) "
      ],
      "execution_count": 9,
      "outputs": [
        {
          "output_type": "stream",
          "text": [
            "WARNING:tensorflow:From /usr/local/lib/python3.6/dist-packages/tensorflow/python/ops/resource_variable_ops.py:1666: calling BaseResourceVariable.__init__ (from tensorflow.python.ops.resource_variable_ops) with constraint is deprecated and will be removed in a future version.\n",
            "Instructions for updating:\n",
            "If using Keras pass *_constraint arguments to layers.\n"
          ],
          "name": "stdout"
        }
      ]
    },
    {
      "cell_type": "code",
      "metadata": {
        "id": "qj41aQbqcpea",
        "colab_type": "code",
        "colab": {
          "base_uri": "https://localhost:8080/",
          "height": 221
        },
        "outputId": "9ad39255-32d4-4fff-cc36-9ebe3fb55aec"
      },
      "source": [
        "# Model summary\n",
        "model_1.summary()"
      ],
      "execution_count": 12,
      "outputs": [
        {
          "output_type": "stream",
          "text": [
            "Model: \"sequential\"\n",
            "_________________________________________________________________\n",
            "Layer (type)                 Output Shape              Param #   \n",
            "=================================================================\n",
            "dense (Dense)                (None, 1)                 785       \n",
            "_________________________________________________________________\n",
            "dense_1 (Dense)              (None, 10)                20        \n",
            "=================================================================\n",
            "Total params: 805\n",
            "Trainable params: 805\n",
            "Non-trainable params: 0\n",
            "_________________________________________________________________\n"
          ],
          "name": "stdout"
        }
      ]
    },
    {
      "cell_type": "markdown",
      "metadata": {
        "id": "fKvuoT4Vcpem",
        "colab_type": "text"
      },
      "source": [
        "## Compile model\n",
        "\n",
        "To make our network ready for training, we need to pick three more things, as part of \"compilation\" step:\n",
        "\n",
        "* A loss function: the is how the network will be able to measure how good a job it is doing on its training data, and thus how it will be able to steer itself in the right direction.\n",
        "* An optimizer: this is the mechanism through which the network will update itself based on the data it sees and its loss function.\n",
        "* Metrics to monitor during training and testing. Here we will only care about accuracy (the fraction of the images that were correctly classified)."
      ]
    },
    {
      "cell_type": "code",
      "metadata": {
        "id": "JhIYY0dvcpen",
        "colab_type": "code",
        "colab": {}
      },
      "source": [
        "# Compile model\n",
        "model_1.compile(loss='sparse_categorical_crossentropy', optimizer='rmsprop', metrics=['accuracy'])"
      ],
      "execution_count": 15,
      "outputs": []
    },
    {
      "cell_type": "markdown",
      "metadata": {
        "id": "hvwM6sTgcpfp",
        "colab_type": "text"
      },
      "source": [
        "## Train model\n",
        "\n",
        "We are now ready to train our network, which in Keras is done via a call to the `fit` method of the network: \n",
        "we \"fit\" the model to its training data. We train the model for 30 epochs with batch size 32 (the default)."
      ]
    },
    {
      "cell_type": "code",
      "metadata": {
        "id": "v47tDYHgcpfp",
        "colab_type": "code",
        "colab": {
          "base_uri": "https://localhost:8080/",
          "height": 1000
        },
        "outputId": "57d0ace5-22b3-4c32-9743-a53970efee5f"
      },
      "source": [
        "# If loading previous model:\n",
        "# model = model_1()\n",
        "# model = load_model_1('results/keras_mnist_model_2.h5')\n",
        "\n",
        "# Train the model\n",
        "start_time = time.time()\n",
        "history = model_1.fit(train_images, train_labels, validation_data=(val_images, val_labels), \n",
        "                      epochs=30)\n",
        "# fit(train_images, train_labels, epochs=30,\n",
        "#                     validation_data=(val_images, val_labels))\n",
        "elapsed_time = time.time() - start_time\n",
        "print('--------------------------')\n",
        "print('Training time in seconds: ', round(elapsed_time,2))\n",
        "print('--------------------------')\n",
        "\n",
        "# Saving models locally after fitting\n",
        "# save_dir = \"results/\"\n",
        "# model_name = 'mnist_model_1.h5'\n",
        "# model_path = os.path.join(save_dir, model_name)\n",
        "# model_1.save(model_path)\n",
        "# print('Saved trained model at %s ' % model_path)\n",
        "# print('--------------------------')"
      ],
      "execution_count": 16,
      "outputs": [
        {
          "output_type": "stream",
          "text": [
            "Train on 55000 samples, validate on 5000 samples\n",
            "Epoch 1/30\n",
            "55000/55000 [==============================] - 2s 33us/sample - loss: 1.5341 - accuracy: 0.4049 - val_loss: 1.5307 - val_accuracy: 0.4158\n",
            "Epoch 2/30\n",
            "55000/55000 [==============================] - 2s 33us/sample - loss: 1.5343 - accuracy: 0.4073 - val_loss: 1.5314 - val_accuracy: 0.4194\n",
            "Epoch 3/30\n",
            "55000/55000 [==============================] - 2s 32us/sample - loss: 1.5338 - accuracy: 0.4083 - val_loss: 1.5336 - val_accuracy: 0.4210\n",
            "Epoch 4/30\n",
            "55000/55000 [==============================] - 2s 32us/sample - loss: 1.5343 - accuracy: 0.4077 - val_loss: 1.5321 - val_accuracy: 0.4184\n",
            "Epoch 5/30\n",
            "55000/55000 [==============================] - 2s 33us/sample - loss: 1.5339 - accuracy: 0.4045 - val_loss: 1.5356 - val_accuracy: 0.4182\n",
            "Epoch 6/30\n",
            "55000/55000 [==============================] - 2s 33us/sample - loss: 1.5339 - accuracy: 0.4047 - val_loss: 1.5328 - val_accuracy: 0.4166\n",
            "Epoch 7/30\n",
            "55000/55000 [==============================] - 2s 33us/sample - loss: 1.5339 - accuracy: 0.4073 - val_loss: 1.5377 - val_accuracy: 0.4158\n",
            "Epoch 8/30\n",
            "55000/55000 [==============================] - 2s 32us/sample - loss: 1.5347 - accuracy: 0.4069 - val_loss: 1.5362 - val_accuracy: 0.4120\n",
            "Epoch 9/30\n",
            "55000/55000 [==============================] - 2s 32us/sample - loss: 1.5348 - accuracy: 0.4073 - val_loss: 1.5349 - val_accuracy: 0.4132\n",
            "Epoch 10/30\n",
            "55000/55000 [==============================] - 2s 32us/sample - loss: 1.5344 - accuracy: 0.4057 - val_loss: 1.5371 - val_accuracy: 0.4164\n",
            "Epoch 11/30\n",
            "55000/55000 [==============================] - 2s 34us/sample - loss: 1.5347 - accuracy: 0.4083 - val_loss: 1.5355 - val_accuracy: 0.4144\n",
            "Epoch 12/30\n",
            "55000/55000 [==============================] - 2s 33us/sample - loss: 1.5350 - accuracy: 0.4069 - val_loss: 1.5489 - val_accuracy: 0.4194\n",
            "Epoch 13/30\n",
            "55000/55000 [==============================] - 2s 34us/sample - loss: 1.5350 - accuracy: 0.4077 - val_loss: 1.5353 - val_accuracy: 0.4194\n",
            "Epoch 14/30\n",
            "55000/55000 [==============================] - 2s 32us/sample - loss: 1.5353 - accuracy: 0.4068 - val_loss: 1.5362 - val_accuracy: 0.4258\n",
            "Epoch 15/30\n",
            "55000/55000 [==============================] - 2s 32us/sample - loss: 1.5354 - accuracy: 0.4082 - val_loss: 1.5339 - val_accuracy: 0.4134\n",
            "Epoch 16/30\n",
            "55000/55000 [==============================] - 2s 32us/sample - loss: 1.5362 - accuracy: 0.4070 - val_loss: 1.5406 - val_accuracy: 0.4060\n",
            "Epoch 17/30\n",
            "55000/55000 [==============================] - 2s 34us/sample - loss: 1.5360 - accuracy: 0.4060 - val_loss: 1.5397 - val_accuracy: 0.4072\n",
            "Epoch 18/30\n",
            "55000/55000 [==============================] - 2s 33us/sample - loss: 1.5366 - accuracy: 0.4064 - val_loss: 1.5404 - val_accuracy: 0.4186\n",
            "Epoch 19/30\n",
            "55000/55000 [==============================] - 2s 31us/sample - loss: 1.5362 - accuracy: 0.4091 - val_loss: 1.5425 - val_accuracy: 0.4156\n",
            "Epoch 20/30\n",
            "55000/55000 [==============================] - 2s 32us/sample - loss: 1.5363 - accuracy: 0.4081 - val_loss: 1.5430 - val_accuracy: 0.4196\n",
            "Epoch 21/30\n",
            "55000/55000 [==============================] - 2s 33us/sample - loss: 1.5372 - accuracy: 0.4095 - val_loss: 1.5437 - val_accuracy: 0.4140\n",
            "Epoch 22/30\n",
            "55000/55000 [==============================] - 2s 32us/sample - loss: 1.5364 - accuracy: 0.4088 - val_loss: 1.5406 - val_accuracy: 0.4156\n",
            "Epoch 23/30\n",
            "55000/55000 [==============================] - 2s 31us/sample - loss: 1.5366 - accuracy: 0.4084 - val_loss: 1.5425 - val_accuracy: 0.4098\n",
            "Epoch 24/30\n",
            "55000/55000 [==============================] - 2s 33us/sample - loss: 1.5369 - accuracy: 0.4075 - val_loss: 1.5402 - val_accuracy: 0.4156\n",
            "Epoch 25/30\n",
            "55000/55000 [==============================] - 2s 32us/sample - loss: 1.5372 - accuracy: 0.4079 - val_loss: 1.5397 - val_accuracy: 0.4228\n",
            "Epoch 26/30\n",
            "55000/55000 [==============================] - 2s 35us/sample - loss: 1.5375 - accuracy: 0.4088 - val_loss: 1.5416 - val_accuracy: 0.4190\n",
            "Epoch 27/30\n",
            "55000/55000 [==============================] - 2s 34us/sample - loss: 1.5372 - accuracy: 0.4081 - val_loss: 1.5455 - val_accuracy: 0.4196\n",
            "Epoch 28/30\n",
            "55000/55000 [==============================] - 2s 33us/sample - loss: 1.5377 - accuracy: 0.4094 - val_loss: 1.5419 - val_accuracy: 0.4272\n",
            "Epoch 29/30\n",
            "55000/55000 [==============================] - 2s 33us/sample - loss: 1.5377 - accuracy: 0.4092 - val_loss: 1.5415 - val_accuracy: 0.4158\n",
            "Epoch 30/30\n",
            "55000/55000 [==============================] - 2s 33us/sample - loss: 1.5378 - accuracy: 0.4101 - val_loss: 1.5413 - val_accuracy: 0.4138\n",
            "--------------------------\n",
            "Training time in seconds:  54.37\n",
            "--------------------------\n"
          ],
          "name": "stdout"
        }
      ]
    },
    {
      "cell_type": "markdown",
      "metadata": {
        "id": "1nnmPh0Icpft",
        "colab_type": "text"
      },
      "source": [
        "## Test model\n",
        "\n",
        "Evaluate the model on the test dataset."
      ]
    },
    {
      "cell_type": "code",
      "metadata": {
        "id": "EoZ6IRuPcpft",
        "colab_type": "code",
        "colab": {}
      },
      "source": [
        "test_loss, test_acc = model_1.evaluate(test_images, test_labels)"
      ],
      "execution_count": 17,
      "outputs": []
    },
    {
      "cell_type": "code",
      "metadata": {
        "id": "Ku293P11cpf-",
        "colab_type": "code",
        "colab": {
          "base_uri": "https://localhost:8080/",
          "height": 34
        },
        "outputId": "91088682-04e8-4900-9e04-ecea114443a9"
      },
      "source": [
        "print(f'test accuracy: {test_acc}, test loss: {test_loss}')"
      ],
      "execution_count": 18,
      "outputs": [
        {
          "output_type": "stream",
          "text": [
            "test accuracy: 0.40790000557899475, test loss: 1.5781789979934693\n"
          ],
          "name": "stdout"
        }
      ]
    },
    {
      "cell_type": "markdown",
      "metadata": {
        "id": "OIYZhsRScpgN",
        "colab_type": "text"
      },
      "source": [
        "## Plot model performance\n",
        "Assess accuracy and loss"
      ]
    },
    {
      "cell_type": "code",
      "metadata": {
        "id": "7NSRS10pcpgO",
        "colab_type": "code",
        "colab": {
          "base_uri": "https://localhost:8080/",
          "height": 34
        },
        "outputId": "984c24a9-af5b-4741-e043-86a3b6f4aa7e"
      },
      "source": [
        "history_dict = history.history\n",
        "history_dict.keys()"
      ],
      "execution_count": 21,
      "outputs": [
        {
          "output_type": "execute_result",
          "data": {
            "text/plain": [
              "dict_keys(['loss', 'accuracy', 'val_loss', 'val_accuracy'])"
            ]
          },
          "metadata": {
            "tags": []
          },
          "execution_count": 21
        }
      ]
    },
    {
      "cell_type": "markdown",
      "metadata": {
        "id": "UjqLiXQfcpgs",
        "colab_type": "text"
      },
      "source": [
        "**Figure 1: Learning curves for Model 1**"
      ]
    },
    {
      "cell_type": "code",
      "metadata": {
        "id": "RfucC_Hpcpgu",
        "colab_type": "code",
        "colab": {
          "base_uri": "https://localhost:8080/",
          "height": 324
        },
        "outputId": "841c9ea6-e591-4803-ceb6-15528497ba4a"
      },
      "source": [
        "# Alternate code for accuracy and loss\n",
        "# Plot learning curves for model\n",
        "pd.DataFrame(history.history).plot(figsize=(8, 5))\n",
        "plt.grid(True)\n",
        "plt.gca().set_ylim(0, 2) # set the vertical range to [0-1]\n",
        "plt.show()"
      ],
      "execution_count": 22,
      "outputs": [
        {
          "output_type": "display_data",
          "data": {
            "image/png": "[encoded data removed]",
            "text/plain": [
              "<Figure size 576x360 with 1 Axes>"
            ]
          },
          "metadata": {
            "tags": [],
            "needs_background": "light"
          }
        }
      ]
    },
    {
      "cell_type": "markdown",
      "metadata": {
        "id": "O0-BU5cOcpg2",
        "colab_type": "text"
      },
      "source": [
        "## Confusion matrix comparison\n",
        "\n",
        "Evaluate prediction errors with Model 1"
      ]
    },
    {
      "cell_type": "code",
      "metadata": {
        "id": "u55Ok7mpcpg3",
        "colab_type": "code",
        "colab": {}
      },
      "source": [
        "# Assign predicted classes\n",
        "pred_classes = model_1.predict_classes(train_images)"
      ],
      "execution_count": 26,
      "outputs": []
    },
    {
      "cell_type": "code",
      "metadata": {
        "id": "4UZ2HGOncphP",
        "colab_type": "code",
        "colab": {
          "base_uri": "https://localhost:8080/",
          "height": 187
        },
        "outputId": "bdb7018d-cf5a-4a5b-ab48-f88acb458b25"
      },
      "source": [
        "# Create confusion matrix with values\n",
        "conf_mx = confusion_matrix(train_labels,pred_classes)\n",
        "conf_mx"
      ],
      "execution_count": 27,
      "outputs": [
        {
          "output_type": "execute_result",
          "data": {
            "text/plain": [
              "array([[ 377,  479,  560,   44,    3,    0, 3936,    0,   44,    1],\n",
              "       [  22, 5061,  124,  534,   41,   15,  123,    1,  258,    0],\n",
              "       [ 262,  917,  624,  139,   58,    9, 3367,    2,   88,    4],\n",
              "       [  35, 2039,  180, 1288,  434,  111,  393,   28, 1095,   35],\n",
              "       [   5,  113,   22,   99, 3986,  132,   34,   48,  331,  537],\n",
              "       [  28, 1198,  125,  958,  736,  202,  171,   47, 1484,   38],\n",
              "       [  84,  193,  159,   22,    1,    2, 4942,    0,   14,    0],\n",
              "       [   1,   74,   10,   67, 1373,   70,    4, 3614,  207,  295],\n",
              "       [  11, 1613,   84, 1315,  629,  175,   59,   10, 1481,   12],\n",
              "       [   5,   46,   12,   52, 2801,   59,    5, 1526,  142,  806]])"
            ]
          },
          "metadata": {
            "tags": []
          },
          "execution_count": 27
        }
      ]
    },
    {
      "cell_type": "markdown",
      "metadata": {
        "id": "1c6qMMHHcphd",
        "colab_type": "text"
      },
      "source": [
        "**Figure 2: Confusion matrix for Model 1**"
      ]
    },
    {
      "cell_type": "code",
      "metadata": {
        "id": "th9nKxo3cphe",
        "colab_type": "code",
        "colab": {
          "base_uri": "https://localhost:8080/",
          "height": 295
        },
        "outputId": "9616383e-55ff-4505-d343-749cf697b85b"
      },
      "source": [
        "# Plot with values transposed to show actual versus predicted values\n",
        "# m1_cm = confusion_matrix(train_labels, pred_classes)\n",
        "m1_cm_plt=sns.heatmap(conf_mx, square=False, annot=True, fmt='d', cbar=False, cmap=\"Blues\")\n",
        "plt.xlabel('Predicted label')\n",
        "plt.ylabel('Actual label')\n",
        "plt.title(\"Test Confusion Matrix - Model 1\")\n",
        "plt.show();"
      ],
      "execution_count": 28,
      "outputs": [
        {
          "output_type": "display_data",
          "data": {
            "image/png": "[encoded data removed]",
            "text/plain": [
              "<Figure size 432x288 with 1 Axes>"
            ]
          },
          "metadata": {
            "tags": [],
            "needs_background": "light"
          }
        }
      ]
    },
    {
      "cell_type": "code",
      "metadata": {
        "id": "cDezKgKOcphu",
        "colab_type": "code",
        "colab": {}
      },
      "source": [
        "# Plot normalized confusion matrix\n",
        "row_sums = conf_mx.sum(axis=1, keepdims=True)\n",
        "norm_conf_mx = conf_mx / row_sums"
      ],
      "execution_count": 29,
      "outputs": []
    },
    {
      "cell_type": "markdown",
      "metadata": {
        "id": "bYlkMh2Ccph4",
        "colab_type": "text"
      },
      "source": [
        "**Figure 3: Normalized confusion matrix for Model 1**"
      ]
    },
    {
      "cell_type": "code",
      "metadata": {
        "id": "eGPAbHFIcph4",
        "colab_type": "code",
        "colab": {
          "base_uri": "https://localhost:8080/",
          "height": 275
        },
        "outputId": "e845787e-7a4f-4a15-ac57-e3214ce49fe5"
      },
      "source": [
        "np.fill_diagonal(norm_conf_mx, 0)\n",
        "plt.matshow(norm_conf_mx, cmap=\"Blues\")\n",
        "plt.show()"
      ],
      "execution_count": 30,
      "outputs": [
        {
          "output_type": "display_data",
          "data": {
            "image/png": "[encoded data removed]",
            "text/plain": [
              "<Figure size 288x288 with 1 Axes>"
            ]
          },
          "metadata": {
            "tags": [],
            "needs_background": "light"
          }
        }
      ]
    },
    {
      "cell_type": "markdown",
      "metadata": {
        "id": "qSujkAIncpiB",
        "colab_type": "text"
      },
      "source": [
        "## Error analysis\n",
        "No 5s were predicted, which is an issue considering the general balance of 0-9 classes in the data."
      ]
    },
    {
      "cell_type": "code",
      "metadata": {
        "id": "cIb03nRScpiC",
        "colab_type": "code",
        "colab": {}
      },
      "source": [
        "# Define function for plotting example digits\n",
        "def plot_digits(instances, images_per_row=10, **options):\n",
        "    size = 28\n",
        "    images_per_row = min(len(instances), images_per_row)\n",
        "    images = [instance.reshape(size,size) for instance in instances]\n",
        "    n_rows = (len(instances) - 1) // images_per_row + 1\n",
        "    row_images = []\n",
        "    n_empty = n_rows * images_per_row - len(instances)\n",
        "    images.append(np.zeros((size, size * n_empty)))\n",
        "    for row in range(n_rows):\n",
        "        rimages = images[row * images_per_row : (row + 1) * images_per_row]\n",
        "        row_images.append(np.concatenate(rimages, axis=1))\n",
        "    image = np.concatenate(row_images, axis=0)\n",
        "    plt.imshow(image, cmap = 'binary', **options)\n",
        "    plt.axis(\"off\")"
      ],
      "execution_count": 31,
      "outputs": []
    },
    {
      "cell_type": "code",
      "metadata": {
        "id": "pB8h7Kq0cpik",
        "colab_type": "code",
        "colab": {
          "base_uri": "https://localhost:8080/",
          "height": 466
        },
        "outputId": "9cd50de5-da73-4617-e371-eb9d193bab40"
      },
      "source": [
        "# Try some examples of mis-classes digits\n",
        "# Upper left: 1s classified correctly as 1s\n",
        "# Upper right: 1s classified as 3s\n",
        "# Lower left: 3s classified as 1s\n",
        "# Lower right: 3s classified correctly as 3sx\n",
        "\n",
        "cl_a, cl_b = 1, 3\n",
        "X_aa = train_images[(train_labels == cl_a) & (pred_classes == cl_a)]\n",
        "X_ab = train_images[(train_labels == cl_a) & (pred_classes == cl_b)]\n",
        "X_ba = train_images[(train_labels == cl_b) & (pred_classes == cl_a)]\n",
        "X_bb = train_images[(train_labels == cl_b) & (pred_classes == cl_b)]\n",
        "\n",
        "plt.figure(figsize=(8,8))\n",
        "plt.subplot(221); plot_digits(X_aa[:25], images_per_row=5)\n",
        "plt.subplot(222); plot_digits(X_ab[:25], images_per_row=5)\n",
        "plt.subplot(223); plot_digits(X_ba[:25], images_per_row=5)\n",
        "plt.subplot(224); plot_digits(X_bb[:25], images_per_row=5)\n",
        "plt.show()"
      ],
      "execution_count": 32,
      "outputs": [
        {
          "output_type": "display_data",
          "data": {
            "image/png": "[encoded data removed]",
            "text/plain": [
              "<Figure size 576x576 with 4 Axes>"
            ]
          },
          "metadata": {
            "tags": [],
            "needs_background": "light"
          }
        }
      ]
    },
    {
      "cell_type": "markdown",
      "metadata": {
        "id": "z3wC9bdwcpir",
        "colab_type": "text"
      },
      "source": [
        " ## Get the activation values of the hidden nodes\n",
        " \n",
        "To get the activation values of the hidden nodes, we need to create a new model, `activation_model`, that takes the same input as our current model but outputs the activation value of the hidden layer, i.e. of the hidden node. Then use the `predict` function to get the activation values."
      ]
    },
    {
      "cell_type": "code",
      "metadata": {
        "id": "UmrJAwL5cpis",
        "colab_type": "code",
        "colab": {
          "base_uri": "https://localhost:8080/",
          "height": 68
        },
        "outputId": "6ce656d9-4eeb-40da-e711-aa8fa43d4e12"
      },
      "source": [
        "# Extract the outputs of the 2 layers\n",
        "layer_outputs = [layer.output for layer in model_1.layers]\n",
        "\n",
        "# Create a model that will return these outputs, given the model input\n",
        "activation_model_1 = models.Model(inputs=model_1.input, outputs=layer_outputs)\n",
        "\n",
        "# Print a description of the layers\n",
        "print(f\"There are {len(layer_outputs)} layers\")\n",
        "layer_outputs"
      ],
      "execution_count": 33,
      "outputs": [
        {
          "output_type": "stream",
          "text": [
            "There are 2 layers\n"
          ],
          "name": "stdout"
        },
        {
          "output_type": "execute_result",
          "data": {
            "text/plain": [
              "[<tf.Tensor 'dense/Relu:0' shape=(None, 1) dtype=float32>,\n",
              " <tf.Tensor 'dense_1/Softmax:0' shape=(None, 10) dtype=float32>]"
            ]
          },
          "metadata": {
            "tags": []
          },
          "execution_count": 33
        }
      ]
    },
    {
      "cell_type": "code",
      "metadata": {
        "id": "N7Sx8-7ccpjN",
        "colab_type": "code",
        "colab": {
          "base_uri": "https://localhost:8080/",
          "height": 34
        },
        "outputId": "bf357477-deb3-4d29-c1bf-7e78e9952e74"
      },
      "source": [
        "# Get the output of the hidden node for each of the 55000 training images\n",
        "activations = activation_model_1.predict(train_images)\n",
        "hidden_layer_activation = activations[0]\n",
        "hidden_layer_activation.shape   #  hidden node has one activation value per training image"
      ],
      "execution_count": 34,
      "outputs": [
        {
          "output_type": "execute_result",
          "data": {
            "text/plain": [
              "(55000, 1)"
            ]
          },
          "metadata": {
            "tags": []
          },
          "execution_count": 34
        }
      ]
    },
    {
      "cell_type": "code",
      "metadata": {
        "id": "ENlPb61Ccpjs",
        "colab_type": "code",
        "colab": {
          "base_uri": "https://localhost:8080/",
          "height": 34
        },
        "outputId": "68dc20e4-7bb4-40a5-d6c1-1f2d070da58b"
      },
      "source": [
        "print(f\"The maximum activation value of the hidden node is {hidden_layer_activation.max()}\")"
      ],
      "execution_count": 35,
      "outputs": [
        {
          "output_type": "stream",
          "text": [
            "The maximum activation value of the hidden node is 92.77973175048828\n"
          ],
          "name": "stdout"
        }
      ]
    },
    {
      "cell_type": "code",
      "metadata": {
        "id": "NjDuqbQPcpj3",
        "colab_type": "code",
        "colab": {
          "base_uri": "https://localhost:8080/",
          "height": 88
        },
        "outputId": "f66d4798-0a2e-4720-b4b4-b0c44174e670"
      },
      "source": [
        "# Output layer stats\n",
        "np.set_printoptions(suppress = True)  # display probabilities as decimals and NOT in scientific notation\n",
        "ouput_layer_activation = activations[1]\n",
        "print(f\"The output node has shape {ouput_layer_activation.shape}\")\n",
        "print(f\"The output for the first image are {ouput_layer_activation[0].round(4)}\")\n",
        "print(f\"The sum of the probabilities is (approximately) {ouput_layer_activation[0].sum()}\")"
      ],
      "execution_count": 36,
      "outputs": [
        {
          "output_type": "stream",
          "text": [
            "The output node has shape (55000, 10)\n",
            "The output for the first image are [0.     0.     0.     0.     0.0024 0.     0.     0.8116 0.     0.1861]\n",
            "The sum of the probabilities is (approximately) 0.9999999403953552\n"
          ],
          "name": "stdout"
        }
      ]
    },
    {
      "cell_type": "markdown",
      "metadata": {
        "id": "_8Scp4ehcpkF",
        "colab_type": "text"
      },
      "source": [
        " ## Activation values boxplot \n",
        " \n",
        "We combine the activation values of the one hidden node  with the corresponding predicted classes into a DataFrame. We use both `matplotlib` and `seaborn` to create boxplots from the DataFrame."
      ]
    },
    {
      "cell_type": "code",
      "metadata": {
        "id": "lH6lMxU_cpkt",
        "colab_type": "code",
        "colab": {
          "base_uri": "https://localhost:8080/",
          "height": 204
        },
        "outputId": "edaf4c21-4403-482d-e8b5-00d3b9c216db"
      },
      "source": [
        "# Create DataFrame of activation values and corresponding predicted class\n",
        "boxplot_df = pd.DataFrame({'act_value':hidden_layer_activation.reshape(55000),\n",
        "                           'pred_class':pred_classes})\n",
        "boxplot_df.head()"
      ],
      "execution_count": 37,
      "outputs": [
        {
          "output_type": "execute_result",
          "data": {
            "text/html": [
              "<div>\n",
              "<style scoped>\n",
              "    .dataframe tbody tr th:only-of-type {\n",
              "        vertical-align: middle;\n",
              "    }\n",
              "\n",
              "    .dataframe tbody tr th {\n",
              "        vertical-align: top;\n",
              "    }\n",
              "\n",
              "    .dataframe thead th {\n",
              "        text-align: right;\n",
              "    }\n",
              "</style>\n",
              "<table border=\"1\" class=\"dataframe\">\n",
              "  <thead>\n",
              "    <tr style=\"text-align: right;\">\n",
              "      <th></th>\n",
              "      <th>act_value</th>\n",
              "      <th>pred_class</th>\n",
              "    </tr>\n",
              "  </thead>\n",
              "  <tbody>\n",
              "    <tr>\n",
              "      <th>0</th>\n",
              "      <td>24.579069</td>\n",
              "      <td>7</td>\n",
              "    </tr>\n",
              "    <tr>\n",
              "      <th>1</th>\n",
              "      <td>2.897870</td>\n",
              "      <td>8</td>\n",
              "    </tr>\n",
              "    <tr>\n",
              "      <th>2</th>\n",
              "      <td>6.558838</td>\n",
              "      <td>9</td>\n",
              "    </tr>\n",
              "    <tr>\n",
              "      <th>3</th>\n",
              "      <td>0.000000</td>\n",
              "      <td>6</td>\n",
              "    </tr>\n",
              "    <tr>\n",
              "      <th>4</th>\n",
              "      <td>1.081513</td>\n",
              "      <td>1</td>\n",
              "    </tr>\n",
              "  </tbody>\n",
              "</table>\n",
              "</div>"
            ],
            "text/plain": [
              "   act_value  pred_class\n",
              "0  24.579069           7\n",
              "1   2.897870           8\n",
              "2   6.558838           9\n",
              "3   0.000000           6\n",
              "4   1.081513           1"
            ]
          },
          "metadata": {
            "tags": []
          },
          "execution_count": 37
        }
      ]
    },
    {
      "cell_type": "code",
      "metadata": {
        "id": "3gL26MIlcpk-",
        "colab_type": "code",
        "colab": {
          "base_uri": "https://localhost:8080/",
          "height": 204
        },
        "outputId": "241d0594-9898-4b75-ccec-c96299c7d58c"
      },
      "source": [
        "# Value counts for boxplot\n",
        "# Note missing class - 5\n",
        "boxplot_df['pred_class'].value_counts() "
      ],
      "execution_count": 38,
      "outputs": [
        {
          "output_type": "execute_result",
          "data": {
            "text/plain": [
              "6    13034\n",
              "1    11733\n",
              "4    10062\n",
              "7     5276\n",
              "8     5144\n",
              "3     4518\n",
              "2     1900\n",
              "9     1728\n",
              "0      830\n",
              "5      775\n",
              "Name: pred_class, dtype: int64"
            ]
          },
          "metadata": {
            "tags": []
          },
          "execution_count": 38
        }
      ]
    },
    {
      "cell_type": "markdown",
      "metadata": {
        "id": "0sY05RpVcplD",
        "colab_type": "text"
      },
      "source": [
        "**Figure 4: Activation values boxplot**"
      ]
    },
    {
      "cell_type": "code",
      "metadata": {
        "id": "bD9ygeMzcplM",
        "colab_type": "code",
        "colab": {
          "base_uri": "https://localhost:8080/",
          "height": 280
        },
        "outputId": "8418390a-5d9e-4c82-ca07-ee4171ebd43d"
      },
      "source": [
        "# Activation value boxplot\n",
        "bplot = sns.boxplot(y='act_value', x='pred_class', \n",
        "                 data=boxplot_df, \n",
        "                 width=0.5,\n",
        "                 palette=\"colorblind\")\n",
        "# bplot.savefig(\"act_values_model_1.png\")\n",
        "\n",
        "figure = bplot.get_figure()    \n",
        "# figure.savefig(\"figures/act_values_model_1.png\", dpi=400)\n",
        "# ax.set(ylim=(10, 40))"
      ],
      "execution_count": 39,
      "outputs": [
        {
          "output_type": "display_data",
          "data": {
            "image/png": "[encoded data removed]",
            "text/plain": [
              "<Figure size 432x288 with 1 Axes>"
            ]
          },
          "metadata": {
            "tags": [],
            "needs_background": "light"
          }
        }
      ]
    },
    {
      "cell_type": "markdown",
      "metadata": {
        "id": "EzbkMYhYcplU",
        "colab_type": "text"
      },
      "source": [
        "# EXPERIMENT  2:\n",
        "\n",
        "This network will consist of 784 input nodes, a hidden layer with `2 nodes` and 10 output nodes (corresponding to the 10 digits). We use `mnist.load_data()` to get the 70,000 images divided into a set of 60,000 training images and 10,000 test images. We hold back 5,000 of the 60,000 training images for validation. \n",
        "\n",
        "For each of the 60,000 training images, the output of the two hidden nodes are plotted using a scatterplot. We color code the points according to which of the 10 classes the the output of the two nodes predicts. Ideally, just like in EXPERIMENT 1, the color clusters should have very little overlap."
      ]
    },
    {
      "cell_type": "markdown",
      "metadata": {
        "id": "01AndK6NcplV",
        "colab_type": "text"
      },
      "source": [
        "## Build the network\n",
        "\n",
        "Here our network consists of a sequence of two `Dense` layers, which are densely-connected (also called \"fully-connected\") neural layers. \n",
        "\n",
        "* The first `Dense` layer, the hidden layer, consists of `2 nodes`.\n",
        "\n",
        "* The second (and last) layer is a 10-way \"softmax\" layer, which means it will return an array of 10 probability scores (summing to 1). Each  score will be the probability that the current digit image belongs to one of our 10 digit classes."
      ]
    },
    {
      "cell_type": "code",
      "metadata": {
        "id": "e_HhJIP7cplV",
        "colab_type": "code",
        "colab": {}
      },
      "source": [
        "# Define model\n",
        "model_2 = models.Sequential()\n",
        "model_2.add(layers.Dense(2, activation='relu', input_shape=(28 * 28,)))\n",
        "model_2.add(layers.Dense(10, activation='softmax'))   "
      ],
      "execution_count": 40,
      "outputs": []
    },
    {
      "cell_type": "code",
      "metadata": {
        "id": "n552Zkaicpll",
        "colab_type": "code",
        "colab": {}
      },
      "source": [
        "# Model summary\n",
        "model_2.summary()"
      ],
      "execution_count": null,
      "outputs": []
    },
    {
      "cell_type": "markdown",
      "metadata": {
        "id": "zVwql8Dhcplr",
        "colab_type": "text"
      },
      "source": [
        "## Compile model\n",
        "\n",
        "To make our network ready for training, we need to pick three more things, as part of \"compilation\" step:\n",
        "\n",
        "* A loss function: the is how the network will be able to measure how good a job it is doing on its training data, and thus how it will be able to steer itself in the right direction.\n",
        "* An optimizer: this is the mechanism through which the network will update itself based on the data it sees and its loss function.\n",
        "* Metrics to monitor during training and testing. Here we will only care about accuracy (the fraction of the images that were correctly classified)."
      ]
    },
    {
      "cell_type": "code",
      "metadata": {
        "id": "jvo2NY9scplr",
        "colab_type": "code",
        "colab": {}
      },
      "source": [
        "# Compile the model\n",
        "model_2.compile(loss='sparse_categorical_crossentropy', optimizer='rmsprop', metrics=['accuracy'])"
      ],
      "execution_count": null,
      "outputs": []
    },
    {
      "cell_type": "markdown",
      "metadata": {
        "id": "nsXTY3RQcpl0",
        "colab_type": "text"
      },
      "source": [
        "## Train model\n",
        "\n",
        "We are now ready to train our network, which in Keras is done via a call to the `fit` method of the network: \n",
        "we \"fit\" the model to its training data. We train the model for 30 epochs with batch size 32 (the default)."
      ]
    },
    {
      "cell_type": "code",
      "metadata": {
        "id": "s3J5-gNVcpl1",
        "colab_type": "code",
        "colab": {}
      },
      "source": [
        "# If loading previous model:\n",
        "# model = model_2()\n",
        "# model = load_model_2('results/mnist_model_2.h5')\n",
        "\n",
        "# Train the model\n",
        "start_time = time.time()\n",
        "history = model_2.fit(train_images, train_labels, validation_data=(val_images, val_labels), \n",
        "                      epochs=30)\n",
        "# fit(train_images, train_labels, epochs=30,\n",
        "#                     validation_data=(val_images, val_labels))\n",
        "elapsed_time = time.time() - start_time\n",
        "print('--------------------------')\n",
        "print('Training time in seconds: ', round(elapsed_time,2))\n",
        "print('--------------------------')"
      ],
      "execution_count": null,
      "outputs": []
    },
    {
      "cell_type": "markdown",
      "metadata": {
        "id": "fBsadUr2cpl4",
        "colab_type": "text"
      },
      "source": [
        "## Test model\n",
        "\n",
        "Evaluate the model on the test dataset."
      ]
    },
    {
      "cell_type": "code",
      "metadata": {
        "id": "D-5-XywFcpl6",
        "colab_type": "code",
        "colab": {}
      },
      "source": [
        "test_loss, test_acc = model_2.evaluate(test_images, test_labels)"
      ],
      "execution_count": null,
      "outputs": []
    },
    {
      "cell_type": "code",
      "metadata": {
        "id": "H7GBJZO7cpmb",
        "colab_type": "code",
        "colab": {}
      },
      "source": [
        "print(f'test accuracy: {test_acc}, test loss: {test_loss}')"
      ],
      "execution_count": null,
      "outputs": []
    },
    {
      "cell_type": "markdown",
      "metadata": {
        "id": "tYIpQGbvcpmq",
        "colab_type": "text"
      },
      "source": [
        "## Plot model performance\n",
        "Accuracy and loss"
      ]
    },
    {
      "cell_type": "code",
      "metadata": {
        "id": "xOhSFFoecpms",
        "colab_type": "code",
        "colab": {}
      },
      "source": [
        "history_dict = history.history\n",
        "history_dict.keys()"
      ],
      "execution_count": null,
      "outputs": []
    },
    {
      "cell_type": "markdown",
      "metadata": {
        "id": "9aA16TtLcpm5",
        "colab_type": "text"
      },
      "source": [
        "**Figure 5: Learning curves for Model 2**"
      ]
    },
    {
      "cell_type": "code",
      "metadata": {
        "id": "KW6Xyi0Wcpm6",
        "colab_type": "code",
        "colab": {}
      },
      "source": [
        "# Alternate code for accuracy and loss\n",
        "# Plot learning curves for model\n",
        "pd.DataFrame(history.history).plot(figsize=(8, 5))\n",
        "plt.grid(True)\n",
        "plt.gca().set_ylim(0, 1.5) # set the vertical range to [0-1]\n",
        "plt.show()"
      ],
      "execution_count": null,
      "outputs": []
    },
    {
      "cell_type": "markdown",
      "metadata": {
        "id": "MxLMdx97cpnF",
        "colab_type": "text"
      },
      "source": [
        "## Create confusion matrix with values\n",
        "\n",
        "Confusion matrix is used to assess errors in prediction"
      ]
    },
    {
      "cell_type": "code",
      "metadata": {
        "id": "SCzdS7BJcpnG",
        "colab_type": "code",
        "colab": {}
      },
      "source": [
        "# Assign predicted classes\n",
        "pred_classes = model_2.predict_classes(train_images)"
      ],
      "execution_count": null,
      "outputs": []
    },
    {
      "cell_type": "code",
      "metadata": {
        "id": "8ROjlvAZcpnQ",
        "colab_type": "code",
        "colab": {}
      },
      "source": [
        "# Create confusion matrix with values\n",
        "conf_mx = confusion_matrix(train_labels,pred_classes)\n",
        "conf_mx"
      ],
      "execution_count": null,
      "outputs": []
    },
    {
      "cell_type": "markdown",
      "metadata": {
        "id": "Cn3QoGslcppN",
        "colab_type": "text"
      },
      "source": [
        "**Figure 6: Confusion matrix for Model 2**"
      ]
    },
    {
      "cell_type": "code",
      "metadata": {
        "id": "JsSdGWurcppQ",
        "colab_type": "code",
        "colab": {}
      },
      "source": [
        "# Plot with values transposed to show actual versus predicted values\n",
        "# m1_cm = confusion_matrix(train_labels, pred_classes)\n",
        "m2_cm_plt=sns.heatmap(conf_mx, square=False, annot=True, fmt='d', cbar=False, cmap=\"Blues\")\n",
        "plt.xlabel('Predicted label')\n",
        "plt.ylabel('Actual label')\n",
        "plt.title(\"Test Confusion Matrix - Model 2\")\n",
        "plt.show();"
      ],
      "execution_count": null,
      "outputs": []
    },
    {
      "cell_type": "code",
      "metadata": {
        "id": "aEA1b2AMcppW",
        "colab_type": "code",
        "colab": {}
      },
      "source": [
        "# Plot normalized confusion matrix\n",
        "row_sums = conf_mx.sum(axis=1, keepdims=True)\n",
        "norm_conf_mx = conf_mx / row_sums"
      ],
      "execution_count": null,
      "outputs": []
    },
    {
      "cell_type": "markdown",
      "metadata": {
        "id": "INrAPnLwcppe",
        "colab_type": "text"
      },
      "source": [
        "**Figure 7: Normalized confusion matrix for Model 2**"
      ]
    },
    {
      "cell_type": "code",
      "metadata": {
        "id": "IfiVyQ5dcppe",
        "colab_type": "code",
        "colab": {}
      },
      "source": [
        "np.fill_diagonal(norm_conf_mx, 0)\n",
        "plt.matshow(norm_conf_mx, cmap=\"Blues\")\n",
        "plt.show()"
      ],
      "execution_count": null,
      "outputs": []
    },
    {
      "cell_type": "markdown",
      "metadata": {
        "id": "BdgeCW9qcppv",
        "colab_type": "text"
      },
      "source": [
        "## Error analysis"
      ]
    },
    {
      "cell_type": "code",
      "metadata": {
        "id": "XpXK62Kccppw",
        "colab_type": "code",
        "colab": {}
      },
      "source": [
        "# Define function for plotting example digits\n",
        "def plot_digits(instances, images_per_row=10, **options):\n",
        "    size = 28\n",
        "    images_per_row = min(len(instances), images_per_row)\n",
        "    images = [instance.reshape(size,size) for instance in instances]\n",
        "    n_rows = (len(instances) - 1) // images_per_row + 1\n",
        "    row_images = []\n",
        "    n_empty = n_rows * images_per_row - len(instances)\n",
        "    images.append(np.zeros((size, size * n_empty)))\n",
        "    for row in range(n_rows):\n",
        "        rimages = images[row * images_per_row : (row + 1) * images_per_row]\n",
        "        row_images.append(np.concatenate(rimages, axis=1))\n",
        "    image = np.concatenate(row_images, axis=0)\n",
        "    plt.imshow(image, cmap = 'binary', **options)\n",
        "    plt.axis(\"off\")"
      ],
      "execution_count": null,
      "outputs": []
    },
    {
      "cell_type": "code",
      "metadata": {
        "id": "cjfMrhFucpp5",
        "colab_type": "code",
        "colab": {}
      },
      "source": [
        "# Try some examples of mis-classes digits\n",
        "# Upper left: 5s classified correctly as 5s\n",
        "# Upper right: 5s classified as 8s\n",
        "# Lower left: 8s classified as 5s\n",
        "# Lower right: 8s classified correctly as 8s\n",
        "\n",
        "cl_a, cl_b = 5, 8\n",
        "X_aa = train_images[(train_labels == cl_a) & (pred_classes == cl_a)]\n",
        "X_ab = train_images[(train_labels == cl_a) & (pred_classes == cl_b)]\n",
        "X_ba = train_images[(train_labels == cl_b) & (pred_classes == cl_a)]\n",
        "X_bb = train_images[(train_labels == cl_b) & (pred_classes == cl_b)]\n",
        "\n",
        "plt.figure(figsize=(8,8))\n",
        "plt.subplot(221); plot_digits(X_aa[:25], images_per_row=5)\n",
        "plt.subplot(222); plot_digits(X_ab[:25], images_per_row=5)\n",
        "plt.subplot(223); plot_digits(X_ba[:25], images_per_row=5)\n",
        "plt.subplot(224); plot_digits(X_bb[:25], images_per_row=5)\n",
        "plt.show()"
      ],
      "execution_count": null,
      "outputs": []
    },
    {
      "cell_type": "markdown",
      "metadata": {
        "id": "f5M5yQqlcpqD",
        "colab_type": "text"
      },
      "source": [
        " # Get the activation values of the hidden nodes\n",
        " \n",
        " To get the activation values of the hidden nodes, we need to create a new model, `activation_model`, that takes the same input as our current model but outputs the activation value of the hidden layer, i.e. of the hidden node. Then use the `predict` function to get the activation values."
      ]
    },
    {
      "cell_type": "code",
      "metadata": {
        "id": "yB41j02scpqD",
        "colab_type": "code",
        "colab": {}
      },
      "source": [
        "# Extract the outputs of the 2 layers\n",
        "layer_outputs = [layer.output for layer in model_2.layers]\n",
        "\n",
        "# Create a model that will return these outputs, given the model input\n",
        "activation_model_2 = models.Model(inputs=model_2.input, outputs=layer_outputs)\n",
        "\n",
        "print(f\"There are {len(layer_outputs)} layers\")\n",
        "layer_outputs # description of the layers"
      ],
      "execution_count": null,
      "outputs": []
    },
    {
      "cell_type": "code",
      "metadata": {
        "id": "iL9oXfh2cpqH",
        "colab_type": "code",
        "colab": {}
      },
      "source": [
        "# Get the output of the hidden node for each of the 55000 training images\n",
        "activations = activation_model_2.predict(train_images)\n",
        "hidden_layer_activation = activations[0]\n",
        "hidden_layer_activation.shape   #  2 hidden node each has one activation value per training image"
      ],
      "execution_count": null,
      "outputs": []
    },
    {
      "cell_type": "code",
      "metadata": {
        "id": "DPkSTqGncpqS",
        "colab_type": "code",
        "colab": {}
      },
      "source": [
        "hidden_node1_activation = hidden_layer_activation[:,0] # get activation values of the first hidden node\n",
        "hidden_node2_activation = hidden_layer_activation[:,1] # get activation values of the second hidden node\n",
        "\n",
        "print(f\"The maximum activation value of the first hidden node is {hidden_node1_activation.max()}\")\n",
        "print(f\"The maximum activation value of the second hidden node is {hidden_node2_activation.max()}\")"
      ],
      "execution_count": null,
      "outputs": []
    },
    {
      "cell_type": "code",
      "metadata": {
        "id": "ekPLu45Xcpqq",
        "colab_type": "code",
        "colab": {}
      },
      "source": [
        "# Output layer stats\n",
        "np.set_printoptions(suppress = True)  # display probabilities as decimals and NOT in scientific notation\n",
        "ouput_layer_activation = activations[1]\n",
        "print(f\"The output node has shape {ouput_layer_activation.shape}\")\n",
        "print(f\"The output for the first image are {ouput_layer_activation[0].round(4)}\")\n",
        "print(f\"The sum of the probabilities is (approximately) {ouput_layer_activation[0].sum()}\")"
      ],
      "execution_count": null,
      "outputs": []
    },
    {
      "cell_type": "markdown",
      "metadata": {
        "id": "gMTp4fc_cpqw",
        "colab_type": "text"
      },
      "source": [
        "# Activation values scatterplots\n",
        " \n",
        " We combine the activation values of the two hidden nodes together with the corresponding predicted classes into a DataFrame. We use both `matplotlib` and `seaborn` to create boxplots from the DataFrame."
      ]
    },
    {
      "cell_type": "code",
      "metadata": {
        "id": "m1Xh0zH8cpqw",
        "colab_type": "code",
        "colab": {}
      },
      "source": [
        "scatterPlot_df =  pd.DataFrame({'act_value_h1':hidden_node1_activation,\n",
        "                                'act_value_h2':hidden_node2_activation,\n",
        "                                'pred_class':pred_classes})\n",
        "scatterPlot_df.head()"
      ],
      "execution_count": null,
      "outputs": []
    },
    {
      "cell_type": "markdown",
      "metadata": {
        "id": "10pVSPdJcpqy",
        "colab_type": "text"
      },
      "source": [
        "**Figure 8: Activation values scatterplot for Model 2**"
      ]
    },
    {
      "cell_type": "code",
      "metadata": {
        "id": "4ug1MyEScpqz",
        "colab_type": "code",
        "colab": {}
      },
      "source": [
        "# plt.legend(loc='upper left', prop={'size':6}, bbox_to_anchor=(1,1),ncol=1)\n",
        "plt.scatter(scatterPlot_df.act_value_h1, \n",
        "            scatterPlot_df.act_value_h2, \n",
        "            c=scatterPlot_df.pred_class,\n",
        "            label=scatterPlot_df.pred_class)\n",
        "\n",
        "plt.show()"
      ],
      "execution_count": null,
      "outputs": []
    },
    {
      "cell_type": "markdown",
      "metadata": {
        "id": "RvSIRj0pcpq3",
        "colab_type": "text"
      },
      "source": [
        "**Figure 9: Grouped activation values for Model 2**"
      ]
    },
    {
      "cell_type": "code",
      "metadata": {
        "id": "JRczmDDFcpq3",
        "colab_type": "code",
        "colab": {}
      },
      "source": [
        "# Scatterplot grouped by predicted class\n",
        "groups = scatterPlot_df.groupby('pred_class')\n",
        "\n",
        "# Plot\n",
        "fig, ax = plt.subplots()\n",
        "ax.margins(0.05) # Optional, just adds 5% padding to the autoscaling\n",
        "for name, group in groups:\n",
        "    ax.plot(group.act_value_h1, group.act_value_h2, marker='o', linestyle='', ms=12, label=name)\n",
        "ax.legend()\n",
        "\n",
        "plt.show()"
      ],
      "execution_count": null,
      "outputs": []
    },
    {
      "cell_type": "markdown",
      "metadata": {
        "id": "SXhau-b7cpq7",
        "colab_type": "text"
      },
      "source": [
        "# EXPERIMENT  3:\n",
        "\n",
        "We want to select the *best* `DNN` model subject to certain restrictions on `hyperparameters`:\n",
        "* The number of hidden layers will be one (network depth). \n",
        "* The number of nodes will be XXX (network width).\n",
        "\n",
        "We will use `sklearn.grid_search.GridSearchCV` to find the `best` number of neurons for the hidden layer.\n",
        "\n",
        "As before we will need 784 input nodes and 10 output nodes (corresponding to the 10 digits). We use `mnist.load_data()` to get the 70,000 images divided into a set of 60,000 training images and 10,000 test images. We hold back 5,000 of the 60,000 training images for validation. "
      ]
    },
    {
      "cell_type": "code",
      "metadata": {
        "id": "6yGrpfBlcpq7",
        "colab_type": "code",
        "colab": {}
      },
      "source": [
        "# Define a function to create a DNN with a given number of hidden layers and a fixed given number \n",
        "# of nodes per hidden layer\n",
        "def build_model(n_hidden=1, n_neurons=2, learning_rate=0.001, input_shape=(28 * 28,)):\n",
        "    model = models.Sequential()\n",
        "    model.add(layers.InputLayer(input_shape=input_shape))\n",
        "    for layer in range(n_hidden):\n",
        "        model.add(keras.layers.Dense(n_neurons, activation=\"relu\"))\n",
        "    model.add(layers.Dense(10, activation='softmax'))\n",
        "    optimizer = keras.optimizers.RMSprop(lr=learning_rate)\n",
        "    model.compile(loss='sparse_categorical_crossentropy', optimizer=optimizer,  metrics=['accuracy'])\n",
        "    return model"
      ],
      "execution_count": null,
      "outputs": []
    },
    {
      "cell_type": "code",
      "metadata": {
        "id": "setjPSbUcprC",
        "colab_type": "code",
        "colab": {}
      },
      "source": [
        "# Define a second model that takes a tuple `(n1,n2...)`, where the number of coordinates is the \n",
        "# number of `hidden layers` with `n1` nodes in the first hidden layer, `n2` nodes in the second, etc.\n",
        "def build_model2(n_neurons=(2,3), learning_rate=0.001, input_shape=(28 * 28,)):\n",
        "    model = models.Sequential()\n",
        "    model.add(layers.InputLayer(input_shape=input_shape))\n",
        "    for layer in range(len(n_neurons)):\n",
        "        model.add(keras.layers.Dense(n_neurons[layer], activation=\"relu\"))\n",
        "    model.add(layers.Dense(10, activation='softmax'))\n",
        "    optimizer = keras.optimizers.RMSprop(lr=learning_rate)\n",
        "    model.compile(loss='sparse_categorical_crossentropy', optimizer=optimizer,  metrics=['accuracy'])\n",
        "    return model"
      ],
      "execution_count": null,
      "outputs": []
    },
    {
      "cell_type": "code",
      "metadata": {
        "id": "K_NBBIrScprK",
        "colab_type": "code",
        "colab": {}
      },
      "source": [
        "# Create a `KerasClassifier` object, the class is an implementation of the scikit-learn classifier API for Keras. \n",
        "# It is actually a thin wrapper around the model that is built using our `build_model` function.\n",
        "keras_clf = KerasClassifier(build_model)"
      ],
      "execution_count": null,
      "outputs": []
    },
    {
      "cell_type": "markdown",
      "metadata": {
        "id": "DZlyLwG9cprU",
        "colab_type": "text"
      },
      "source": [
        "## Hyperparameter tuning with grid search: range of neurons\n",
        "Testing a range of neurons: 100, 900, 50 (100 to 900 in increments of 50)\n",
        "\n",
        "```python\n",
        "param_grid = {'n_neurons': range(100,900,50)}\n",
        "param_grid\n",
        "```"
      ]
    },
    {
      "cell_type": "code",
      "metadata": {
        "id": "Zhpg03zXcprV",
        "colab_type": "code",
        "colab": {}
      },
      "source": [
        "param_grid = {'n_neurons': range(100,900,50)}\n",
        "param_grid"
      ],
      "execution_count": null,
      "outputs": []
    },
    {
      "cell_type": "code",
      "metadata": {
        "id": "WkvBxcF0cprv",
        "colab_type": "code",
        "colab": {}
      },
      "source": [
        "# Run grid search\n",
        "grid_cv = GridSearchCV(estimator=keras_clf, param_grid=param_grid,cv=3,verbose = 2)\n",
        "grid_cv.fit(train_images, train_labels, epochs=30,\n",
        "                  validation_data=(val_images, val_labels),\n",
        "                  callbacks=[keras.callbacks.EarlyStopping(patience=2)])"
      ],
      "execution_count": null,
      "outputs": []
    },
    {
      "cell_type": "code",
      "metadata": {
        "id": "n2AremQEcprz",
        "colab_type": "code",
        "colab": {}
      },
      "source": [
        "# Evaluate the number of neurons that produced the best estimator\n",
        "grid_cv.best_params_"
      ],
      "execution_count": null,
      "outputs": []
    },
    {
      "cell_type": "code",
      "metadata": {
        "id": "KeWQcuqPcpr2",
        "colab_type": "code",
        "colab": {}
      },
      "source": [
        "# Results to compare the performance of the models\n",
        "results = grid_cv.cv_results_\n",
        "results"
      ],
      "execution_count": null,
      "outputs": []
    },
    {
      "cell_type": "code",
      "metadata": {
        "id": "KP5ZisdScpr-",
        "colab_type": "code",
        "colab": {}
      },
      "source": [
        "results['params'], results['rank_test_score']"
      ],
      "execution_count": null,
      "outputs": []
    },
    {
      "cell_type": "code",
      "metadata": {
        "id": "JSeuUOKzcpsE",
        "colab_type": "code",
        "colab": {}
      },
      "source": [
        "# Assign the best model and plot\n",
        "best_model = grid_cv.best_estimator_.model"
      ],
      "execution_count": null,
      "outputs": []
    },
    {
      "cell_type": "code",
      "metadata": {
        "id": "vzZaVv7TcpsL",
        "colab_type": "code",
        "colab": {}
      },
      "source": [
        "# Evaluate best model with test data\n",
        "best_model.evaluate(test_images, test_labels)"
      ],
      "execution_count": null,
      "outputs": []
    },
    {
      "cell_type": "code",
      "metadata": {
        "id": "oOdGyLG6cpsP",
        "colab_type": "code",
        "colab": {}
      },
      "source": [
        "# Save model for re-use\n",
        "# save_dir = \"results/\"\n",
        "# model_name = 'exp_3_best_model.h5'\n",
        "# model_path = os.path.join(save_dir, model_name)\n",
        "# best_model.save(model_path)\n",
        "# print('Saved trained model at %s ' % model_path)\n",
        "# print('--------------------------')\n",
        "# best_model.save(\"mnist_model_best.h5\")"
      ],
      "execution_count": null,
      "outputs": []
    },
    {
      "cell_type": "markdown",
      "metadata": {
        "id": "KJhVbkqqcpsd",
        "colab_type": "text"
      },
      "source": [
        "## Build the network\n",
        "\n",
        "* Sequence of two `Dense` layers, which are densely-connected (also called \"fully-connected\") neural layers. \n",
        "\n",
        "* The first `Dense` layer, the hidden layer, consists of `700 nodes` with reLu activation, identified via grid search.\n",
        "\n",
        "* The second (and last) layer is a 10-way \"softmax\" layer, which means it will return an array of 10 probability scores (summing to 1). Each  score will be the probability that the current digit image belongs to one of our 10 digit classes."
      ]
    },
    {
      "cell_type": "code",
      "metadata": {
        "id": "rw2WTp_Rcpsf",
        "colab_type": "code",
        "colab": {}
      },
      "source": [
        "model_3 = models.Sequential()\n",
        "model_3.add(layers.Dense(700, activation='relu', input_shape=(28 * 28,)))\n",
        "model_3.add(layers.Dense(10, activation='softmax'))   "
      ],
      "execution_count": null,
      "outputs": []
    },
    {
      "cell_type": "markdown",
      "metadata": {
        "id": "bx42pBCEcpss",
        "colab_type": "text"
      },
      "source": [
        "## Compile model\n",
        "\n",
        "To make our network ready for training, we need to pick three more things, as part of \"compilation\" step:\n",
        "\n",
        "* A loss function: the is how the network will be able to measure how good a job it is doing on its training data, and thus how it will be able to steer itself in the right direction.\n",
        "* An optimizer: this is the mechanism through which the network will update itself based on the data it sees and its loss function.\n",
        "* Metrics to monitor during training and testing. Here we will only care about accuracy (the fraction of the images that were correctly classified)."
      ]
    },
    {
      "cell_type": "code",
      "metadata": {
        "id": "dnB190CRcpss",
        "colab_type": "code",
        "colab": {}
      },
      "source": [
        "# Compile the model\n",
        "model_3.compile(loss='sparse_categorical_crossentropy', optimizer='rmsprop', metrics=['accuracy'])"
      ],
      "execution_count": null,
      "outputs": []
    },
    {
      "cell_type": "markdown",
      "metadata": {
        "id": "cfcsPlJqcpsx",
        "colab_type": "text"
      },
      "source": [
        "## Train model\n",
        "\n",
        "We are now ready to train our network, which in Keras is done via a call to the `fit` method of the network: \n",
        "we \"fit\" the model to its training data. We train the model for 30 epochs with batch size 32 (the default)."
      ]
    },
    {
      "cell_type": "code",
      "metadata": {
        "id": "1ZB-fpUYcpsx",
        "colab_type": "code",
        "colab": {}
      },
      "source": [
        "# If loading previous model:\n",
        "# # model = model_2()\n",
        "# model_3 = load_model_3('results/exp_3_best_model.h5')\n",
        "\n",
        "# Train the model\n",
        "start_time = time.time()\n",
        "history = model_3.fit(train_images, train_labels, epochs=30,\n",
        "                    validation_data=(val_images, val_labels),\n",
        "                    callbacks=[keras.callbacks.EarlyStopping(patience=10)])\n",
        "elapsed_time = time.time() - start_time\n",
        "print('--------------------------')\n",
        "print('Training time in seconds: ', round(elapsed_time,2))\n",
        "print('--------------------------')\n",
        "\n",
        "# Saving models locally after fitting\n",
        "# save_dir = \"results/\"\n",
        "# model_name = 'mnist_model_3.h5'\n",
        "# model_path = os.path.join(save_dir, model_name)\n",
        "# model_3.save(model_path)\n",
        "# print('Saved trained model at %s ' % model_path)\n",
        "# print('--------------------------')"
      ],
      "execution_count": null,
      "outputs": []
    },
    {
      "cell_type": "markdown",
      "metadata": {
        "id": "FcYVHPuacps1",
        "colab_type": "text"
      },
      "source": [
        "## Test model\n",
        "\n",
        "Evaluate the model on the test dataset."
      ]
    },
    {
      "cell_type": "code",
      "metadata": {
        "id": "S04kiTogcps2",
        "colab_type": "code",
        "colab": {}
      },
      "source": [
        "test_loss, test_acc = model_3.evaluate(test_images, test_labels)"
      ],
      "execution_count": null,
      "outputs": []
    },
    {
      "cell_type": "code",
      "metadata": {
        "id": "xxI7Q8Pgcps8",
        "colab_type": "code",
        "colab": {}
      },
      "source": [
        "print(f'test accuracy: {test_acc}, test loss: {test_loss}')"
      ],
      "execution_count": null,
      "outputs": []
    },
    {
      "cell_type": "markdown",
      "metadata": {
        "id": "eVeMJDiucps_",
        "colab_type": "text"
      },
      "source": [
        "## Plot model performance\n",
        "Accuracy and loss"
      ]
    },
    {
      "cell_type": "code",
      "metadata": {
        "id": "gSNaPDuYcps_",
        "colab_type": "code",
        "colab": {}
      },
      "source": [
        "history_dict = history.history\n",
        "history_dict.keys()"
      ],
      "execution_count": null,
      "outputs": []
    },
    {
      "cell_type": "markdown",
      "metadata": {
        "id": "MWhBs0WOcptD",
        "colab_type": "text"
      },
      "source": [
        "**Figure 10: Learning curves for Model 3**"
      ]
    },
    {
      "cell_type": "code",
      "metadata": {
        "id": "G-jCzZ3jcptD",
        "colab_type": "code",
        "colab": {}
      },
      "source": [
        "# Alternate code for accuracy and loss\n",
        "# Plot learning curves for model\n",
        "pd.DataFrame(history.history).plot(figsize=(8, 5))\n",
        "plt.grid(True)\n",
        "plt.gca().set_ylim(0, 1) # set the vertical range to [0-1]\n",
        "plt.show()"
      ],
      "execution_count": null,
      "outputs": []
    },
    {
      "cell_type": "markdown",
      "metadata": {
        "id": "2j8hA7IPcptP",
        "colab_type": "text"
      },
      "source": [
        "## Hyperparameter tuning and comparison\n",
        "\n",
        "* Sequence of two `Dense` layers, which are densely-connected (also called \"fully-connected\") neural layers. \n",
        "\n",
        "* The first `Dense` layer, the hidden layer, consists of `700 nodes` (identified via grid search) with sigmoid activation.\n",
        "\n",
        "* The second (and last) layer is a 10-way \"softmax\" layer, which means it will return an array of 10 probability scores (summing to 1). Each  score will be the probability that the current digit image belongs to one of our 10 digit classes."
      ]
    },
    {
      "cell_type": "code",
      "metadata": {
        "id": "qHlF_DPycptP",
        "colab_type": "code",
        "colab": {}
      },
      "source": [
        "model_3_a = models.Sequential()\n",
        "model_3_a.add(layers.Dense(700, activation='sigmoid', input_shape=(28 * 28,)))\n",
        "model_3_a.add(layers.Dense(10, activation='softmax'))   "
      ],
      "execution_count": null,
      "outputs": []
    },
    {
      "cell_type": "markdown",
      "metadata": {
        "id": "4pPuL4Hkcpta",
        "colab_type": "text"
      },
      "source": [
        "## Compile model\n",
        "\n",
        "To make our network ready for training, we need to pick three more things, as part of \"compilation\" step:\n",
        "\n",
        "* A loss function: the is how the network will be able to measure how good a job it is doing on its training data, and thus how it will be able to steer itself in the right direction.\n",
        "* An optimizer: this is the mechanism through which the network will update itself based on the data it sees and its loss function. In this case, Adam is used as a comparison to rmsprop in the previous model, to see if adding momentum leads to performance improvement.\n",
        "* Metrics to monitor during training and testing. Here we will only care about accuracy (the fraction of the images that were correctly classified)."
      ]
    },
    {
      "cell_type": "code",
      "metadata": {
        "id": "X7DQcXtOcpta",
        "colab_type": "code",
        "colab": {}
      },
      "source": [
        "# Compile the model\n",
        "model_3_a.compile(loss='sparse_categorical_crossentropy', optimizer='Adam', metrics=['accuracy'])"
      ],
      "execution_count": null,
      "outputs": []
    },
    {
      "cell_type": "markdown",
      "metadata": {
        "id": "93fI8AK1cptc",
        "colab_type": "text"
      },
      "source": [
        "## Train model\n",
        "\n",
        "We are now ready to train our network, which in Keras is done via a call to the `fit` method of the network: \n",
        "we \"fit\" the model to its training data. We train the model for 30 epochs with batch size 32 (the default)."
      ]
    },
    {
      "cell_type": "code",
      "metadata": {
        "id": "_kWlnPlScptd",
        "colab_type": "code",
        "colab": {}
      },
      "source": [
        "# If loading previous model:\n",
        "# model = model_2()\n",
        "# model = load_model_3('results/keras_mnist_model_3.h5')\n",
        "\n",
        "# Train the model\n",
        "start_time = time.time()\n",
        "history = model_3_a.fit(train_images, train_labels, epochs=30,\n",
        "                    validation_data=(val_images, val_labels),\n",
        "                    callbacks=[keras.callbacks.EarlyStopping(patience=10)])\n",
        "elapsed_time = time.time() - start_time\n",
        "print('--------------------------')\n",
        "print('Training time in seconds: ', round(elapsed_time,2))\n",
        "print('--------------------------')\n",
        "\n",
        "# Saving models locally after fitting\n",
        "save_dir = \"results/\"\n",
        "model_name = 'mnist_model_3_a.h5'\n",
        "model_path = os.path.join(save_dir, model_name)\n",
        "model_3_a.save(model_path)\n",
        "print('Saved trained model at %s ' % model_path)\n",
        "print('--------------------------')"
      ],
      "execution_count": null,
      "outputs": []
    },
    {
      "cell_type": "markdown",
      "metadata": {
        "id": "u_x-VBBbcptl",
        "colab_type": "text"
      },
      "source": [
        "## Test model\n",
        "\n",
        "Evaluate the model on the test dataset."
      ]
    },
    {
      "cell_type": "code",
      "metadata": {
        "id": "ji1S_H_jcptm",
        "colab_type": "code",
        "colab": {}
      },
      "source": [
        "test_loss, test_acc = model_3_a.evaluate(test_images, test_labels)"
      ],
      "execution_count": null,
      "outputs": []
    },
    {
      "cell_type": "code",
      "metadata": {
        "id": "xTYYcRUMcptq",
        "colab_type": "code",
        "colab": {}
      },
      "source": [
        "print(f'test accuracy: {test_acc}, test loss: {test_loss}')"
      ],
      "execution_count": null,
      "outputs": []
    },
    {
      "cell_type": "markdown",
      "metadata": {
        "id": "M_RHBBRBcptv",
        "colab_type": "text"
      },
      "source": [
        "## Plot model performance\n",
        "Accuracy and loss"
      ]
    },
    {
      "cell_type": "code",
      "metadata": {
        "id": "isebU7ixcptw",
        "colab_type": "code",
        "colab": {}
      },
      "source": [
        "history_dict = history.history\n",
        "history_dict.keys()"
      ],
      "execution_count": null,
      "outputs": []
    },
    {
      "cell_type": "markdown",
      "metadata": {
        "id": "ApCeXWoBcpt1",
        "colab_type": "text"
      },
      "source": [
        "**Figure 11: Learning curves for Model 3a**"
      ]
    },
    {
      "cell_type": "code",
      "metadata": {
        "id": "f5F8CtXAcpt1",
        "colab_type": "code",
        "colab": {}
      },
      "source": [
        "# Alternate code for accuracy and loss\n",
        "# Plot learning curves for model\n",
        "pd.DataFrame(history.history).plot(figsize=(8, 5))\n",
        "plt.grid(True)\n",
        "plt.gca().set_ylim(0, 1) # set the vertical range to [0-1]\n",
        "plt.show()"
      ],
      "execution_count": null,
      "outputs": []
    },
    {
      "cell_type": "markdown",
      "metadata": {
        "id": "6u5vpQIKcpt4",
        "colab_type": "text"
      },
      "source": [
        "## Confusion matrix\n",
        "Create a confusion matrix to assess prediction errors. Compare Model 3 (reLu activation and rmsprop optimizer) with Model 3a (sigmoid activation and Adam optimizer).\n"
      ]
    },
    {
      "cell_type": "code",
      "metadata": {
        "id": "on2_SYcjcpt5",
        "colab_type": "code",
        "colab": {}
      },
      "source": [
        "# Assign predicted classes\n",
        "pred_classes = model_3.predict_classes(train_images)"
      ],
      "execution_count": null,
      "outputs": []
    },
    {
      "cell_type": "code",
      "metadata": {
        "id": "9bfYyUH6cpt7",
        "colab_type": "code",
        "colab": {}
      },
      "source": [
        "# Create confusion matrix with values\n",
        "conf_mx = confusion_matrix(train_labels,pred_classes)\n",
        "conf_mx"
      ],
      "execution_count": null,
      "outputs": []
    },
    {
      "cell_type": "markdown",
      "metadata": {
        "id": "maPlEVSwcpuA",
        "colab_type": "text"
      },
      "source": [
        "**Figure 11: Confusion matrix for Model 3**"
      ]
    },
    {
      "cell_type": "code",
      "metadata": {
        "id": "62z_iyizcpuA",
        "colab_type": "code",
        "colab": {}
      },
      "source": [
        "# Plot with values transposed to show actual versus predicted values\n",
        "# m1_cm = confusion_matrix(train_labels, pred_classes)\n",
        "m3_cm_plt=sns.heatmap(conf_mx, square=False, annot=True, fmt='d', cbar=False, cmap=\"Blues\")\n",
        "plt.xlabel('Predicted label')\n",
        "plt.ylabel('Actual label')\n",
        "plt.title(\"Test Confusion Matrix - Model 3\")\n",
        "plt.show();"
      ],
      "execution_count": null,
      "outputs": []
    },
    {
      "cell_type": "code",
      "metadata": {
        "id": "64WwLESYcpuE",
        "colab_type": "code",
        "colab": {}
      },
      "source": [
        "# Plot normalized confusion matrix\n",
        "row_sums = conf_mx.sum(axis=1, keepdims=True)\n",
        "norm_conf_mx = conf_mx / row_sums"
      ],
      "execution_count": null,
      "outputs": []
    },
    {
      "cell_type": "markdown",
      "metadata": {
        "id": "M2NnJkc7cpuK",
        "colab_type": "text"
      },
      "source": [
        "**Figure 12: Normalized confusion matrix for Model 3**"
      ]
    },
    {
      "cell_type": "code",
      "metadata": {
        "id": "C86hrwfOcpuK",
        "colab_type": "code",
        "colab": {}
      },
      "source": [
        "np.fill_diagonal(norm_conf_mx, 0)\n",
        "plt.matshow(norm_conf_mx, cmap=\"Blues\")\n",
        "plt.show()"
      ],
      "execution_count": null,
      "outputs": []
    },
    {
      "cell_type": "code",
      "metadata": {
        "id": "2uTsCnGdcpuM",
        "colab_type": "code",
        "colab": {}
      },
      "source": [
        "# Assign predicted classes\n",
        "pred_classes = model_3_a.predict_classes(train_images)"
      ],
      "execution_count": null,
      "outputs": []
    },
    {
      "cell_type": "code",
      "metadata": {
        "id": "unIldpsDcpuR",
        "colab_type": "code",
        "colab": {}
      },
      "source": [
        "# Create confusion matrix with values\n",
        "conf_mx = confusion_matrix(train_labels,pred_classes)\n",
        "conf_mx"
      ],
      "execution_count": null,
      "outputs": []
    },
    {
      "cell_type": "markdown",
      "metadata": {
        "id": "2KhDA_IJcpuX",
        "colab_type": "text"
      },
      "source": [
        "**Figure 13: Confusion matrix for Model 3a**"
      ]
    },
    {
      "cell_type": "code",
      "metadata": {
        "id": "VDWDS-HXcpuY",
        "colab_type": "code",
        "colab": {}
      },
      "source": [
        "# Plot with values transposed to show actual versus predicted values\n",
        "# m1_cm = confusion_matrix(train_labels, pred_classes)\n",
        "m3_cm_plt=sns.heatmap(conf_mx, square=False, annot=True, fmt='d', cbar=False, cmap=\"Blues\")\n",
        "plt.xlabel('Predicted label')\n",
        "plt.ylabel('Actual label')\n",
        "plt.title(\"Test Confusion Matrix - Model 3a\")\n",
        "plt.show();"
      ],
      "execution_count": null,
      "outputs": []
    },
    {
      "cell_type": "code",
      "metadata": {
        "id": "2Ggy9ktxcpua",
        "colab_type": "code",
        "colab": {}
      },
      "source": [
        "# Plot normalized confusion matrix\n",
        "row_sums = conf_mx.sum(axis=1, keepdims=True)\n",
        "norm_conf_mx = conf_mx / row_sums"
      ],
      "execution_count": null,
      "outputs": []
    },
    {
      "cell_type": "markdown",
      "metadata": {
        "id": "hdC1ePkGcpuc",
        "colab_type": "text"
      },
      "source": [
        "**Figure 14: Normalized confusion matrix for Model 3a**"
      ]
    },
    {
      "cell_type": "code",
      "metadata": {
        "id": "7ow6JoUVcpud",
        "colab_type": "code",
        "colab": {}
      },
      "source": [
        "np.fill_diagonal(norm_conf_mx, 0)\n",
        "plt.matshow(norm_conf_mx, cmap=\"Blues\")\n",
        "plt.show()"
      ],
      "execution_count": null,
      "outputs": []
    },
    {
      "cell_type": "markdown",
      "metadata": {
        "id": "aLtZKTr1cpuf",
        "colab_type": "text"
      },
      "source": [
        "## Error analysis"
      ]
    },
    {
      "cell_type": "code",
      "metadata": {
        "id": "Gb-Op7eUcpuf",
        "colab_type": "code",
        "colab": {}
      },
      "source": [
        "# Define function for plotting example digits\n",
        "def plot_digits(instances, images_per_row=10, **options):\n",
        "    size = 28\n",
        "    images_per_row = min(len(instances), images_per_row)\n",
        "    images = [instance.reshape(size,size) for instance in instances]\n",
        "    n_rows = (len(instances) - 1) // images_per_row + 1\n",
        "    row_images = []\n",
        "    n_empty = n_rows * images_per_row - len(instances)\n",
        "    images.append(np.zeros((size, size * n_empty)))\n",
        "    for row in range(n_rows):\n",
        "        rimages = images[row * images_per_row : (row + 1) * images_per_row]\n",
        "        row_images.append(np.concatenate(rimages, axis=1))\n",
        "    image = np.concatenate(row_images, axis=0)\n",
        "    plt.imshow(image, cmap = 'binary', **options)\n",
        "    plt.axis(\"off\")"
      ],
      "execution_count": null,
      "outputs": []
    },
    {
      "cell_type": "code",
      "metadata": {
        "id": "PeGh227dcpul",
        "colab_type": "code",
        "colab": {}
      },
      "source": [
        "# Try some examples of mis-classes digits\n",
        "# Upper left: 5s classified correctly as 5s\n",
        "# Upper right: 5s classified as 8s\n",
        "# Lower left: 8s classified as 5s\n",
        "# Lower right: 8s classified correctly as 8s\n",
        "\n",
        "cl_a, cl_b = 5, 8\n",
        "X_aa = train_images[(train_labels == cl_a) & (pred_classes == cl_a)]\n",
        "X_ab = train_images[(train_labels == cl_a) & (pred_classes == cl_b)]\n",
        "X_ba = train_images[(train_labels == cl_b) & (pred_classes == cl_a)]\n",
        "X_bb = train_images[(train_labels == cl_b) & (pred_classes == cl_b)]\n",
        "\n",
        "plt.figure(figsize=(8,8))\n",
        "plt.subplot(221); plot_digits(X_aa[:25], images_per_row=5)\n",
        "plt.subplot(222); plot_digits(X_ab[:25], images_per_row=5)\n",
        "plt.subplot(223); plot_digits(X_ba[:25], images_per_row=5)\n",
        "plt.subplot(224); plot_digits(X_bb[:25], images_per_row=5)\n",
        "plt.show()"
      ],
      "execution_count": null,
      "outputs": []
    },
    {
      "cell_type": "markdown",
      "metadata": {
        "id": "9-Zy_WMScpun",
        "colab_type": "text"
      },
      "source": [
        "# Experiment 4\n",
        "\n",
        "We use PCA decomposition to reduce the number of dimensions of our training set of 28x28 dimensional MNIST images. By setting `n_components=0.95` we get the 154 principal components that contain 95% of the variance (information) in the training images. We transform the training images to reduce its dimensionality from 784 to 154. We also reduce the number of dimensions of 'best' model from Experiment 3 to 154 inputs nodes and train it on the new lower dimensional data. "
      ]
    },
    {
      "cell_type": "code",
      "metadata": {
        "id": "EKDzkYcJcpuo",
        "colab_type": "code",
        "colab": {}
      },
      "source": [
        "# Reduce dimensions to those containing 95% of the variance in the training images\n",
        "pca = PCA(n_components=0.95)\n",
        "train_images_red = pca.fit_transform(train_images)\n",
        "val_images_red = pca.transform(val_images)\n",
        "test_images_red = pca.transform(test_images)"
      ],
      "execution_count": null,
      "outputs": []
    },
    {
      "cell_type": "code",
      "metadata": {
        "id": "is28cRf4cpur",
        "colab_type": "code",
        "colab": {}
      },
      "source": [
        "# Evaluate shape of data with reduced dimensions\n",
        "test_images_red.shape, train_images_red.shape, val_images_red.shape"
      ],
      "execution_count": null,
      "outputs": []
    },
    {
      "cell_type": "markdown",
      "metadata": {
        "id": "srI1GbF1cpuu",
        "colab_type": "text"
      },
      "source": [
        "## Build \"best\" network before dimension reduction\n",
        "* Using the \"best\" model from Experiment 3, our baseline network consists of a sequence of two Dense layers, which are densely-connected (also called \"fully-connected\") neural layers.\n",
        "\n",
        "* The first Dense layer, the hidden layer, consists of 600 nodes.\n",
        "\n",
        "* The second (and last) layer is a 10-way \"softmax\" layer, which means it will return an array of 10 probability scores (summing to 1). Each score will be the probability that the current digit image belongs to one of our 10 digit classes."
      ]
    },
    {
      "cell_type": "code",
      "metadata": {
        "id": "O80Zg7qacpuu",
        "colab_type": "code",
        "colab": {}
      },
      "source": [
        "# # If loading previous model:\n",
        "# model = model_3()\n",
        "# model_4 = load_model_3('results/mnist_model_3.h5')\n",
        "\n",
        "model_4 = models.Sequential()\n",
        "model_4.add(layers.Dense(700, activation='sigmoid', input_shape=(28 * 28,)))\n",
        "model_4.add(layers.Dense(10, activation='softmax')) "
      ],
      "execution_count": null,
      "outputs": []
    },
    {
      "cell_type": "code",
      "metadata": {
        "id": "FOTygtIocpuz",
        "colab_type": "code",
        "colab": {}
      },
      "source": [
        "model_4.summary()"
      ],
      "execution_count": null,
      "outputs": []
    },
    {
      "cell_type": "markdown",
      "metadata": {
        "id": "pl10XCz2cpu1",
        "colab_type": "text"
      },
      "source": [
        "## Compile model\n",
        "\n",
        "To make our network ready for training, we need to pick three more things, as part of \"compilation\" step:\n",
        "\n",
        "* A loss function: the is how the network will be able to measure how good a job it is doing on its training data, and thus how it will be able to steer itself in the right direction.\n",
        "* An optimizer: this is the mechanism through which the network will update itself based on the data it sees and its loss function.\n",
        "* Metrics to monitor during training and testing. Here we will only care about accuracy (the fraction of the images that were correctly classified)."
      ]
    },
    {
      "cell_type": "code",
      "metadata": {
        "id": "UepsPYQMcpu2",
        "colab_type": "code",
        "colab": {}
      },
      "source": [
        "# Compile the model\n",
        "model_4.compile(loss='sparse_categorical_crossentropy', optimizer='Adam', metrics=['accuracy'])"
      ],
      "execution_count": null,
      "outputs": []
    },
    {
      "cell_type": "markdown",
      "metadata": {
        "id": "frgwMOYjcpu6",
        "colab_type": "text"
      },
      "source": [
        "## Train model\n",
        "\n",
        "We are now ready to train our network, which in Keras is done via a call to the `fit` method of the network: \n",
        "we \"fit\" the model to its training data. We train the model for 30 epochs with batch size 32 (the default)."
      ]
    },
    {
      "cell_type": "code",
      "metadata": {
        "id": "SRS0zeGVcpu7",
        "colab_type": "code",
        "colab": {}
      },
      "source": [
        "# If loading previous model:\n",
        "# model = model_2()\n",
        "# model = load_model_3('results/keras_mnist_model_3.h5')\n",
        "\n",
        "# Train the model\n",
        "start_time = time.time()\n",
        "history = model_4.fit(train_images, train_labels, epochs=30,\n",
        "                    validation_data=(val_images, val_labels),\n",
        "                    callbacks=[keras.callbacks.EarlyStopping(patience=10)])\n",
        "elapsed_time = time.time() - start_time\n",
        "print('--------------------------')\n",
        "print('Training time in seconds: ', round(elapsed_time,2))\n",
        "print('--------------------------')\n",
        "\n",
        "# Saving models locally after fitting\n",
        "# save_dir = \"results/\"\n",
        "# model_name = 'mnist_model_4.h5'\n",
        "# model_path = os.path.join(save_dir, model_name)\n",
        "# model_4.save(model_path)\n",
        "# print('Saved trained model at %s ' % model_path)\n",
        "# print('--------------------------')"
      ],
      "execution_count": null,
      "outputs": []
    },
    {
      "cell_type": "markdown",
      "metadata": {
        "id": "HZvuJ9LscpvA",
        "colab_type": "text"
      },
      "source": [
        "## Test model\n",
        "\n",
        "Evaluate the model on the test dataset."
      ]
    },
    {
      "cell_type": "code",
      "metadata": {
        "id": "W_QDTGqxcpvA",
        "colab_type": "code",
        "colab": {}
      },
      "source": [
        "test_loss, test_acc = model_4.evaluate(test_images, test_labels)"
      ],
      "execution_count": null,
      "outputs": []
    },
    {
      "cell_type": "code",
      "metadata": {
        "id": "zsCuoU7VcpvJ",
        "colab_type": "code",
        "colab": {}
      },
      "source": [
        "print(f'test accuracy: {test_acc}, test loss: {test_loss}')"
      ],
      "execution_count": null,
      "outputs": []
    },
    {
      "cell_type": "markdown",
      "metadata": {
        "id": "gXvWdF95cpvU",
        "colab_type": "text"
      },
      "source": [
        "## Building, training and testing the model on the new data\n",
        "\n",
        "We modify the model to take input with dimension (154,)"
      ]
    },
    {
      "cell_type": "code",
      "metadata": {
        "id": "Fp5k3Y2TcpvY",
        "colab_type": "code",
        "colab": {}
      },
      "source": [
        "# check started code for input dimensions\n",
        "\n",
        "model_4_pca = models.Sequential()\n",
        "model_4_pca.add(layers.Dense(700, activation='sigmoid', input_shape=(154,)))\n",
        "model_4_pca.add(layers.Dense(10, activation='softmax')) "
      ],
      "execution_count": null,
      "outputs": []
    },
    {
      "cell_type": "code",
      "metadata": {
        "id": "t9nn5Sflcpvd",
        "colab_type": "code",
        "colab": {}
      },
      "source": [
        "# For use with non-categorical labels\n",
        "model_4_pca.compile(optimizer='Adam',\n",
        "                loss='sparse_categorical_crossentropy',\n",
        "                metrics=['accuracy'])"
      ],
      "execution_count": null,
      "outputs": []
    },
    {
      "cell_type": "code",
      "metadata": {
        "id": "fRXVGb_5cpvf",
        "colab_type": "code",
        "colab": {}
      },
      "source": [
        "# Train the model with the lower-dimensional data\n",
        "start_time = time.time()\n",
        "history = model_4_pca.fit(train_images_red, train_labels, epochs=30,\n",
        "                      validation_data=(val_images_red, val_labels),\n",
        "                      callbacks=[keras.callbacks.EarlyStopping(patience=10)])\n",
        "elapsed_time = time.time() - start_time\n",
        "print('--------------------------')\n",
        "print('Training time in seconds: ', round(elapsed_time,2))\n",
        "print('--------------------------')\n",
        "\n",
        "# Saving models locally after fitting\n",
        "save_dir = \"results/\"\n",
        "model_name = 'mnist_model_4_pca.h5'\n",
        "model_path = os.path.join(save_dir, model_name)\n",
        "model_4.save(model_path)\n",
        "print('Saved trained model at %s ' % model_path)\n",
        "print('--------------------------')"
      ],
      "execution_count": null,
      "outputs": []
    },
    {
      "cell_type": "code",
      "metadata": {
        "id": "PeAHvSgfcpvk",
        "colab_type": "code",
        "colab": {}
      },
      "source": [
        "hist_dict = history.history\n",
        "hist_dict.keys()"
      ],
      "execution_count": null,
      "outputs": []
    },
    {
      "cell_type": "code",
      "metadata": {
        "id": "DLvb9nizcpvn",
        "colab_type": "code",
        "colab": {}
      },
      "source": [
        "print(f'''acc: {hist_dict['accuracy'][-1]:.4}, val acc: {hist_dict['val_accuracy'][-1]:.4},\n",
        "loss: {hist_dict['loss'][-1]:.4}, val loss: {hist_dict['val_loss'][-1]:.4}''')"
      ],
      "execution_count": null,
      "outputs": []
    },
    {
      "cell_type": "markdown",
      "metadata": {
        "id": "34OYU7Gicpvp",
        "colab_type": "text"
      },
      "source": [
        "## Test model\n",
        "\n",
        "Evaluate the model on the test dataset."
      ]
    },
    {
      "cell_type": "code",
      "metadata": {
        "id": "X8hfE03qcpvq",
        "colab_type": "code",
        "colab": {}
      },
      "source": [
        "test_loss, test_acc = model_4_pca.evaluate(test_images_red, test_labels)"
      ],
      "execution_count": null,
      "outputs": []
    },
    {
      "cell_type": "code",
      "metadata": {
        "id": "7w1_0Z2rcpvs",
        "colab_type": "code",
        "colab": {}
      },
      "source": [
        "# Results\n",
        "print(f'test acc: {test_acc}, test loss: {test_loss}')  "
      ],
      "execution_count": null,
      "outputs": []
    },
    {
      "cell_type": "markdown",
      "metadata": {
        "id": "7Wz25VFvcpv7",
        "colab_type": "text"
      },
      "source": [
        "## Comparison of the two models\n",
        "\n",
        "Reducing the dimensions from 784 to 154 had no negative impact on the performance of our 'best' model. Training time was greatly reduced, which could be a factor for higher-dimensionality data."
      ]
    },
    {
      "cell_type": "markdown",
      "metadata": {
        "id": "vunLhW2_cpv7",
        "colab_type": "text"
      },
      "source": [
        "## Plot performance of model with dimension reduction applied"
      ]
    },
    {
      "cell_type": "markdown",
      "metadata": {
        "id": "B57NIBpOcpv-",
        "colab_type": "text"
      },
      "source": [
        "**Figure 15: Learning curves for Model 4 with PCA**"
      ]
    },
    {
      "cell_type": "code",
      "metadata": {
        "id": "Vqeeih3Zcpv_",
        "colab_type": "code",
        "colab": {}
      },
      "source": [
        "# Alternate code for accuracy and loss\n",
        "# Plot learning curves for model\n",
        "pd.DataFrame(history.history).plot(figsize=(8, 5))\n",
        "plt.grid(True)\n",
        "plt.gca().set_ylim(0, 1) # set the vertical range to [0-1]\n",
        "plt.show()"
      ],
      "execution_count": null,
      "outputs": []
    },
    {
      "cell_type": "markdown",
      "metadata": {
        "id": "u6yIJr-HcpwJ",
        "colab_type": "text"
      },
      "source": [
        "## EXPERIMENT  5\n",
        "\n",
        "We use a Random Forest classifier to get the relative importance of the 784 features (pixels) of the 28x28 dimensional images in training set of MNIST images and select the top 70 features (pixels). We train our 'best' dense neural network using these 70 features and compare its performance to the the DNN models from EXPERIMENTS 3 and 4."
      ]
    },
    {
      "cell_type": "markdown",
      "metadata": {
        "id": "D6pV-v1vcpwK",
        "colab_type": "text"
      },
      "source": [
        "## Reducing dimensionality of the data with Random Forests\n",
        "\n",
        "We create a Random Forest Classifier (with the default 100 trees) and use it to find the relative importance of the 784 features (pixels) in the training set. We produce a heat map to visual the relative importance of the features (using code from Hands On Machine Learning by A. Geron). Finally, we select the 70 most important feature (pixels) from the training, validation and test images to test our 'best' model on."
      ]
    },
    {
      "cell_type": "code",
      "metadata": {
        "id": "dGKKNkyHcpwK",
        "colab_type": "code",
        "colab": {}
      },
      "source": [
        "# Define and train model\n",
        "rnd_clf = RandomForestClassifier(n_estimators=100, random_state=42)\n",
        "rnd_clf.fit(train_images,train_labels)"
      ],
      "execution_count": null,
      "outputs": []
    },
    {
      "cell_type": "code",
      "metadata": {
        "id": "GUYE5G3IcpwP",
        "colab_type": "code",
        "colab": {}
      },
      "source": [
        "# https://github.com/ageron/handson-ml2/blob/master/07_ensemble_learning_and_random_forests.ipynb\n",
        "import matplotlib as mpl\n",
        "# import matplotlib.pyplot as plt\n",
        "\n",
        "def plot_digit(data):\n",
        "    image = data.reshape(28, 28)\n",
        "    plt.imshow(image, cmap = mpl.cm.hot,\n",
        "               interpolation=\"nearest\")\n",
        "    plt.axis(\"off\")\n",
        "\n",
        "plot_digit(rnd_clf.feature_importances_)\n",
        "\n",
        "cbar = plt.colorbar(ticks=[rnd_clf.feature_importances_.min(), rnd_clf.feature_importances_.max()])\n",
        "cbar.ax.set_yticklabels(['Not important', 'Very important'])\n",
        "\n",
        "plt.show()"
      ],
      "execution_count": null,
      "outputs": []
    },
    {
      "cell_type": "code",
      "metadata": {
        "id": "4ZEHiKH2cpwd",
        "colab_type": "code",
        "colab": {}
      },
      "source": [
        "# Get the indices of the 70 most \"important\" features\n",
        "# https://stackoverflow.com/questions/6910641/how-do-i-get-indices-of-n-maximum-values-in-a-numpy-array\n",
        "n = 70\n",
        "imp_arr = rnd_clf.feature_importances_\n",
        "idx = (-imp_arr).argsort()[:n]          # get the indices of the 70 \"most important\" features/pixels\n",
        "len(idx)"
      ],
      "execution_count": null,
      "outputs": []
    },
    {
      "cell_type": "code",
      "metadata": {
        "id": "L_Cf07w6cpwg",
        "colab_type": "code",
        "colab": {}
      },
      "source": [
        "# Create training, validation and test images using just the 70 pixel locations obtained above\n",
        "train_images_sm = train_images[:,idx]\n",
        "val_images_sm = val_images[:,idx]\n",
        "test_images_sm = test_images[:,idx]\n",
        "train_images_sm.shape, val_images.shape, test_images_sm.shape # the reduced images have dimension 70"
      ],
      "execution_count": null,
      "outputs": []
    },
    {
      "cell_type": "markdown",
      "metadata": {
        "id": "a4m-uqt_cpwt",
        "colab_type": "text"
      },
      "source": [
        "## Visualize the 70 pixels\n",
        "\n",
        "We convert the array of indexes to ordered pairs and plot them as red circles on the second training image. \n",
        "These are the feature we are training our neural network on. "
      ]
    },
    {
      "cell_type": "code",
      "metadata": {
        "id": "Bkse1Xbocpwu",
        "colab_type": "code",
        "colab": {}
      },
      "source": [
        "# to convert an index n, 0<= n < 784\n",
        "def pair(n,size):\n",
        "    x = n//size \n",
        "    y = n%size\n",
        "    return x,y"
      ],
      "execution_count": null,
      "outputs": []
    },
    {
      "cell_type": "code",
      "metadata": {
        "id": "jjVJiR4KcpxD",
        "colab_type": "code",
        "colab": {}
      },
      "source": [
        "# Visualize features\n",
        "plt.imshow(train_images[1].reshape(28,28),cmap='binary')\n",
        "x, y = np.array([pair(k,28) for k in idx]).T\n",
        "plt.scatter(x,y,color='red',s=20)"
      ],
      "execution_count": null,
      "outputs": []
    },
    {
      "cell_type": "markdown",
      "metadata": {
        "id": "GtnZeOb2cpxM",
        "colab_type": "text"
      },
      "source": [
        "## Build 'best' network (before reducing dimensions)\n",
        "\n",
        "Recall from `Experiment 3` that our network consists of a sequence of two `Dense` layers, which are densely-connected (also called \"fully-connected\") neural layers. \n",
        "\n",
        "The first `Dense` layer, the hidden layer, consists of `700 nodes`.\n",
        "\n",
        "The second (and last) layer is a 10-way \"softmax\" layer, which means it will return an array of 10 probability scores (summing to 1). Each  score will be the probability that the current digit image belongs to one of our 10 digit classes."
      ]
    },
    {
      "cell_type": "code",
      "metadata": {
        "id": "14pMt26mcpxM",
        "colab_type": "code",
        "colab": {}
      },
      "source": [
        "# If loading previous model:\n",
        "# model = model_5()\n",
        "# model_5 = load_model_5('results/mnist_model_4.h5')\n",
        "\n",
        "model_5 = models.Sequential()\n",
        "model_5.add(layers.Dense(700, activation='sigmoid', input_shape=(28 * 28,)))\n",
        "model_5.add(layers.Dense(10, activation='softmax')) "
      ],
      "execution_count": null,
      "outputs": []
    },
    {
      "cell_type": "code",
      "metadata": {
        "id": "HTfvZwEucpyL",
        "colab_type": "code",
        "colab": {}
      },
      "source": [
        "model_5.summary()"
      ],
      "execution_count": null,
      "outputs": []
    },
    {
      "cell_type": "markdown",
      "metadata": {
        "id": "Vnv5KgPncpyP",
        "colab_type": "text"
      },
      "source": [
        "## Compile model\n",
        "\n",
        "To make our network ready for training, we need to pick three more things, as part of \"compilation\" step:\n",
        "\n",
        "* A loss function: the is how the network will be able to measure how good a job it is doing on its training data, and thus how it will be able to steer itself in the right direction.\n",
        "* An optimizer: this is the mechanism through which the network will update itself based on the data it sees and its loss function.\n",
        "* Metrics to monitor during training and testing. Here we will only care about accuracy (the fraction of the images that were correctly classified)."
      ]
    },
    {
      "cell_type": "code",
      "metadata": {
        "id": "RlS5C_x-cpyP",
        "colab_type": "code",
        "colab": {}
      },
      "source": [
        "# For use with non-categorical labels\n",
        "model_5.compile(optimizer='Adam',\n",
        "                loss='sparse_categorical_crossentropy',\n",
        "                metrics=['accuracy'])"
      ],
      "execution_count": null,
      "outputs": []
    },
    {
      "cell_type": "markdown",
      "metadata": {
        "id": "ng5CXnLfcpy1",
        "colab_type": "text"
      },
      "source": [
        "## Train model\n",
        "\n",
        "We are now ready to train our network, which in Keras is done via a call to the `fit` method of the network: \n",
        "we \"fit\" the model to its training data. We train the model for 30 epochs with batch size 32 (the default)."
      ]
    },
    {
      "cell_type": "code",
      "metadata": {
        "id": "5H_nBugNcpy3",
        "colab_type": "code",
        "colab": {}
      },
      "source": [
        "# If loading previous model:\n",
        "# model = model_2()\n",
        "# model = load_model_3('results/keras_mnist_model_3.h5')\n",
        "\n",
        "# Train the model\n",
        "start_time = time.time()\n",
        "history = model_5.fit(train_images, train_labels, epochs=30,\n",
        "                    validation_data=(val_images, val_labels),\n",
        "                    callbacks=[keras.callbacks.EarlyStopping(patience=10)])\n",
        "elapsed_time = time.time() - start_time\n",
        "print('--------------------------')\n",
        "print('Training time in seconds: ', round(elapsed_time,2))\n",
        "print('--------------------------')\n",
        "\n",
        "# Saving models locally after fitting\n",
        "# save_dir = \"results/\"\n",
        "# model_name = 'mnist_model_5.h5'\n",
        "# model_path = os.path.join(save_dir, model_name)\n",
        "# model_5.save(model_path)\n",
        "# print('Saved trained model at %s ' % model_path)\n",
        "# print('--------------------------')"
      ],
      "execution_count": null,
      "outputs": []
    },
    {
      "cell_type": "code",
      "metadata": {
        "id": "0LxOsIKYcpzA",
        "colab_type": "code",
        "colab": {}
      },
      "source": [
        "hist_dict = history.history\n",
        "hist_dict.keys()"
      ],
      "execution_count": null,
      "outputs": []
    },
    {
      "cell_type": "code",
      "metadata": {
        "id": "Chowl98Gcpzo",
        "colab_type": "code",
        "colab": {}
      },
      "source": [
        "print(f'''acc: {hist_dict['accuracy'][-1]:.4}, val acc: {hist_dict['val_accuracy'][-1]:.4},\n",
        "loss: {hist_dict['loss'][-1]:.4}, val loss: {hist_dict['val_loss'][-1]:.4}''')"
      ],
      "execution_count": null,
      "outputs": []
    },
    {
      "cell_type": "markdown",
      "metadata": {
        "id": "sLNkYugBcpzs",
        "colab_type": "text"
      },
      "source": [
        "## Test model\n",
        "\n",
        "Evaluate the model on the test dataset."
      ]
    },
    {
      "cell_type": "code",
      "metadata": {
        "id": "nZwM2v6vcpzt",
        "colab_type": "code",
        "colab": {}
      },
      "source": [
        "test_loss, test_acc = model_5.evaluate(test_images, test_labels)"
      ],
      "execution_count": null,
      "outputs": []
    },
    {
      "cell_type": "code",
      "metadata": {
        "id": "AmIdRVbocpzw",
        "colab_type": "code",
        "colab": {}
      },
      "source": [
        "print(f'test accuracy: {test_acc}, test loss: {test_loss}')"
      ],
      "execution_count": null,
      "outputs": []
    },
    {
      "cell_type": "markdown",
      "metadata": {
        "id": "3KiBUqMKcpz0",
        "colab_type": "text"
      },
      "source": [
        "## Build, train and test the model on the new data\n",
        "\n",
        "We modify the model to take input with dimension (70,)"
      ]
    },
    {
      "cell_type": "code",
      "metadata": {
        "id": "D_CGKDHscpz0",
        "colab_type": "code",
        "colab": {}
      },
      "source": [
        "model_5_rf = models.Sequential()\n",
        "model_5_rf.add(layers.Dense(700, activation='relu', input_shape=(70,)))\n",
        "model_5_rf.add(layers.Dense(10, activation='softmax'))  "
      ],
      "execution_count": null,
      "outputs": []
    },
    {
      "cell_type": "code",
      "metadata": {
        "id": "oye35jQJcpz2",
        "colab_type": "code",
        "colab": {}
      },
      "source": [
        "# Compile the model\n",
        "model_5_rf.compile(optimizer='Adam',\n",
        "                loss='sparse_categorical_crossentropy',\n",
        "                metrics=['accuracy'])"
      ],
      "execution_count": null,
      "outputs": []
    },
    {
      "cell_type": "code",
      "metadata": {
        "id": "t11PZirMcpz5",
        "colab_type": "code",
        "colab": {}
      },
      "source": [
        "# Train the model\n",
        "start_time = time.time()\n",
        "history = model_5_rf.fit(train_images_sm, train_labels, epochs=30,\n",
        "                    validation_data=(val_images_sm, val_labels),\n",
        "                    callbacks=[keras.callbacks.EarlyStopping(patience=10)])\n",
        "elapsed_time = time.time() - start_time\n",
        "print('--------------------------')\n",
        "print('Training time in seconds: ', round(elapsed_time,2))\n",
        "print('--------------------------')\n",
        "\n",
        "# Saving models locally after fitting\n",
        "# save_dir = \"results/\"\n",
        "# model_name = 'mnist_model_5_rf.h5'\n",
        "# model_path = os.path.join(save_dir, model_name)\n",
        "# model_5_rf.save(model_path)\n",
        "# print('Saved trained model at %s ' % model_path)\n",
        "# print('--------------------------')"
      ],
      "execution_count": null,
      "outputs": []
    },
    {
      "cell_type": "code",
      "metadata": {
        "id": "O0kKtrA4cpz_",
        "colab_type": "code",
        "colab": {}
      },
      "source": [
        "hist_dict = history.history\n",
        "hist_dict.keys()"
      ],
      "execution_count": null,
      "outputs": []
    },
    {
      "cell_type": "code",
      "metadata": {
        "id": "melpYSAQcp0T",
        "colab_type": "code",
        "colab": {}
      },
      "source": [
        "print(f'''acc: {hist_dict['accuracy'][-1]:.4}, val acc: {hist_dict['val_accuracy'][-1]:.4},\n",
        "loss: {hist_dict['loss'][-1]:.4}, val loss: {hist_dict['val_loss'][-1]:.4}''')"
      ],
      "execution_count": null,
      "outputs": []
    },
    {
      "cell_type": "markdown",
      "metadata": {
        "id": "0hYMwCzqcp0a",
        "colab_type": "text"
      },
      "source": [
        "## Test model\n",
        "\n",
        "Evaluate the model on the test dataset."
      ]
    },
    {
      "cell_type": "code",
      "metadata": {
        "id": "xKV3MZH3cp0n",
        "colab_type": "code",
        "colab": {}
      },
      "source": [
        "test_loss, test_acc = model_5_rf.evaluate(test_images_sm, test_labels)"
      ],
      "execution_count": null,
      "outputs": []
    },
    {
      "cell_type": "code",
      "metadata": {
        "id": "PmIhR-mXcp05",
        "colab_type": "code",
        "colab": {}
      },
      "source": [
        "print(f'test accuracy: {test_acc}, test loss: {test_loss}')"
      ],
      "execution_count": null,
      "outputs": []
    },
    {
      "cell_type": "markdown",
      "metadata": {
        "id": "UuvW94iWcp09",
        "colab_type": "text"
      },
      "source": [
        "## Comparison of the three models: \"best\", PCA, and Random Forest\n",
        "\n",
        "The performance of the this newest model is surprisingly good given the dimensions were reduced from 784 to 70. Future experiments could reduce the dimensions from 784 to 154 so we can compare the effects of the `PCA` and `Random Forest Classifier` approaches to dimension reduction on the performance of our `best` model. As we noted in our analysis in `EXPERIMENT 3`, using `PCA` to reduce the number of dimensions from 784 to 154 had no negative impact on the performance of our 'best' model."
      ]
    },
    {
      "cell_type": "markdown",
      "metadata": {
        "id": "rDg4VgCJcp09",
        "colab_type": "text"
      },
      "source": [
        "**Figure 16: Learning curves for Model 5 with reduced dimensions (via Random Forest)**"
      ]
    },
    {
      "cell_type": "code",
      "metadata": {
        "id": "HYWsEOStcp0-",
        "colab_type": "code",
        "colab": {}
      },
      "source": [
        "# Alternate code for accuracy and loss\n",
        "# Plot learning curves for model\n",
        "pd.DataFrame(history.history).plot(figsize=(8, 5))\n",
        "plt.grid(True)\n",
        "plt.gca().set_ylim(0, 1) # set the vertical range to [0-1]\n",
        "plt.show()"
      ],
      "execution_count": null,
      "outputs": []
    }
  ]
}